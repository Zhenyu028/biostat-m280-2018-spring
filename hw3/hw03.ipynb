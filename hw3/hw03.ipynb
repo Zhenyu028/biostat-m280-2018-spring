{
 "cells": [
  {
   "cell_type": "markdown",
   "metadata": {},
   "source": [
    "# Biostat M280 Homework 3\n",
    "\n",
    "**Due Friday, May 25 @ 11:59PM**"
   ]
  },
  {
   "cell_type": "markdown",
   "metadata": {},
   "source": [
    "## Q1 - Big $n$ regression\n",
    "\n",
    "Those who took my _203B: Introduction to Data Science_ last quarter had a (painful) experience of wrangling an Apache Spark cluster to do linear regression on a dataset with more than 100 million observations. Now we learnt various methods for solving linear regression and should realize that, with right choice of algorithm, it is a problem that can be handled by any moderate computer."
   ]
  },
  {
   "cell_type": "markdown",
   "metadata": {},
   "source": [
    "### Q1(1)\n",
    "\n",
    "Download the flight data from <http://stat-computing.org/dataexpo/2009/the-data.html>. For this exercise, we only need data from years 2003-2008. If you are using Mac or Linux, you can run the following Bash script, which downloads and unzips files for all years.\n",
    "```bash\n",
    "# Download flight data by year\n",
    "for i in {1987..2008}\n",
    "  do\n",
    "    echo \"$(date) $i Download\"\n",
    "    fnam=$i.csv.bz2\n",
    "    wget -O ./$fnam http://stat-computing.org/dataexpo/2009/$fnam\n",
    "    echo \"$(date) $i unzip\"\n",
    "    bzip2 -d ./$fnam\n",
    "  done\n",
    "\n",
    "# Download airline carrier data\n",
    "wget -O ./airlines.csv http://www.transtats.bts.gov/Download_Lookup.asp?Lookup=L_UNIQUE_CARRIERS\n",
    "\n",
    "# Download airports data\n",
    "wget -O ./airports.csv https://raw.githubusercontent.com/jpatokal/openflights/master/data/airports.dat\n",
    "```\n",
    "Find out how many data points in each year."
   ]
  },
  {
   "cell_type": "code",
   "execution_count": 6,
   "metadata": {},
   "outputs": [
    {
     "name": "stdout",
     "output_type": "stream",
     "text": [
      "c2003 = countlines(\"2003.csv\") = 6488541\n",
      "c2004 = countlines(\"2004.csv\") = 7129271\n",
      "c2005 = countlines(\"2005.csv\") = 7140597\n",
      "c2006 = countlines(\"2006.csv\") = 7141923\n",
      "c2007 = countlines(\"2007.csv\") = 7453216\n",
      "c2008 = countlines(\"2008.csv\") = 7009729\n",
      "total_lines = c2003 + c2004 + c2005 + c2006 + c2007 + c2008 = 42363277\n"
     ]
    },
    {
     "data": {
      "text/plain": [
       "42363277"
      ]
     },
     "execution_count": 6,
     "metadata": {},
     "output_type": "execute_result"
    }
   ],
   "source": [
    "@show c2003 = countlines(\"2003.csv\")\n",
    "@show c2004 = countlines(\"2004.csv\")\n",
    "@show c2005 = countlines(\"2005.csv\")\n",
    "@show c2006 = countlines(\"2006.csv\")\n",
    "@show c2007 = countlines(\"2007.csv\")\n",
    "@show c2008 = countlines(\"2008.csv\")\n",
    "@show total_lines = c2003 + c2004 + c2005 + c2006 + c2007 + c2008"
   ]
  },
  {
   "cell_type": "markdown",
   "metadata": {},
   "source": [
    "### Q1(2) \n",
    "\n",
    "We are interested in how the time gain of a flight, defined as `DepDelay - ArrDelay`, depends on the distance traveled (`Distance`), departure delay (`DepDelay`), and carrier (`UniqueCarrier`). \n",
    "\n",
    "We want to fit a linear regression `Gain ~ 1 + Distance + DepDelay + UniqueCarrier` using data from 2003-2008. Note `UniqueCarrier` is a factor with 23 levels: \"9E\", \"AA\", \"AQ\", \"AS\", \"B6\", \"CO\", \"DH\", \"DL\", \"EV\", \"F9\", \"FL\", \"HA\", \"HP\", \"MQ\", \"NW\", \"OH\", \"OO\", \"TZ\", \"UA\", \"US\", \"WN\", \"XE\", and \"YV\". We use the dummy coding with \"9E\" as base level.\n",
    "\n",
    "Will the design matrix (in double precision) fit into the memory of you computer?"
   ]
  },
  {
   "cell_type": "markdown",
   "metadata": {},
   "source": [
    "**(2)** Data from 2003-2008 contain 42363277 observations. The design matrix has dimension $42363277 \\times 26$, so in total $42363277 \\times 26$ of double-precision numbers. Every double-precision number is 8 bytes. We need a memory of $42363277 \\times 26 \\times 8 / 10^9 \\sim $8.81GB to fit the whole matrix. My poor MacBook with a 8GB memory can not handle it."
   ]
  },
  {
   "cell_type": "markdown",
   "metadata": {},
   "source": [
    "### Q1(3)\n",
    "\n",
    "Review the [Summary of Linear Regression](http://hua-zhou.github.io/teaching/biostatm280-2018spring/slides/12-linreg/linreg.html) and devise a strategy to solve the linear regression.\n",
    "\n",
    "Report the estimated regression coefficients $\\widehat \\beta$, estimated variance $\\widehat \\sigma^2 = \\sum_i (y_i - \\widehat y_i)^2 / (n - 1)$, and coefficient standard errors.\n",
    "\n",
    "Hint: It took my laptop less than 3 minutes to import data and fit linear regression."
   ]
  },
  {
   "cell_type": "code",
   "execution_count": 145,
   "metadata": {},
   "outputs": [
    {
     "name": "stderr",
     "output_type": "stream",
     "text": [
      "WARNING: redefining constant var2col\n",
      "WARNING: redefining constant col2var\n"
     ]
    },
    {
     "data": {
      "text/plain": [
       "generate_xy (generic function with 1 method)"
      ]
     },
     "execution_count": 145,
     "metadata": {},
     "output_type": "execute_result"
    }
   ],
   "source": [
    "# mapping from variable names to X columns\n",
    "# carrier \"9E\" is used as base level\n",
    "const var2col = Dict(\n",
    "        \"Intercept\" => 1,\n",
    "        \"Distance\" => 2,\n",
    "        \"DepDelay\" => 3,\n",
    "        \"AA\" => 4,\n",
    "        \"AQ\" => 5,\n",
    "        \"AS\" => 6,\n",
    "        \"B6\" => 7,\n",
    "        \"CO\" => 8,\n",
    "        \"DH\" => 9,\n",
    "        \"DL\" => 10,\n",
    "        \"EV\" => 11,\n",
    "        \"F9\" => 12,\n",
    "        \"FL\" => 13,\n",
    "        \"HA\" => 14,\n",
    "        \"HP\" => 15,\n",
    "        \"MQ\" => 16,\n",
    "        \"NW\" => 17,\n",
    "        \"OH\" => 18,\n",
    "        \"OO\" => 19,\n",
    "        \"TZ\" => 20,\n",
    "        \"UA\" => 21,\n",
    "        \"US\" => 22,\n",
    "        \"WN\" => 23,\n",
    "        \"XE\" => 24,\n",
    "        \"YV\" => 25,\n",
    "        \"Gain\" => 26)\n",
    "# mapping from column to variable names\n",
    "const col2var = map(reverse, var2col)\n",
    "\n",
    "# a custom function to generate [X y] from data table\n",
    "function generate_xy(tbl::NextTable)\n",
    "    # X matrix\n",
    "    XY = zeros(length(tbl), 26)\n",
    "    # intercept term\n",
    "    @views fill!(XY[:, 1], 1)\n",
    "    # Distance term\n",
    "    @views copy!(XY[:, 2], columns(tbl, :Distance))\n",
    "    # DepDelay term\n",
    "    @views copy!(XY[:, 3], columns(tbl, :DepDelay))\n",
    "    # Dummy coding for airline\n",
    "    @inbounds for i in 1:length(tbl)\n",
    "        tbl[i][:UniqueCarrier] == \"9E\" && continue # base level\n",
    "        XY[i, var2col[tbl[i][:UniqueCarrier]]] = 1\n",
    "    end\n",
    "    # last column is response: gain = depdelay - arrdelay\n",
    "    XY[:, 26] = select(tbl, \n",
    "        (:DepDelay, :ArrDelay) => p -> Float64(p.DepDelay - p.ArrDelay))\n",
    "    # return\n",
    "    XY\n",
    "end"
   ]
  },
  {
   "cell_type": "code",
   "execution_count": 146,
   "metadata": {},
   "outputs": [
    {
     "name": "stdout",
     "output_type": "stream",
     "text": [
      "268.603163 seconds (483.62 M allocations: 44.737 GiB, 18.92% gc time)\n"
     ]
    },
    {
     "data": {
      "text/plain": [
       "26×26 Array{Float64,2}:\n",
       "     -2.00254e-6   4.21792e-11  …   1.98347e-6    1.14033   \n",
       "      3.00028e10  -9.38376e-14     -5.01596e-12   0.00164935\n",
       "      3.69821e8    2.76146e11       1.16836e-10  -0.0118811 \n",
       "      3.91626e6    4.19149e9       -1.97927e-6   -1.8723    \n",
       "  88336.0          3.75197e7       -1.98134e-6   -0.5789    \n",
       " 937547.0          8.30881e8    …  -1.98009e-6   -0.938452  \n",
       " 799117.0          9.55599e8       -1.97878e-6   -1.42247   \n",
       "      1.8094e6     2.03781e9       -1.97887e-6   -2.57627   \n",
       " 669687.0          2.51484e8       -1.98271e-6    1.16808   \n",
       "      3.37715e6    2.9514e9        -1.97993e-6   -2.19625   \n",
       "      1.64509e6    7.42218e8    …  -1.98278e-6    1.03932   \n",
       " 334842.0          2.97744e8       -1.97972e-6   -2.15207   \n",
       "      1.24932e6    8.33171e8       -1.98132e-6   -1.35247   \n",
       " 272859.0          1.61374e8       -1.98044e-6   -1.87248   \n",
       " 574927.0          5.84803e8       -1.97917e-6   -0.350758  \n",
       "      2.90986e6    1.13812e9    …  -1.98262e-6   -1.46395   \n",
       "      2.64244e6    2.01399e9       -1.98034e-6   -3.62506   \n",
       "      1.41412e6    6.64003e8       -1.9822e-6    -0.00722279\n",
       "      3.02053e6    1.17539e9       -1.98236e-6   -0.40365   \n",
       " 206007.0          2.37097e8       -1.97834e-6   -3.5774    \n",
       "      2.96794e6    3.19798e9    …  -1.97923e-6   -1.14816   \n",
       "      2.65381e6    2.03684e9       -1.98051e-6   -0.883753  \n",
       "      6.38387e6    3.87575e9       -1.98156e-6    2.74855   \n",
       "      2.29046e6    1.23256e9       -1.98175e-6   -2.56721   \n",
       " 822290.0          3.27927e8       -3.19909e-6   -0.202211  \n",
       "      6.0236e7     5.75882e10   …   1.18638e6     8.48076e9 "
      ]
     },
     "execution_count": 146,
     "metadata": {},
     "output_type": "execute_result"
    }
   ],
   "source": [
    "# maybe a function\n",
    "using JuliaDB\n",
    "# pre-allocate a matrix gram_augmented  \n",
    "n = 0\n",
    "p = 26\n",
    "\n",
    "gram_augmented = zeros(p, p)\n",
    "gram_augmented_sum = zeros(p, p)\n",
    "@time for year = 2003:2008\n",
    "    filename = join([string(year), \".csv\"]) \n",
    "    yrtable = loadtable(\n",
    "        filename, \n",
    "        datacols = [\"DepDelay\", \"ArrDelay\", \"UniqueCarrier\", \"Distance\"])\n",
    "    yrtable = dropna(yrtable)\n",
    "    xy_matrix = generate_xy(yrtable)\n",
    "    n += size(xy_matrix, 1)\n",
    "    gram_augmented = At_mul_B(xy_matrix, xy_matrix)\n",
    "    gram_augmented_sum += gram_augmented\n",
    "end\n",
    "\n",
    "using SweepOperator\n",
    "sweep_result = sweep!(gram_augmented_sum, 1:(p - 1))"
   ]
  },
  {
   "cell_type": "markdown",
   "metadata": {},
   "source": [
    "**(3) continued ** Recall that sweeping on the Gram matrix yields \n",
    "\n",
    "$$\n",
    "\\begin{eqnarray*}\n",
    "\\begin{pmatrix}\n",
    "- (\\mathbf{X}^T \\mathbf{X})^{-1} & (\\mathbf{X}^T \\mathbf{X})^{-1} \\mathbf{X}^T \\mathbf{y} \\\\\n",
    "\\mathbf{y}^T \\mathbf{X} (\\mathbf{X}^T \\mathbf{X})^{-1} & \\mathbf{y}^T \\mathbf{y} - \\mathbf{y}^T \\mathbf{X} (\\mathbf{X}^T \\mathbf{X})^{-1} \\mathbf{X}^T \\mathbf{y}\n",
    "\\end{pmatrix} = \n",
    "\\begin{pmatrix}\n",
    "- \\sigma^{-2} \\text{Cov}(\\widehat \\beta) & \\widehat \\beta \\\\\n",
    "\\widehat \\beta^T & \\|\\mathbf{y} - \\hat y\\|_2^2\n",
    "\\end{pmatrix}.\n",
    "\\end{eqnarray*}\n",
    "$$ \n",
    "\n",
    "The estimated regression coefficients $\\widehat \\beta$, estimated variance $\\widehat \\sigma^2 = \\sum_i (y_i - \\widehat y_i)^2 / (n - 1)$, and coefficient standard errors can be easily gained from the sweeped matrix."
   ]
  },
  {
   "cell_type": "markdown",
   "metadata": {},
   "source": [
    "$\\widehat \\beta =$"
   ]
  },
  {
   "cell_type": "code",
   "execution_count": 147,
   "metadata": {},
   "outputs": [
    {
     "data": {
      "text/plain": [
       "25-element Array{Float64,1}:\n",
       "  1.14033   \n",
       "  0.00164935\n",
       " -0.0118811 \n",
       " -1.8723    \n",
       " -0.5789    \n",
       " -0.938452  \n",
       " -1.42247   \n",
       " -2.57627   \n",
       "  1.16808   \n",
       " -2.19625   \n",
       "  1.03932   \n",
       " -2.15207   \n",
       " -1.35247   \n",
       " -1.87248   \n",
       " -0.350758  \n",
       " -1.46395   \n",
       " -3.62506   \n",
       " -0.00722279\n",
       " -0.40365   \n",
       " -3.5774    \n",
       " -1.14816   \n",
       " -0.883753  \n",
       "  2.74855   \n",
       " -2.56721   \n",
       " -0.202211  "
      ]
     },
     "execution_count": 147,
     "metadata": {},
     "output_type": "execute_result"
    }
   ],
   "source": [
    "sweep_result[1:p - 1, p]"
   ]
  },
  {
   "cell_type": "markdown",
   "metadata": {},
   "source": [
    "$\\widehat \\sigma^2 = \\sum_i (y_i - \\widehat y_i)^2 / (n - 1) = $"
   ]
  },
  {
   "cell_type": "code",
   "execution_count": 148,
   "metadata": {},
   "outputs": [
    {
     "data": {
      "text/plain": [
       "204.4031074256946"
      ]
     },
     "execution_count": 148,
     "metadata": {},
     "output_type": "execute_result"
    }
   ],
   "source": [
    "sigma2 = sweep_result[p, p] / (n - 1)"
   ]
  },
  {
   "cell_type": "markdown",
   "metadata": {},
   "source": [
    "Coefficient standard errors"
   ]
  },
  {
   "cell_type": "code",
   "execution_count": 149,
   "metadata": {},
   "outputs": [
    {
     "data": {
      "text/plain": [
       "25-element Array{Float64,1}:\n",
       " 0.0202318 \n",
       " 4.37958e-6\n",
       " 6.88878e-5\n",
       " 0.0215571 \n",
       " 0.0521477 \n",
       " 0.0250361 \n",
       " 0.0259154 \n",
       " 0.0229534 \n",
       " 0.0266552 \n",
       " 0.021659  \n",
       " 0.023012  \n",
       " 0.0319265 \n",
       " 0.023868  \n",
       " 0.0339852 \n",
       " 0.0276918 \n",
       " 0.0218055 \n",
       " 0.0220088 \n",
       " 0.023446  \n",
       " 0.0217463 \n",
       " 0.0375073 \n",
       " 0.0219444 \n",
       " 0.0220022 \n",
       " 0.0209201 \n",
       " 0.0222383 \n",
       " 0.0255715 "
      ]
     },
     "execution_count": 149,
     "metadata": {},
     "output_type": "execute_result"
    }
   ],
   "source": [
    "sqrt.(diag(sweep_result[1:p - 1, 1:p - 1] * (- sigma2)))"
   ]
  },
  {
   "cell_type": "markdown",
   "metadata": {},
   "source": [
    "### Q1(4)\n",
    "\n",
    "Go to your resume/cv and claim you have experience performing analytics on data with hundred millions of observations."
   ]
  },
  {
   "cell_type": "markdown",
   "metadata": {},
   "source": [
    "## Q2 - Google PageRank\n",
    "\n",
    "We are going to try different numerical methods learnt in class on the [Google PageRank problem](https://en.wikipedia.org/wiki/PageRank)."
   ]
  },
  {
   "cell_type": "markdown",
   "metadata": {},
   "source": [
    "### Q2(1)\n",
    "\n",
    "Let $\\mathbf{A} \\in \\{0,1\\}^{n \\times n}$ be the connectivity matrix of $n$ web pages with entries\n",
    "$$\n",
    "\\begin{eqnarray*}\n",
    "\ta_{ij}= \\begin{cases}\n",
    "\t1 & \\text{if page $i$ links to page $j$} \\\\\n",
    "\t0 & \\text{otherwise}\n",
    "\t\\end{cases}.\n",
    "\\end{eqnarray*}\n",
    "$$\n",
    "$r_i = \\sum_j a_{ij}$ is the out-degree of page $i$. That is $r_i$ is the number of links on page $i$. Imagine a random surfer exploring the space of $n$ pages according to the following rules.  \n",
    "\n",
    "- From a page $i$ with $r_i>0$\n",
    "    * with probability $p$, (s)he randomly chooses a link on page $i$ (uniformly) and follows that link to the next page  \n",
    "    * with probability $1-p$, (s)he randomly chooses one page from the set of all $n$ pages (uniformly) and proceeds to that page  \n",
    "- From a page $i$ with $r_i=0$ (a dangling page), (s)he randomly chooses one page from the set of all $n$ pages (uniformly) and proceeds to that page  \n",
    "    \n",
    "The process defines a Markov chain on the space of $n$ pages. Write the transition matrix $\\mathbf{P}$ of the Markov chain as a sparse matrix plus rank 1 matrix."
   ]
  },
  {
   "cell_type": "markdown",
   "metadata": {},
   "source": [
    "The probability of going to page $j$ from page $i$ is $P_{ij}$\n",
    "$$\n",
    "\\begin{equation}\n",
    "\tP_{ij} =\n",
    "\t\\begin{cases}\n",
    "\tp \\times \\frac{a_{ij}}{r_i} + (1 - p) \\times \\frac{1}{n},& \\text{if } r_i > 0\\\\\n",
    "\t\\frac{1}{n},& \\text{if} r_i = 0\n",
    "\t\\end{cases}\n",
    "\\end{equation}\n",
    "$$\n",
    "\n",
    "In matrix notation\n",
    "\n",
    "$$\n",
    "P = diag(\\mathbf{r})A + \\mathbf{z}\\mathbf{1_n}^T\n",
    "$$\n",
    "\n",
    "where $\\mathbf{1_n}$ is 1 by n all-one vector and $\\mathbf{r} \\in R^n$ has elements \n",
    "\n",
    "$$\n",
    "\\begin{equation}\n",
    "\t\\mathbf{r_{i}} =\n",
    "\t\\begin{cases}\n",
    "\t \\frac{p}{r_i},& \\text{if } r_i > 0\\\\\n",
    "\t0,& \\text{if } r_i = 0\n",
    "\t\\end{cases}\n",
    "\\end{equation}\n",
    "$$\n",
    "\n",
    "$\\mathbf{z} \\in R^n$ has elements \n",
    "$$\n",
    "\\begin{equation}\n",
    "\t\\mathbf{z_i} =\n",
    "\t\\begin{cases}\n",
    "\t \\frac{1 - p}{n},& \\text{if } r_i > 0\\\\\n",
    "\t\\frac{1}{n},& \\text{if } r_i = 0\n",
    "\t\\end{cases}\n",
    "\\end{equation}\n",
    "$$\n",
    "\n",
    "We can recognize that $diag(\\mathbf{r})A$ is sparse matrix and $\\mathbf{z}\\mathbf{1_n}^T$ is a low rank matrix.\n"
   ]
  },
  {
   "cell_type": "markdown",
   "metadata": {
    "collapsed": true
   },
   "source": [
    "### Q2(2)\n",
    "\n",
    "According to standard Markov chain theory, the (random) position of the surfer converges to the stationary distribution $\\mathbf{x} = (x_1,\\ldots,x_n)^T$ of the Markov chain. $x_i$ has the natural interpretation of the proportion of times the surfer visits page $i$ in the long run. Therefore $\\mathbf{x}$ serves as page ranks: a higher $x_i$ means page $i$ is more visited. It is well-known that $\\mathbf{x}$ is the left eigenvector corresponding to the top eigenvalue 1 of the transition matrix $\\mathbf{P}$. That is $\\mathbf{P}^T \\mathbf{x} = \\mathbf{x}$. Therefore $\\mathbf{x}$ can be solved as an eigen-problem. Show that it can also be cast as solving a linear system. Since the row sums of $\\mathbf{P}$ are 1, $\\mathbf{P}$ is rank deficient. We can replace the first equation by the $\\sum_{i=1}^n x_i = 1$."
   ]
  },
  {
   "cell_type": "markdown",
   "metadata": {},
   "source": [
    "$(\\mathbf{P}^T -\\mathbf{I} )\\mathbf{x} = \\mathbf{0}$"
   ]
  },
  {
   "cell_type": "markdown",
   "metadata": {},
   "source": [
    "### Q2(3)\n",
    "\n",
    "Download the [`ucla.zip`](http://hua-zhou.github.io/teaching/biostatm280-2018spring/hw/hw3/ucla.zip) package from course webpage. Unzip the package, which contains two files `U.txt` and `A.txt`. `U.txt` lists the 500 URL names. `A.txt` is the $500 \\times 500$ connectivity matrix. Read data into Julia. Compute summary statistics:\n",
    "* number of pages\n",
    "* number of edges\n",
    "* number of dangling nodes (pages with no out links)\n",
    "* which page has max in-degree?\n",
    "* which page has max out-degree?\n",
    "* visualize the sparsity pattern of $\\mathbf{A}$"
   ]
  },
  {
   "cell_type": "code",
   "execution_count": 150,
   "metadata": {},
   "outputs": [],
   "source": [
    "if !isfile(\"A.txt\") || !isfile(\"U.txt\")\n",
    "    download(\"http://hua-zhou.github.io/teaching/\" *\n",
    "        \"biostatm280-2018spring/hw/hw3/ucla.zip\")\n",
    "end\n",
    "\n",
    "U = vec(readdlm(\"U.txt\",'\\n',String));\n",
    "A = readcsv(\"A.txt\");\n",
    "\n",
    "#delete self-links\n",
    "for i in 1:size(A, 1)\n",
    "    A[i, i] = 0.0\n",
    "end\n",
    "\n",
    "# turn the connecting matrix as sparse\n",
    "A = sparse(A);"
   ]
  },
  {
   "cell_type": "markdown",
   "metadata": {},
   "source": [
    "Number of pages is 500,"
   ]
  },
  {
   "cell_type": "code",
   "execution_count": 151,
   "metadata": {},
   "outputs": [
    {
     "name": "stdout",
     "output_type": "stream",
     "text": [
      "size(U, 1) = 500\n",
      "size(A, 1) = 500\n"
     ]
    },
    {
     "data": {
      "text/plain": [
       "500"
      ]
     },
     "execution_count": 151,
     "metadata": {},
     "output_type": "execute_result"
    }
   ],
   "source": [
    "@show size(U,1)\n",
    "@show size(A,1)"
   ]
  },
  {
   "cell_type": "markdown",
   "metadata": {},
   "source": [
    "Number of edges is 10853,"
   ]
  },
  {
   "cell_type": "code",
   "execution_count": 152,
   "metadata": {},
   "outputs": [
    {
     "name": "stdout",
     "output_type": "stream",
     "text": [
      "unique(A) = [0.0, 1.0]\n",
      "sum(A) = 10853.0\n",
      "countnz(A) = 10853\n"
     ]
    },
    {
     "data": {
      "text/plain": [
       "10853"
      ]
     },
     "execution_count": 152,
     "metadata": {},
     "output_type": "execute_result"
    }
   ],
   "source": [
    "@show unique(A)\n",
    "# so we confirmed that elements in A are 1 or 0\n",
    "@show sum(A)\n",
    "@show countnz(A)"
   ]
  },
  {
   "cell_type": "markdown",
   "metadata": {},
   "source": [
    " Number of dangling nodes is 103,"
   ]
  },
  {
   "cell_type": "code",
   "execution_count": 29,
   "metadata": {},
   "outputs": [
    {
     "data": {
      "text/plain": [
       "103"
      ]
     },
     "execution_count": 29,
     "metadata": {},
     "output_type": "execute_result"
    }
   ],
   "source": [
    "outdegree = sum(A, 2)\n",
    "500 - countnz(outdegree)"
   ]
  },
  {
   "cell_type": "markdown",
   "metadata": {},
   "source": [
    "http://www.ucla.edu page has max in-degree."
   ]
  },
  {
   "cell_type": "code",
   "execution_count": 30,
   "metadata": {},
   "outputs": [
    {
     "name": "stdout",
     "output_type": "stream",
     "text": [
      "U[maxinde] = \"http://www.ucla.edu\"\n"
     ]
    },
    {
     "data": {
      "text/plain": [
       "\"http://www.ucla.edu\""
      ]
     },
     "execution_count": 30,
     "metadata": {},
     "output_type": "execute_result"
    }
   ],
   "source": [
    "indegree = sum(A, 1)\n",
    "maxinde = indmax(indegree)\n",
    "@show U[maxinde]"
   ]
  },
  {
   "cell_type": "markdown",
   "metadata": {},
   "source": [
    "http://giveto.ucla.edu page has the max out-degree."
   ]
  },
  {
   "cell_type": "code",
   "execution_count": 31,
   "metadata": {},
   "outputs": [
    {
     "name": "stdout",
     "output_type": "stream",
     "text": [
      "U[maxout] = \"http://giveto.ucla.edu\"\n"
     ]
    },
    {
     "data": {
      "text/plain": [
       "\"http://giveto.ucla.edu\""
      ]
     },
     "execution_count": 31,
     "metadata": {},
     "output_type": "execute_result"
    }
   ],
   "source": [
    "maxout = indmax(outdegree)\n",
    "@show U[maxout]"
   ]
  },
  {
   "cell_type": "markdown",
   "metadata": {},
   "source": [
    "visualize the sparsity pattern of A"
   ]
  },
  {
   "cell_type": "code",
   "execution_count": 32,
   "metadata": {},
   "outputs": [
    {
     "data": {
      "image/svg+xml": [
       "<?xml version=\"1.0\" encoding=\"utf-8\"?>\n",
       "<svg xmlns=\"http://www.w3.org/2000/svg\" xmlns:xlink=\"http://www.w3.org/1999/xlink\" width=\"600\" height=\"400\" viewBox=\"0 0 600 400\">\n",
       "<defs>\n",
       "  <clipPath id=\"clip4000\">\n",
       "    <rect x=\"0\" y=\"0\" width=\"600\" height=\"400\"/>\n",
       "  </clipPath>\n",
       "</defs>\n",
       "<polygon clip-path=\"url(#clip4000)\" points=\"\n",
       "0,400 600,400 600,0 0,0 \n",
       "  \" fill=\"#ffffff\" fill-opacity=\"1\"/>\n",
       "<defs>\n",
       "  <clipPath id=\"clip4001\">\n",
       "    <rect x=\"120\" y=\"0\" width=\"421\" height=\"400\"/>\n",
       "  </clipPath>\n",
       "</defs>\n",
       "<polygon clip-path=\"url(#clip4000)\" points=\"\n",
       "126.039,375.869 490.096,375.869 490.096,11.811 126.039,11.811 \n",
       "  \" fill=\"#ffffff\" fill-opacity=\"1\"/>\n",
       "<defs>\n",
       "  <clipPath id=\"clip4002\">\n",
       "    <rect x=\"126\" y=\"11\" width=\"365\" height=\"365\"/>\n",
       "  </clipPath>\n",
       "</defs>\n",
       "<polyline clip-path=\"url(#clip4000)\" style=\"stroke:#000000; stroke-width:1; stroke-opacity:1; fill:none\" points=\"\n",
       "  126.039,375.869 490.096,375.869 \n",
       "  \"/>\n",
       "<polyline clip-path=\"url(#clip4000)\" style=\"stroke:#000000; stroke-width:1; stroke-opacity:1; fill:none\" points=\"\n",
       "  126.039,11.811 126.039,375.869 \n",
       "  \"/>\n",
       "<polyline clip-path=\"url(#clip4000)\" style=\"stroke:#000000; stroke-width:1; stroke-opacity:1; fill:none\" points=\"\n",
       "  198.486,375.869 198.486,370.408 \n",
       "  \"/>\n",
       "<polyline clip-path=\"url(#clip4000)\" style=\"stroke:#000000; stroke-width:1; stroke-opacity:1; fill:none\" points=\"\n",
       "  271.298,375.869 271.298,370.408 \n",
       "  \"/>\n",
       "<polyline clip-path=\"url(#clip4000)\" style=\"stroke:#000000; stroke-width:1; stroke-opacity:1; fill:none\" points=\"\n",
       "  344.109,375.869 344.109,370.408 \n",
       "  \"/>\n",
       "<polyline clip-path=\"url(#clip4000)\" style=\"stroke:#000000; stroke-width:1; stroke-opacity:1; fill:none\" points=\"\n",
       "  416.921,375.869 416.921,370.408 \n",
       "  \"/>\n",
       "<polyline clip-path=\"url(#clip4000)\" style=\"stroke:#000000; stroke-width:1; stroke-opacity:1; fill:none\" points=\"\n",
       "  489.732,375.869 489.732,370.408 \n",
       "  \"/>\n",
       "<polyline clip-path=\"url(#clip4000)\" style=\"stroke:#000000; stroke-width:1; stroke-opacity:1; fill:none\" points=\"\n",
       "  126.039,84.2585 131.499,84.2585 \n",
       "  \"/>\n",
       "<polyline clip-path=\"url(#clip4000)\" style=\"stroke:#000000; stroke-width:1; stroke-opacity:1; fill:none\" points=\"\n",
       "  126.039,157.07 131.499,157.07 \n",
       "  \"/>\n",
       "<polyline clip-path=\"url(#clip4000)\" style=\"stroke:#000000; stroke-width:1; stroke-opacity:1; fill:none\" points=\"\n",
       "  126.039,229.882 131.499,229.882 \n",
       "  \"/>\n",
       "<polyline clip-path=\"url(#clip4000)\" style=\"stroke:#000000; stroke-width:1; stroke-opacity:1; fill:none\" points=\"\n",
       "  126.039,302.693 131.499,302.693 \n",
       "  \"/>\n",
       "<polyline clip-path=\"url(#clip4000)\" style=\"stroke:#000000; stroke-width:1; stroke-opacity:1; fill:none\" points=\"\n",
       "  126.039,375.505 131.499,375.505 \n",
       "  \"/>\n",
       "<g clip-path=\"url(#clip4000)\">\n",
       "<text style=\"fill:#000000; fill-opacity:1; font-family:Arial,Helvetica Neue,Helvetica,sans-serif; font-size:12; text-anchor:middle;\" transform=\"rotate(0, 198.486, 389.669)\" x=\"198.486\" y=\"389.669\">100</text>\n",
       "</g>\n",
       "<g clip-path=\"url(#clip4000)\">\n",
       "<text style=\"fill:#000000; fill-opacity:1; font-family:Arial,Helvetica Neue,Helvetica,sans-serif; font-size:12; text-anchor:middle;\" transform=\"rotate(0, 271.298, 389.669)\" x=\"271.298\" y=\"389.669\">200</text>\n",
       "</g>\n",
       "<g clip-path=\"url(#clip4000)\">\n",
       "<text style=\"fill:#000000; fill-opacity:1; font-family:Arial,Helvetica Neue,Helvetica,sans-serif; font-size:12; text-anchor:middle;\" transform=\"rotate(0, 344.109, 389.669)\" x=\"344.109\" y=\"389.669\">300</text>\n",
       "</g>\n",
       "<g clip-path=\"url(#clip4000)\">\n",
       "<text style=\"fill:#000000; fill-opacity:1; font-family:Arial,Helvetica Neue,Helvetica,sans-serif; font-size:12; text-anchor:middle;\" transform=\"rotate(0, 416.921, 389.669)\" x=\"416.921\" y=\"389.669\">400</text>\n",
       "</g>\n",
       "<g clip-path=\"url(#clip4000)\">\n",
       "<text style=\"fill:#000000; fill-opacity:1; font-family:Arial,Helvetica Neue,Helvetica,sans-serif; font-size:12; text-anchor:middle;\" transform=\"rotate(0, 489.732, 389.669)\" x=\"489.732\" y=\"389.669\">500</text>\n",
       "</g>\n",
       "<g clip-path=\"url(#clip4000)\">\n",
       "<text style=\"fill:#000000; fill-opacity:1; font-family:Arial,Helvetica Neue,Helvetica,sans-serif; font-size:12; text-anchor:end;\" transform=\"rotate(0, 120.039, 88.7585)\" x=\"120.039\" y=\"88.7585\">100</text>\n",
       "</g>\n",
       "<g clip-path=\"url(#clip4000)\">\n",
       "<text style=\"fill:#000000; fill-opacity:1; font-family:Arial,Helvetica Neue,Helvetica,sans-serif; font-size:12; text-anchor:end;\" transform=\"rotate(0, 120.039, 161.57)\" x=\"120.039\" y=\"161.57\">200</text>\n",
       "</g>\n",
       "<g clip-path=\"url(#clip4000)\">\n",
       "<text style=\"fill:#000000; fill-opacity:1; font-family:Arial,Helvetica Neue,Helvetica,sans-serif; font-size:12; text-anchor:end;\" transform=\"rotate(0, 120.039, 234.382)\" x=\"120.039\" y=\"234.382\">300</text>\n",
       "</g>\n",
       "<g clip-path=\"url(#clip4000)\">\n",
       "<text style=\"fill:#000000; fill-opacity:1; font-family:Arial,Helvetica Neue,Helvetica,sans-serif; font-size:12; text-anchor:end;\" transform=\"rotate(0, 120.039, 307.193)\" x=\"120.039\" y=\"307.193\">400</text>\n",
       "</g>\n",
       "<g clip-path=\"url(#clip4000)\">\n",
       "<text style=\"fill:#000000; fill-opacity:1; font-family:Arial,Helvetica Neue,Helvetica,sans-serif; font-size:12; text-anchor:end;\" transform=\"rotate(0, 120.039, 380.005)\" x=\"120.039\" y=\"380.005\">500</text>\n",
       "</g>\n",
       "<polyline clip-path=\"url(#clip4002)\" style=\"stroke:#000000; stroke-width:1; stroke-opacity:1; fill:none\" points=\"\n",
       "  126.039,11.811 490.096,11.811 \n",
       "  \"/>\n",
       "<polyline clip-path=\"url(#clip4002)\" style=\"stroke:#000000; stroke-width:1; stroke-opacity:1; fill:none\" points=\"\n",
       "  490.096,11.811 490.096,375.869 \n",
       "  \"/>\n",
       "<g clip-path=\"url(#clip4002)\">\n",
       "<image width=\"364\" height=\"364\" xlink:href=\"data:image/png;base64,\n",
       "iVBORw0KGgoAAAANSUhEUgAAAWwAAAFsCAYAAADon4O5AAAMY0lEQVR4nO3d626jOhQGUDLq+79y\n",
       "zo9RNBwKwYBv215LqhqlaUgb87GzMbAsAAAwqPfDn99a1k/GJwWYzXtZllfCY7Is60+mJwKgjNeS\n",
       "t2IHmMp7873GshYVNsB9Z+2QI7eCXmAD3Pekwr78uwIb4L67FfbZ7+6G+ZOF9SZlby1ADp+8Ocqd\n",
       "9f1XKmk7GAEys9MRIJicn+pPw19gA/ThNPwFNsB9VfvNAhsgvyJBLrAB8nva2zZTBCCTp4F65ffN\n",
       "EgHI4G5wn8233v2ZwAYIQmADADCsmjsF7YAEeKDmJcIAeKDmuUQAeKBJUNvpCHDfUXA70hEgiCLn\n",
       "5h8psPWSgKGNFNgAQxPYAAAMyyyRh/SwgdrkDgDQnooEbvqzWIEAYBo2+lBJiZXNCgwAHbKBBr4S\n",
       "EsBUPheCzHmikk+QFjn5CV3b24gaBxBIqUq45mXmAbpQOrgEI6UZYwBAX3JUJ++dr9LLhGX5PZaM\n",
       "LQCgrdZ78LczVK5WR61fP9flnpUE0+jx9KpW5rF5f0n13tzudcZZNT0GNsAVTwM3TBEhsIHoUgM3\n",
       "TCV9RGADswhTSR9p+QfsHcJupyNw1TQ7sltW2FP8g/kl/MdSHinx/k+TJT22RKb550/K+zu3K+9/\n",
       "7lki4YsFLRGAIHpsiQhhYFnqzcMOo8eWyPRvyuC8v6R6bW5PX8y1DGwr7pymX+moZriM0RIBRrFt\n",
       "mwyXJT22RADu+lz2cEgCGxjF0GG9LAIbGMfQYb0sy/LT+gXsGP6fPrlpDiOmuuHHlVki1Db8SkV1\n",
       "02SJlgjQs5QwnqYI6HFaH2ObphoiCzmxoiVCbVZAcpgyP7REgIim3PD32BKZ8o0Aftme/Gl6Kmwg\n",
       "guEPigFgIK3bD9uDKFzAYHwOnAGAAbhQwRc9XCLsCZUaAAAAENzVFok+F4zD+pzAPGygB+ZZJxDY\n",
       "QC9MIkjwdKt2dvjoO/FxT5b/7Sv38gCaUGEDBCGwAYIQ2ABBtG7y751L5Mre4tavHyhnnQ+fTHiy\n",
       "zjuPDUBGziUCwBhybM2OptOVXCYsy++xZGwxrE+/uEZfp4f+Ua8r87ZPl/JYYDI/rV8A0LUnRU7N\n",
       "gnAKpvUBJTg3SAECG8hNWBcisIGchHVBeth9MdjpzVn/ea9HrWddiMDui7CmNylj8uwIZQGeicDu\n",
       "iwqb3uydOiLlsRSghw2kSmmPUJDABnJRYRcmsAGCENgAQQhsgCAENkAQAhsgCIENpHon3AYAAAAA\n",
       "AAAAAAAAgG5EPh3i2cnUS/8+XFXjAJPUMf15LWcXzbCOdGbWo5Rm/buB55rkR+StpwqbaHqqsNdU\n",
       "2EE4lwiMb++8Hz5hEooBC4QS+arpWhpE06ol8v7ys/XPU58PLlMhA1OJXGE/pUKntpY7Hb+NdxV2\n",
       "EHY6whwE7wAENoxJy3BAAhvGpKIekMAGCEJgw5zei7ZJODPPEoHRXGmDaJkEpMKGMZydde/sdz9f\n",
       "yyLMu6XChviehPXec62/0xGBDeXUODgrR1g7cCYILREop/ewttMxGIENMeWorFXPwQhsiCdnz5pA\n",
       "BDbEIqwnJrAhjlJhbVpfEGaJQAwlK+vt86rgO6XChv6Vng2iwg5ChQ19uxPW2/nfZwGswg5ChQ39\n",
       "ultZp1TITv4UkMCmJgGRrlTPen1BXq2PYAQ2NQmINCV3MK7fAxvQYAQ29KXmPGsb0GAENvTDQTF8\n",
       "JbChD8KaU7UC20CEY8KaJLUCW68M9glrkmmJQDvCGgAAAAAA4IsaO1LsrKGmvTPaGYMAAAAAAADQ\n",
       "gB11AEA1Cg8AAKAhH0mAqThPNfzf1UIgdR16X3gsVOXQdEazd2g6DMFgZgbGOQAAAJBIGwEmZMUn\n",
       "EuOVbhmcAAAAAAAAAAC9eW++nz1275wKe18pyzy7j30p/+Oa7o6dEowthpZzMD8J7DvLAvpnXc3k\n",
       "teQ97ePnjXEaSVq6EhCfsWrsMp3UFcUWFwCAMWmJMKKUT3DrsW/cEsKf1i8AGliH9JpWHV0T2Mzm\n",
       "KKyhewKbmQhrQhPYjO61+v7e3L/tWeth0zWBzei2OxbX96u2CUVgMzptEIZRK7CvnK+EMbWoaIU1\n",
       "Q/mptJzX5jvzafHeC2uGoiVCb3KErMIAAGhne6ayEs8NQGZPQvvqBQyYz/vgdmSj/B0EoYdNLa+D\n",
       "25GN8ncQSNQqIerrBuiCEAUAgBJV8Z3nVJ3HtT6S1c5nRrId2+v7qqt1pGMKO3DiSnnvXNWFiPaO\n",
       "0m42htcLfnKpsL0tjhUTICPT+gCCENgAQQhsgCAENkAQAhsgCIENEITABgii9jUdAQAAADqQ49D0\n",
       "o3aHQ9MBMrLTkVpaXiIs5Sxr9rPQPSd/AvjrSQZW8Vqev8h1WL8Wp9Gc2ZWxVLKiNfYAAO7QcwSA\n",
       "QmxkGYFxDAAAAFBPrulP5mEDAAAAAAA9Mi8VAAAAAG57L1psh1zAACCQp1uzsyuJ7F3tI+cWdL1F\n",
       "fu985V4eQBMqbAAAAGBSV/u728f30sM++sq9PIAm7vSwnYVvDqZXQWd+Wr8AumXDDABwV+rH3qPH\n",
       "6WGPQxsEKEKwAADQp5RK9dtjtETi8/+BIK4Gdmp4lyZk+DAWmMJr+TvYn0zhWv/+3nN97jt73JPl\n",
       "f5Pjb+xRrpAa7f8CwzIPOy5BC5Nxtj4AAADqsUOTroxyxRnT+oCh6WEDBCGwucInFWhIYHOFqYQA\n",
       "ACnsdAQIQEsEIAiBDQDs0p6CB/SwAQLQEgEIovW82u15qtfnzk7R+vUD5WzPob8s1nktEYAIXMAg\n",
       "NledgYkI7NgELUzETkcAAABgQp8pdDV6obWWc/YaerSd2rj3c9OaYHK5e9i9BmJkV+al3+V9AwDI\n",
       "RUukD3stkaPKuvX/EGjEtL4+1WiDAABQgpZIH85miRw9FnrXw3o/jJlaIr2GNYxMWAMAAAAAAAAA\n",
       "wCXmYffBPGyi6WF9ns5M87BbM7gZxSesUwqgXoukkAR2HSmD28Amitfme8pjyUBgl5daiRjYwFcC\n",
       "uyxn3QOyEdjl3Alr4c5ojOmMBHYZdytrbRFGY0xnJLDz0wZhNHvj2RhvQGDn9SSsrQD0aq9K/txn\n",
       "3FYksPN5Wln76EhExm1FAjsPbRBm9T64TQEC+zlhzcxeB7cpQGA/I6yZmbFfmcC+T1gzOxV1ZQL7\n",
       "HmHNbIz3Dgjs64Q1M1JNd0BgX1MyrG0EiMi4rUhgpytdWatgiGK9Hhi3FQnsNNog8M9RSFtHChPY\n",
       "54Q1pFFtFyawvxPWQDcE9jFhDXRFYO8T1kB3BPZvwhroksD+v9ZhbUPBaIzpjAT2P63D+vMaYCTG\n",
       "dEYC+68ewhrgK4EtrOGu92LdAQAAAGAcel0AAIzvM0OixlzJWss5ew09S5mx0vp/CHBZ7+HLb94z\n",
       "eOjpSvQ+uL297+xxd5d99pVzeQDNRD9w5qw9oH1QZkMJNBA9sL9xBONfr4PbQDCjBrawBoYzYmAL\n",
       "a2BIowW2sAaGpacJcF2TwnAd2E8ObNl78TYGrPVw4BR8cyWEjWWARkK0UnMcmr7+/b3n+tx39rgn\n",
       "y09hiwgAQHmtq85tpb2uxr+pedIqoI3tp/Jlyb/Ol3reIiJO6zN1D1i7mwefDUKIsF6WeIEtrIGt\n",
       "1MDdnlcnTFB/tHzBex9FvoXxXliH+4cD2V0J35BB/dGywj76p+3dr7KG+Wwr4qMMSAngz++HDetl\n",
       "idESEdbAXetP8qHDeln6b4mchXX4NwAoItTsj1Q/DZd9FMbrKXsqayDFFPu3Wgb2URgLa+DjW995\n",
       "/bMhA3qrxx62sAZSTBHSa70FtrAG1vZC+duMEQBor/VHiqNzBTgDH+A8+xstdzpufYLaR52xhT94\n",
       "gSqMEwAAyMGn7C9c0xEAAHK6UgWfHXF09fn2nvPqUY6qeLbsrOpXynrtvftitktt9dob205tTHks\n",
       "1JBjnTFmAZjLlcru7nMDAMA8nkzjS7n8vIsPAGQy205HOFNyx7T1jEdynEtkW20blLT2JHSNX7qV\n",
       "6+RPe2faM/Dnk7rBLj290thjWLXnJvc6F5o6vP8AwNhK7HTUEpnD3vvsJGBQUE8XMGBc6yAX4HCT\n",
       "wKY0M4cgo6c7gd4Ht7f3nT3uyfLfm9vb57ej67n3cvz/BSoYqcI+CmnV3XOqZOjAn9YvgBCENXRg\n",
       "pAqb5+wchI4JbJZF+whCENhx5dzxJ6ghAIEdk52AMCE7HeMR1jCp6IGd0hYYbc6wsIZJtVz5XY0Z\n",
       "4IKSlwg7C2RhCwAAADTyHw8376M1nBsKAAAAAElFTkSuQmCC\n",
       "\" transform=\"translate(126, 12)\"/>\n",
       "</g>\n",
       "</svg>\n"
      ]
     },
     "execution_count": 32,
     "metadata": {},
     "output_type": "execute_result"
    }
   ],
   "source": [
    "using Plots\n",
    "spy(A)"
   ]
  },
  {
   "cell_type": "markdown",
   "metadata": {},
   "source": [
    "### Q2(4)\n",
    "\n",
    "Set the _teleportation_ parameter at $p = 0.85$. Try the following methods to solve for $\\mathbf{x}$ using the `ucla.zip` data.\n",
    "\n",
    "0. A dense linear system solver such as LU decomposition.  \n",
    "0. A simple iterative linear system solver such as Jacobi or Gauss-Seidel.   \n",
    "0. A dense eigen-solver.  \n",
    "0. A simple iterative eigen-solver such as the power method.  \n",
    "\n",
    "For iterative methods, you can use the [`IterativeSolvers.jl`](https://github.com/JuliaMath/IterativeSolvers.jl) package. Make sure to utilize the special structure of $\\mathbf{P}$ (sparse + rank 1) to speed up the matrix-vector multiplication."
   ]
  },
  {
   "cell_type": "markdown",
   "metadata": {},
   "source": [
    "**1** Dense linear system solver -- LU decomposition."
   ]
  },
  {
   "cell_type": "code",
   "execution_count": 153,
   "metadata": {},
   "outputs": [
    {
     "data": {
      "text/plain": [
       "500-element Array{Float64,1}:\n",
       " 0.0127701 \n",
       " 0.00130393\n",
       " 0.00405405\n",
       " 0.00398338\n",
       " 0.00130393\n",
       " 0.00130393\n",
       " 0.00130393\n",
       " 0.00130393\n",
       " 0.00130393\n",
       " 0.00130393\n",
       " 0.00130393\n",
       " 0.00145083\n",
       " 0.00141309\n",
       " ⋮         \n",
       " 0.0011959 \n",
       " 0.00149245\n",
       " 0.0011959 \n",
       " 0.00345944\n",
       " 0.00211007\n",
       " 0.0011959 \n",
       " 0.0011959 \n",
       " 0.0084935 \n",
       " 0.0011959 \n",
       " 0.00149103\n",
       " 0.0011959 \n",
       " 0.0011959 "
      ]
     },
     "execution_count": 153,
     "metadata": {},
     "output_type": "execute_result"
    }
   ],
   "source": [
    "function pagerank_linearsys_lu(A::AbstractMatrix, p::Float64 = 0.85)\n",
    "\n",
    "    n = size(A, 1)\n",
    "    outdegree = sum(A, 2)\n",
    "    z = zeros(n)\n",
    "    fill!(z, 1 / n)\n",
    "\n",
    "    for i in 1:n\n",
    "        if(outdegree[i] > 0)\n",
    "            outdegree[i] = p / outdegree[i]\n",
    "            z[i] = (1 - p) / n\n",
    "        end\n",
    "    end\n",
    "    \n",
    "    T = full(A') * Diagonal(vec(outdegree)) .+ z' - eye(n)\n",
    "    T[1,:] = 1.0\n",
    "    b = zeros(n)\n",
    "    b[1] = 1.0\n",
    "    return T \\ b\n",
    "end\n",
    "pagerank_linearsys_lu(A)"
   ]
  },
  {
   "cell_type": "markdown",
   "metadata": {},
   "source": [
    "**2** A simple iterative linear system solver - Jacobi \n",
    "\n",
    "To solve $(I - P^T)x = b$, Jacobi method proceeds as\n",
    "\n",
    "$$\n",
    "x^{t+1} = -D^{-1} (I - P^T)x^T + x^T + D^{-1}b \n",
    "$$\n",
    "\n",
    "replace $P = diag(\\mathbf{r})A + \\mathbf{z}\\mathbf{1_n}^T$, we get \n",
    "$$\n",
    "x^{t+1} = D^{-1} A^T diag(\\mathbf{r}) x^T + D^{-1}\\mathbf{1_n}\\mathbf{z}x^t - D^{-1}x^t + x^t +  D^{-1}b\n",
    "$$\n",
    "\n",
    "D is diagonal of $(I - P^T)$, and it is trivial to get its inverse."
   ]
  },
  {
   "cell_type": "code",
   "execution_count": 121,
   "metadata": {},
   "outputs": [
    {
     "data": {
      "text/plain": [
       "500×1 Array{Float64,2}:\n",
       " 0.0127701 \n",
       " 0.00130393\n",
       " 0.00405405\n",
       " 0.00398338\n",
       " 0.00130393\n",
       " 0.00130393\n",
       " 0.00130393\n",
       " 0.00130393\n",
       " 0.00130393\n",
       " 0.00130393\n",
       " 0.00130393\n",
       " 0.00145083\n",
       " 0.00141309\n",
       " ⋮         \n",
       " 0.0011959 \n",
       " 0.00149245\n",
       " 0.0011959 \n",
       " 0.00345944\n",
       " 0.00211007\n",
       " 0.0011959 \n",
       " 0.0011959 \n",
       " 0.0084935 \n",
       " 0.0011959 \n",
       " 0.00149103\n",
       " 0.0011959 \n",
       " 0.0011959 "
      ]
     },
     "execution_count": 121,
     "metadata": {},
     "output_type": "execute_result"
    }
   ],
   "source": [
    "function pagerank_linearsys_jacobi(A::AbstractMatrix, p::Float64 = 0.85,\n",
    "        x0::Vector = ones(size(A, 1)) / size(A, 1), maxiter::Int = 100000,\n",
    "        tol::Float64 = 1e-9)\n",
    "\n",
    "    n = size(A, 1)\n",
    "    outdegree = sum(A, 2)\n",
    "    z = zeros(n)\n",
    "    fill!(z, 1 / n)\n",
    "\n",
    "    for i in 1:n\n",
    "        if(outdegree[i] > 0)\n",
    "            outdegree[i] = p / outdegree[i]\n",
    "            z[i] = (1 - p) / n\n",
    "        end\n",
    "    end\n",
    "    \n",
    "    # Jacobi method, iteration\n",
    "    d_inv = 1 ./ (1 - diag(A) .* outdegree - z)\n",
    "    \n",
    "    xnew = copy(x0)\n",
    "    xold = similar(xnew)\n",
    "    temp = similar(x0)\n",
    "    \n",
    "    for i in 1:maxiter\n",
    "        copy!(xold, xnew)\n",
    "        temp = xnew .* outdegree\n",
    "        At_mul_B!(xnew, A, temp)\n",
    "        xnew = d_inv .* (xnew + dot(xold, z) .- xold) .+ xold\n",
    "        if(vecnorm(xnew - xold) < tol)\n",
    "            break\n",
    "        end\n",
    "    end\n",
    "\n",
    "    return abs.(xnew / sum(xnew))\n",
    "end\n",
    "using BenchmarkTools\n",
    "\n",
    "pagerank_linearsys_jacobi(A)"
   ]
  },
  {
   "cell_type": "markdown",
   "metadata": {},
   "source": [
    "**3** A dense eigen-solver."
   ]
  },
  {
   "cell_type": "code",
   "execution_count": 122,
   "metadata": {},
   "outputs": [
    {
     "data": {
      "text/plain": [
       "500-element Array{Float64,1}:\n",
       " 0.0127701 \n",
       " 0.00130393\n",
       " 0.00405405\n",
       " 0.00398338\n",
       " 0.00130393\n",
       " 0.00130393\n",
       " 0.00130393\n",
       " 0.00130393\n",
       " 0.00130393\n",
       " 0.00130393\n",
       " 0.00130393\n",
       " 0.00145083\n",
       " 0.00141309\n",
       " ⋮         \n",
       " 0.0011959 \n",
       " 0.00149245\n",
       " 0.0011959 \n",
       " 0.00345944\n",
       " 0.00211007\n",
       " 0.0011959 \n",
       " 0.0011959 \n",
       " 0.0084935 \n",
       " 0.0011959 \n",
       " 0.00149103\n",
       " 0.0011959 \n",
       " 0.0011959 "
      ]
     },
     "execution_count": 122,
     "metadata": {},
     "output_type": "execute_result"
    }
   ],
   "source": [
    "function pagerank_eig_dense(A::AbstractMatrix, p::Float64 = 0.85)\n",
    "\n",
    "    n = size(A, 1)\n",
    "    outdegree = sum(A, 2)\n",
    "    z = zeros(n)\n",
    "    fill!(z, 1 / n)\n",
    "\n",
    "    for i in 1:n\n",
    "        if(outdegree[i] > 0)\n",
    "            outdegree[i] = p / outdegree[i]\n",
    "            z[i] = (1 - p) / n\n",
    "        end\n",
    "    end\n",
    "    \n",
    "    T = eigfact!(full((Diagonal(vec(outdegree)) * A .+ z)'))\n",
    "    pgrank = real(T[:vectors][:, 1])\n",
    "    return abs.(pgrank / sum(pgrank))\n",
    "end\n",
    "pagerank_eig_dense(A)"
   ]
  },
  {
   "cell_type": "markdown",
   "metadata": {},
   "source": [
    "**4** A simple iterative eigen-solver --- the power method."
   ]
  },
  {
   "cell_type": "code",
   "execution_count": 125,
   "metadata": {},
   "outputs": [
    {
     "data": {
      "text/plain": [
       "500-element Array{Float64,1}:\n",
       " 0.0127701 \n",
       " 0.00130393\n",
       " 0.00405405\n",
       " 0.00398338\n",
       " 0.00130393\n",
       " 0.00130393\n",
       " 0.00130393\n",
       " 0.00130393\n",
       " 0.00130393\n",
       " 0.00130393\n",
       " 0.00130393\n",
       " 0.00145083\n",
       " 0.00141309\n",
       " ⋮         \n",
       " 0.0011959 \n",
       " 0.00149245\n",
       " 0.0011959 \n",
       " 0.00345944\n",
       " 0.00211007\n",
       " 0.0011959 \n",
       " 0.0011959 \n",
       " 0.0084935 \n",
       " 0.0011959 \n",
       " 0.00149103\n",
       " 0.0011959 \n",
       " 0.0011959 "
      ]
     },
     "execution_count": 125,
     "metadata": {},
     "output_type": "execute_result"
    }
   ],
   "source": [
    "function pagerank_eig_power(A::AbstractMatrix, p::Float64 = 0.85,\n",
    "        x0::Vector = ones(size(A, 1)) / size(A, 1), maxiter::Int = 100000,\n",
    "        tol::Float64 = 1e-9)\n",
    "\n",
    "    n = size(A, 1)\n",
    "    outdegree = sum(A, 2)\n",
    "    z = zeros(n)\n",
    "    fill!(z, 1 / n)\n",
    "\n",
    "    for i in 1:n\n",
    "        if(outdegree[i] > 0)\n",
    "            outdegree[i] = p / outdegree[i]\n",
    "            z[i] = (1 - p) / n\n",
    "        end\n",
    "    end\n",
    "    \n",
    "    #power method\n",
    "    xnew = copy(x0)\n",
    "    xold = similar(xnew)\n",
    "    temp = similar(x0)\n",
    "    \n",
    "    for i in 1:maxiter\n",
    "        copy!(xold, xnew)\n",
    "        temp = xnew .* outdegree\n",
    "        At_mul_B!(xnew, A, temp)\n",
    "        xnew = xnew + dot(z, xold)\n",
    "        if(vecnorm(xnew - xold) < tol)\n",
    "            break\n",
    "        end\n",
    "    end\n",
    "\n",
    "    return abs.(xnew / sum(xnew))\n",
    "end\n",
    "\n",
    "pagerank_eig_power(A)"
   ]
  },
  {
   "cell_type": "code",
   "execution_count": 129,
   "metadata": {},
   "outputs": [
    {
     "data": {
      "text/plain": [
       "BenchmarkTools.Trial: \n",
       "  memory estimate:  548.53 KiB\n",
       "  allocs estimate:  140\n",
       "  --------------\n",
       "  minimum time:     602.201 μs (0.00% GC)\n",
       "  median time:      676.525 μs (0.00% GC)\n",
       "  mean time:        801.195 μs (9.54% GC)\n",
       "  maximum time:     9.683 ms (92.16% GC)\n",
       "  --------------\n",
       "  samples:          6203\n",
       "  evals/sample:     1"
      ]
     },
     "execution_count": 129,
     "metadata": {},
     "output_type": "execute_result"
    }
   ],
   "source": [
    "# benchmark four method\n",
    "using BenchmarkTools\n",
    "@benchmark pagerank_linearsys_lu(A)"
   ]
  },
  {
   "cell_type": "code",
   "execution_count": 131,
   "metadata": {},
   "outputs": [
    {
     "data": {
      "text/plain": [
       "BenchmarkTools.Trial: \n",
       "  memory estimate:  871.30 KiB\n",
       "  allocs estimate:  3620\n",
       "  --------------\n",
       "  minimum time:     2.336 ms (0.00% GC)\n",
       "  median time:      2.504 ms (0.00% GC)\n",
       "  mean time:        2.751 ms (5.77% GC)\n",
       "  maximum time:     8.737 ms (52.87% GC)\n",
       "  --------------\n",
       "  samples:          1814\n",
       "  evals/sample:     1"
      ]
     },
     "execution_count": 131,
     "metadata": {},
     "output_type": "execute_result"
    }
   ],
   "source": [
    "@benchmark pagerank_linearsys_jacobi(A)"
   ]
  },
  {
   "cell_type": "code",
   "execution_count": 132,
   "metadata": {},
   "outputs": [
    {
     "data": {
      "text/plain": [
       "BenchmarkTools.Trial: \n",
       "  memory estimate:  15.66 MiB\n",
       "  allocs estimate:  505\n",
       "  --------------\n",
       "  minimum time:     66.206 ms (0.00% GC)\n",
       "  median time:      70.296 ms (4.09% GC)\n",
       "  mean time:        77.046 ms (2.92% GC)\n",
       "  maximum time:     119.193 ms (4.61% GC)\n",
       "  --------------\n",
       "  samples:          65\n",
       "  evals/sample:     1"
      ]
     },
     "execution_count": 132,
     "metadata": {},
     "output_type": "execute_result"
    }
   ],
   "source": [
    "@benchmark pagerank_eig_dense(A)"
   ]
  },
  {
   "cell_type": "code",
   "execution_count": 133,
   "metadata": {},
   "outputs": [
    {
     "data": {
      "text/plain": [
       "BenchmarkTools.Trial: \n",
       "  memory estimate:  548.53 KiB\n",
       "  allocs estimate:  140\n",
       "  --------------\n",
       "  minimum time:     605.902 μs (0.00% GC)\n",
       "  median time:      661.783 μs (0.00% GC)\n",
       "  mean time:        790.426 μs (10.16% GC)\n",
       "  maximum time:     5.533 ms (85.89% GC)\n",
       "  --------------\n",
       "  samples:          6289\n",
       "  evals/sample:     1"
      ]
     },
     "execution_count": 133,
     "metadata": {},
     "output_type": "execute_result"
    }
   ],
   "source": [
    "@benchmark pagerank_eig_power(A)"
   ]
  },
  {
   "cell_type": "markdown",
   "metadata": {},
   "source": [
    "### Q2(5)\n",
    "\n",
    "List the top 20 ranked URLs you found."
   ]
  },
  {
   "cell_type": "code",
   "execution_count": 137,
   "metadata": {},
   "outputs": [
    {
     "data": {
      "text/plain": [
       "20×3 Array{Any,2}:\n",
       "  1  …  \"http://schema.org\"                                                                     \n",
       "  2     \"http://www\"                                                                            \n",
       "  3     \"http://www.ucla.edu\"                                                                   \n",
       "  4     \"http://www.directory.ucla.edu\"                                                         \n",
       "  5     \"http://www.universityofcalifornia.edu\"                                                 \n",
       "  6  …  \"http://schema.org/CreativeWork\"                                                        \n",
       "  7     \"http://schema.org/Text\"                                                                \n",
       "  8     \"http://giveto.ucla.edu\"                                                                \n",
       "  9     \"http://www.registrar.ucla.edu/calendar\"                                                \n",
       " 10     \"http://www.uclalumni.net\"                                                              \n",
       " 11  …  \"http://www.magazine.ucla.edu/depts/lifesigns/honoring-adolescence\"                     \n",
       " 12     \"http://www.magazine.ucla.edu/depts/lifesigns/breaking-the-bad\"                         \n",
       " 13     \"http://www.magazine.ucla.edu/depts/forward-thinker/homes-with-heart\"                   \n",
       " 14     \"http://www.magazine.ucla.edu/depts/atissue/local-thought-global-action\"                \n",
       " 15     \"http://www.magazine.ucla.edu/depts/hailhills/uncle-welton-in-westwood\"                 \n",
       " 16  …  \"http://www.magazine.ucla.edu/features/patient-test-thyself\"                            \n",
       " 17     \"http://www.magazine.ucla.edu/depts/style/the-dancing-scientist\"                        \n",
       " 18     \"http://www.magazine.ucla.edu/depts/style/welcome-to-the-jungle\"                        \n",
       " 19     \"http://www.magazine.ucla.edu/features/heads-up\"                                        \n",
       " 20     \"http://www.magazine.ucla.edu/features/hope-is-real-the-ucla-depression-grand-challenge\""
      ]
     },
     "execution_count": 137,
     "metadata": {},
     "output_type": "execute_result"
    }
   ],
   "source": [
    "equi_distri = pagerank_eig_power(A)\n",
    "index = sortperm(equi_distri, rev = true)[1:20]\n",
    "[collect(1:20) equi_distri[topidx] U[index]]"
   ]
  },
  {
   "cell_type": "markdown",
   "metadata": {},
   "source": [
    "### Q2(6)\n",
    "\n",
    "As of Monday May 11 2018, there are at least 1.83 billion indexed webpages on internet according to <http://www.worldwidewebsize.com/>. Explain whether each of these methods works for the PageRank problem at this scale."
   ]
  },
  {
   "cell_type": "markdown",
   "metadata": {},
   "source": [
    "According to the webpage, there are at least 3.55 billion pages (Saturday, 26 May, 2018) on internet.\n",
    "\n",
    "(1) A dense linear system solver such as LU decomposition cannot handle it. Because $2×(10^9)^3/3/10^{12}\\approx 2.98×10^{16}s \\approx 945 $ million years on a tera-flop supercomputer.\n",
    "\n",
    "(2) Jacobi method gains over GE/LU if converges in  $O(n)$ iterations. Saving is huge for sparse A. Also, iterative methods we can allow looser convergence criteria to speed it up.\n",
    "\n",
    "(3) Dense eigen-solver such as QR or SVD still cost $O(n^3)$ so won't work.\n",
    "\n",
    "(4) Power method costs  $O(n)$ per iteration and converges slowly thus it is not as good as Jacobi method.\n",
    " "
   ]
  },
  {
   "cell_type": "code",
   "execution_count": 144,
   "metadata": {},
   "outputs": [
    {
     "name": "stdout",
     "output_type": "stream",
     "text": [
      "Julia Version 0.6.2\n",
      "Commit d386e40* (2017-12-13 18:08 UTC)\n",
      "Platform Info:\n",
      "  OS: macOS (x86_64-apple-darwin15.6.0)\n",
      "  CPU: Intel(R) Core(TM) i5-6267U CPU @ 2.90GHz\n",
      "  WORD_SIZE: 64\n",
      "  BLAS: libmkl_rt\n",
      "  LAPACK: libmkl_rt\n",
      "  LIBM: libopenlibm\n",
      "  LLVM: libLLVM-3.9.1 (ORCJIT, skylake)\n"
     ]
    }
   ],
   "source": [
    "versioninfo()"
   ]
  }
 ],
 "metadata": {
  "kernelspec": {
   "display_name": "Julia 0.6.2",
   "language": "julia",
   "name": "julia-0.6"
  },
  "language_info": {
   "file_extension": ".jl",
   "mimetype": "application/julia",
   "name": "julia",
   "version": "0.6.2"
  },
  "toc": {
   "colors": {
    "hover_highlight": "#DAA520",
    "running_highlight": "#FF0000",
    "selected_highlight": "#FFD700"
   },
   "moveMenuLeft": true,
   "nav_menu": {
    "height": "87px",
    "width": "252px"
   },
   "navigate_menu": true,
   "number_sections": false,
   "sideBar": true,
   "threshold": 4,
   "toc_cell": false,
   "toc_section_display": "block",
   "toc_window_display": false,
   "widenNotebook": false
  }
 },
 "nbformat": 4,
 "nbformat_minor": 2
}
