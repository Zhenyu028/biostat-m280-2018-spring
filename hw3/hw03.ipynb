{
 "cells": [
  {
   "cell_type": "markdown",
   "metadata": {},
   "source": [
    "# Biostat M280 Homework 3\n",
    "\n",
    "**Due Friday, May 25 @ 11:59PM**"
   ]
  },
  {
   "cell_type": "markdown",
   "metadata": {},
   "source": [
    "## Q1 - Big $n$ regression\n",
    "\n",
    "Those who took my _203B: Introduction to Data Science_ last quarter had a (painful) experience of wrangling an Apache Spark cluster to do linear regression on a dataset with more than 100 million observations. Now we learnt various methods for solving linear regression and should realize that, with right choice of algorithm, it is a problem that can be handled by any moderate computer."
   ]
  },
  {
   "cell_type": "markdown",
   "metadata": {},
   "source": [
    "### Q1(1)\n",
    "\n",
    "Download the flight data from <http://stat-computing.org/dataexpo/2009/the-data.html>. For this exercise, we only need data from years 2003-2008. If you are using Mac or Linux, you can run the following Bash script, which downloads and unzips files for all years.\n",
    "```bash\n",
    "# Download flight data by year\n",
    "for i in {1987..2008}\n",
    "  do\n",
    "    echo \"$(date) $i Download\"\n",
    "    fnam=$i.csv.bz2\n",
    "    wget -O ./$fnam http://stat-computing.org/dataexpo/2009/$fnam\n",
    "    echo \"$(date) $i unzip\"\n",
    "    bzip2 -d ./$fnam\n",
    "  done\n",
    "\n",
    "# Download airline carrier data\n",
    "wget -O ./airlines.csv http://www.transtats.bts.gov/Download_Lookup.asp?Lookup=L_UNIQUE_CARRIERS\n",
    "\n",
    "# Download airports data\n",
    "wget -O ./airports.csv https://raw.githubusercontent.com/jpatokal/openflights/master/data/airports.dat\n",
    "```\n",
    "Find out how many data points in each year."
   ]
  },
  {
   "cell_type": "code",
   "execution_count": 42,
   "metadata": {},
   "outputs": [
    {
     "name": "stdout",
     "output_type": "stream",
     "text": [
      "c2003 = countlines(\"2003.csv\") = 6488541\n",
      "c2004 = countlines(\"2004.csv\") = 7129271\n",
      "c2005 = countlines(\"2005.csv\") = 7140597\n",
      "c2006 = countlines(\"2006.csv\") = 7141923\n",
      "c2007 = countlines(\"2007.csv\") = 7453216\n",
      "c2008 = countlines(\"2008.csv\") = 7009729\n",
      "total_lines = c2003 + c2004 + c2005 + c2006 + c2007 + c2008 = 42363277\n"
     ]
    },
    {
     "data": {
      "text/plain": [
       "42363277"
      ]
     },
     "execution_count": 42,
     "metadata": {},
     "output_type": "execute_result"
    }
   ],
   "source": [
    "@show c2003 = countlines(\"2003.csv\")\n",
    "@show c2004 = countlines(\"2004.csv\")\n",
    "@show c2005 = countlines(\"2005.csv\")\n",
    "@show c2006 = countlines(\"2006.csv\")\n",
    "@show c2007 = countlines(\"2007.csv\")\n",
    "@show c2008 = countlines(\"2008.csv\")\n",
    "@show total_lines = c2003 + c2004 + c2005 + c2006 + c2007 + c2008"
   ]
  },
  {
   "cell_type": "markdown",
   "metadata": {},
   "source": [
    "### Q1(2) \n",
    "\n",
    "We are interested in how the time gain of a flight, defined as `DepDelay - ArrDelay`, depends on the distance traveled (`Distance`), departure delay (`DepDelay`), and carrier (`UniqueCarrier`). \n",
    "\n",
    "We want to fit a linear regression `Gain ~ 1 + Distance + DepDelay + UniqueCarrier` using data from 2003-2008. Note `UniqueCarrier` is a factor with 23 levels: \"9E\", \"AA\", \"AQ\", \"AS\", \"B6\", \"CO\", \"DH\", \"DL\", \"EV\", \"F9\", \"FL\", \"HA\", \"HP\", \"MQ\", \"NW\", \"OH\", \"OO\", \"TZ\", \"UA\", \"US\", \"WN\", \"XE\", and \"YV\". We use the dummy coding with \"9E\" as base level.\n",
    "\n",
    "Will the design matrix (in double precision) fit into the memory of you computer?"
   ]
  },
  {
   "cell_type": "markdown",
   "metadata": {},
   "source": [
    "**(2)** Data from 2003-2008 contain 42363277 observations. The design matrix has dimension $42363277 \\times 26$, so in total $42363277 \\times 26$ of double-precision numbers. Every double-precision number is 8 bytes. We need a memory of $42363277 \\times 26 \\times 8 / 10^9 \\sim $8.81GB to fit the whole matrix. My poor MacBook with a 8GB memory can not handle it."
   ]
  },
  {
   "cell_type": "markdown",
   "metadata": {},
   "source": [
    "### Q1(3)\n",
    "\n",
    "Review the [Summary of Linear Regression](http://hua-zhou.github.io/teaching/biostatm280-2018spring/slides/12-linreg/linreg.html) and devise a strategy to solve the linear regression.\n",
    "\n",
    "Report the estimated regression coefficients $\\widehat \\beta$, estimated variance $\\widehat \\sigma^2 = \\sum_i (y_i - \\widehat y_i)^2 / (n - 1)$, and coefficient standard errors.\n",
    "\n",
    "Hint: It took my laptop less than 3 minutes to import data and fit linear regression."
   ]
  },
  {
   "cell_type": "code",
   "execution_count": 46,
   "metadata": {},
   "outputs": [
    {
     "data": {
      "text/plain": [
       "4×4 Array{Float64,2}:\n",
       "  9.589    -4.98208  -5.70052  -1.83933\n",
       " -4.98208   4.94476   3.81663   2.82462\n",
       " -5.70052   3.81663   5.45442   2.46008\n",
       " -1.83933   2.82462   2.46008   4.98343"
      ]
     },
     "execution_count": 46,
     "metadata": {},
     "output_type": "execute_result"
    }
   ],
   "source": [
    "using SweepOperator\n",
    "\n",
    "srand(280)\n",
    "\n",
    "X = randn(5, 3) # predictor matrix\n",
    "y = randn(5)    # response vector\n",
    "\n",
    "# form the augmented Gram matrix\n",
    "G = [X y]' * [X y]"
   ]
  },
  {
   "cell_type": "code",
   "execution_count": 8,
   "metadata": {},
   "outputs": [
    {
     "name": "stderr",
     "output_type": "stream",
     "text": [
      "WARNING: redefining constant var2col\n",
      "WARNING: redefining constant col2var\n"
     ]
    },
    {
     "data": {
      "text/plain": [
       "generate_xy (generic function with 1 method)"
      ]
     },
     "execution_count": 8,
     "metadata": {},
     "output_type": "execute_result"
    }
   ],
   "source": [
    "# mapping from variable names to X columns\n",
    "# carrier \"9E\" is used as base level\n",
    "const var2col = Dict(\n",
    "        \"Intercept\" => 1,\n",
    "        \"Distance\" => 2,\n",
    "        \"DepDelay\" => 3,\n",
    "        \"AA\" => 4,\n",
    "        \"AQ\" => 5,\n",
    "        \"AS\" => 6,\n",
    "        \"B6\" => 7,\n",
    "        \"CO\" => 8,\n",
    "        \"DH\" => 9,\n",
    "        \"DL\" => 10,\n",
    "        \"EV\" => 11,\n",
    "        \"F9\" => 12,\n",
    "        \"FL\" => 13,\n",
    "        \"HA\" => 14,\n",
    "        \"HP\" => 15,\n",
    "        \"MQ\" => 16,\n",
    "        \"NW\" => 17,\n",
    "        \"OH\" => 18,\n",
    "        \"OO\" => 19,\n",
    "        \"TZ\" => 20,\n",
    "        \"UA\" => 21,\n",
    "        \"US\" => 22,\n",
    "        \"WN\" => 23,\n",
    "        \"XE\" => 24,\n",
    "        \"YV\" => 25,\n",
    "        \"Gain\" => 26)\n",
    "# mapping from column to variable names\n",
    "const col2var = map(reverse, var2col)\n",
    "\n",
    "# a custom function to generate [X y] from data table\n",
    "function generate_xy(tbl::NextTable)\n",
    "    # X matrix\n",
    "    XY = zeros(length(tbl), 26)\n",
    "    # intercept term\n",
    "    @views fill!(XY[:, 1], 1)\n",
    "    # Distance term\n",
    "    @views copy!(XY[:, 2], columns(tbl, :Distance))\n",
    "    # DepDelay term\n",
    "    @views copy!(XY[:, 3], columns(tbl, :DepDelay))\n",
    "    # Dummy coding for airline\n",
    "    @inbounds for i in 1:length(tbl)\n",
    "        tbl[i][:UniqueCarrier] == \"9E\" && continue # base level\n",
    "        XY[i, var2col[tbl[i][:UniqueCarrier]]] = 1\n",
    "    end\n",
    "    # last column is response: gain = depdelay - arrdelay\n",
    "    XY[:, 26] = select(tbl, \n",
    "        (:DepDelay, :ArrDelay) => p -> Float64(p.DepDelay - p.ArrDelay))\n",
    "    # return\n",
    "    XY\n",
    "end"
   ]
  },
  {
   "cell_type": "code",
   "execution_count": 1,
   "metadata": {},
   "outputs": [
    {
     "name": "stdout",
     "output_type": "stream",
     "text": [
      " 48.905613 seconds (153.54 M allocations: 8.160 GiB, 25.52% gc time)\n",
      " 34.437851 seconds (31.53 M allocations: 4.276 GiB, 6.43% gc time)\n"
     ]
    },
    {
     "data": {
      "text/plain": [
       "Table with 7129270 rows, 4 columns:\n",
       "DepDelay  ArrDelay  UniqueCarrier  Distance\n",
       "───────────────────────────────────────────\n",
       "-7        -14       \"UA\"           599\n",
       "-9        -4        \"UA\"           599\n",
       "3         5         \"UA\"           599\n",
       "-3        -16       \"UA\"           599\n",
       "5         3         \"UA\"           599\n",
       "-2        -10       \"UA\"           599\n",
       "20        29        \"UA\"           599\n",
       "-3        -11       \"UA\"           599\n",
       "-7        -12       \"UA\"           599\n",
       "-4        -14       \"UA\"           599\n",
       "1         8         \"UA\"           599\n",
       "-2        -14       \"UA\"           599\n",
       "⋮\n",
       "0         -4        \"DL\"           821\n",
       "-2        -9        \"DL\"           590\n",
       "-2        -10       \"DL\"           532\n",
       "-1        6         \"DL\"           391\n",
       "2         -15       \"DL\"           599\n",
       "-6        -15       \"DL\"           215\n",
       "6         -1        \"DL\"           425\n",
       "6         -1        \"DL\"           1541\n",
       "6         3         \"DL\"           547\n",
       "-2        -3        \"DL\"           545\n",
       "-2        -13       \"DL\"           594"
      ]
     },
     "execution_count": 1,
     "metadata": {},
     "output_type": "execute_result"
    }
   ],
   "source": [
    "using JuliaDB\n",
    "# only need columns: DepDelay, ArrDelay, UniqueCarrier, Distance\n",
    "@time yrtable2003 = loadtable(\n",
    "    \"2003.csv\", \n",
    "    datacols = [\"DepDelay\", \"ArrDelay\", \"UniqueCarrier\", \"Distance\"])\n",
    "@time yrtable2004 = loadtable(\n",
    "    \"2004.csv\", \n",
    "    datacols = [\"DepDelay\", \"ArrDelay\", \"UniqueCarrier\", \"Distance\"])"
   ]
  },
  {
   "cell_type": "code",
   "execution_count": 14,
   "metadata": {},
   "outputs": [
    {
     "data": {
      "text/plain": [
       "26×26 Array{Float64,2}:\n",
       "      6.37569e6  4.5497e9         3.32999e7   …  0.0        1.03685e7 \n",
       "      4.5497e9   5.28186e12       2.37964e10     0.0        1.01318e10\n",
       "      3.32999e7  2.37964e10       4.51178e9      0.0        4.30844e7 \n",
       " 738567.0        7.7143e8         3.42572e6      0.0        1.05689e6 \n",
       "      0.0        0.0              0.0            0.0        0.0       \n",
       " 157602.0        1.31742e8   895388.0         …  0.0   394580.0       \n",
       "  66732.0        8.49327e7   377211.0            0.0   311411.0       \n",
       " 299843.0        3.24764e8        1.1675e6       0.0    33212.0       \n",
       " 280010.0        1.00559e8        2.63428e6      0.0   804746.0       \n",
       " 652602.0        5.2721e8         2.95877e6      0.0   442798.0       \n",
       " 266760.0        1.08515e8        2.37215e6   …  0.0   595560.0       \n",
       "      0.0        0.0              0.0            0.0        0.0       \n",
       " 142817.0        8.51543e7   983078.0            0.0  -211739.0       \n",
       "   7792.0        4.77305e6     8050.0            0.0     9164.0       \n",
       " 187266.0        1.86801e8        1.08765e6      0.0   514332.0       \n",
       " 414902.0        1.38511e8        2.07969e6   …  0.0   320786.0       \n",
       " 492274.0        3.64361e8        1.06672e6      0.0   100264.0       \n",
       "      0.0        0.0              0.0            0.0        0.0       \n",
       " 389762.0        1.28088e8        2.11875e6      0.0        1.22713e6 \n",
       "  68265.0        7.81216e7   323703.0            0.0   -14864.0       \n",
       " 537178.0        5.58834e8        2.50021e6   …  0.0   827482.0       \n",
       " 404988.0        2.70963e8        1.67781e6      0.0   -32494.0       \n",
       " 947231.0        5.28468e8        6.30219e6      0.0        4.34724e6 \n",
       " 321098.0        1.56471e8        1.321e6        0.0  -358014.0       \n",
       "      0.0        0.0              0.0            0.0        0.0       \n",
       "      1.03685e7  1.01318e10       4.30844e7   …  0.0        1.51637e9 "
      ]
     },
     "execution_count": 14,
     "metadata": {},
     "output_type": "execute_result"
    }
   ],
   "source": [
    "using SweepOperator\n",
    "yrtable2003 = dropna(yrtable2003)\n",
    "yrtable2004 = dropna(yrtable2004)\n",
    "g3 = generate_xy(yrtable2003)\n",
    "g4 = generate_xy(yrtable2004)\n",
    "g = g3'*g3 \n",
    "g"
   ]
  },
  {
   "cell_type": "code",
   "execution_count": 13,
   "metadata": {},
   "outputs": [
    {
     "data": {
      "text/plain": [
       "26×26 Array{Float64,2}:\n",
       "    NaN          NaN           …  NaN              NaN    NaN    NaN\n",
       "      4.5497e9   NaN              NaN              NaN    NaN    NaN\n",
       "      3.32999e7    2.37964e10     NaN              NaN    NaN    NaN\n",
       " 738567.0          7.7143e8       NaN              NaN    NaN    NaN\n",
       "      0.0          0.0            NaN              NaN    NaN    NaN\n",
       " 157602.0          1.31742e8   …  NaN              NaN    NaN    NaN\n",
       "  66732.0          8.49327e7      NaN              NaN    NaN    NaN\n",
       " 299843.0          3.24764e8      NaN              NaN    NaN    NaN\n",
       " 280010.0          1.00559e8      NaN              NaN    NaN    NaN\n",
       " 652602.0          5.2721e8       NaN              NaN    NaN    NaN\n",
       " 266760.0          1.08515e8   …  NaN              NaN    NaN    NaN\n",
       "      0.0          0.0            NaN              NaN    NaN    NaN\n",
       " 142817.0          8.51543e7      NaN              NaN    NaN    NaN\n",
       "   7792.0          4.77305e6      NaN              NaN    NaN    NaN\n",
       " 187266.0          1.86801e8      NaN              NaN    NaN    NaN\n",
       " 414902.0          1.38511e8   …  NaN              NaN    NaN    NaN\n",
       " 492274.0          3.64361e8      NaN              NaN    NaN    NaN\n",
       "      0.0          0.0            NaN              NaN    NaN    NaN\n",
       " 389762.0          1.28088e8      NaN              NaN    NaN    NaN\n",
       "  68265.0          7.81216e7      NaN              NaN    NaN    NaN\n",
       " 537178.0          5.58834e8   …  NaN              NaN    NaN    NaN\n",
       " 404988.0          2.70963e8      NaN              NaN    NaN    NaN\n",
       " 947231.0          5.28468e8      NaN              NaN    NaN    NaN\n",
       " 321098.0          1.56471e8        0.0            NaN    NaN    NaN\n",
       "      0.0          0.0              0.0              0.0  NaN    NaN\n",
       "      1.03685e7    1.01318e10  …    4.34724e6  -358014.0    0.0  NaN"
      ]
     },
     "execution_count": 13,
     "metadata": {},
     "output_type": "execute_result"
    }
   ],
   "source": [
    "sweep!(g, 1:25)"
   ]
  },
  {
   "cell_type": "code",
   "execution_count": null,
   "metadata": {},
   "outputs": [],
   "source": [
    "# maybe a function\n",
    "using JuliaDB\n",
    "# pre-allocate a matrix gram_augmented  \n",
    "n = 0\n",
    "p = 26\n",
    "\n",
    "gram_augmented = zeros(p, p)\n",
    "gram_augmented_sum = zeros(p, p)\n",
    "@time for year = 2003:2008\n",
    "    filename = join([string(year),\".csv\"]) \n",
    "    yrtable = loadtable(\n",
    "        file, \n",
    "        datacols = [\"DepDelay\", \"ArrDelay\", \"UniqueCarrier\", \"Distance\"])\n",
    "    yrtable = dropna(yrtable)\n",
    "    xy_matrix = generate_xy(yrtable)\n",
    "    n += size()\n",
    "    gram_augmented = At_mul_B(xy_matrix, xy_matrix)\n",
    "    gram_augmented_sum += gram_augmented\n",
    "end"
   ]
  },
  {
   "cell_type": "code",
   "execution_count": null,
   "metadata": {},
   "outputs": [],
   "source": [
    "rand()"
   ]
  },
  {
   "cell_type": "code",
   "execution_count": 35,
   "metadata": {},
   "outputs": [
    {
     "data": {
      "text/plain": [
       "26×26 Array{Float64,2}:\n",
       "    NaN          NaN           …  NaN              NaN    NaN    NaN\n",
       "      4.5497e9   NaN              NaN              NaN    NaN    NaN\n",
       "      3.32999e7    2.37964e10     NaN              NaN    NaN    NaN\n",
       " 738567.0          7.7143e8       NaN              NaN    NaN    NaN\n",
       "      0.0          0.0            NaN              NaN    NaN    NaN\n",
       " 157602.0          1.31742e8   …  NaN              NaN    NaN    NaN\n",
       "  66732.0          8.49327e7      NaN              NaN    NaN    NaN\n",
       " 299843.0          3.24764e8      NaN              NaN    NaN    NaN\n",
       " 280010.0          1.00559e8      NaN              NaN    NaN    NaN\n",
       " 652602.0          5.2721e8       NaN              NaN    NaN    NaN\n",
       " 266760.0          1.08515e8   …  NaN              NaN    NaN    NaN\n",
       "      0.0          0.0            NaN              NaN    NaN    NaN\n",
       " 142817.0          8.51543e7      NaN              NaN    NaN    NaN\n",
       "   7792.0          4.77305e6      NaN              NaN    NaN    NaN\n",
       " 187266.0          1.86801e8      NaN              NaN    NaN    NaN\n",
       " 414902.0          1.38511e8   …  NaN              NaN    NaN    NaN\n",
       " 492274.0          3.64361e8      NaN              NaN    NaN    NaN\n",
       "      0.0          0.0            NaN              NaN    NaN    NaN\n",
       " 389762.0          1.28088e8      NaN              NaN    NaN    NaN\n",
       "  68265.0          7.81216e7      NaN              NaN    NaN    NaN\n",
       " 537178.0          5.58834e8   …  NaN              NaN    NaN    NaN\n",
       " 404988.0          2.70963e8      NaN              NaN    NaN    NaN\n",
       " 947231.0          5.28468e8      NaN              NaN    NaN    NaN\n",
       " 321098.0          1.56471e8        0.0            NaN    NaN    NaN\n",
       "      0.0          0.0              0.0              0.0  NaN    NaN\n",
       "      1.03685e7    1.01318e10  …    4.34724e6  -358014.0    0.0  NaN"
      ]
     },
     "execution_count": 35,
     "metadata": {},
     "output_type": "execute_result"
    }
   ],
   "source": [
    "using SweepOperator\n",
    "\n",
    "sweep!(gram_augmented_sum, 1:(p - 1))"
   ]
  },
  {
   "cell_type": "code",
   "execution_count": 32,
   "metadata": {},
   "outputs": [
    {
     "data": {
      "text/plain": [
       "26×26 Array{Float64,2}:\n",
       "    NaN           NaN             NaN          …  NaN          NaN    NaN\n",
       "      2.72982e10  NaN             NaN             NaN          NaN    NaN\n",
       "      1.99799e8     1.42778e11    NaN             NaN          NaN    NaN\n",
       "      4.4314e6      4.62858e9       2.05543e7     NaN          NaN    NaN\n",
       "      0.0           0.0             0.0           NaN          NaN    NaN\n",
       " 945612.0           7.9045e8        5.37233e6  …  NaN          NaN    NaN\n",
       " 400392.0           5.09596e8       2.26327e6     NaN          NaN    NaN\n",
       "      1.79906e6     1.94858e9       7.005e6       NaN          NaN    NaN\n",
       "      1.68006e6     6.03353e8       1.58057e7     NaN          NaN    NaN\n",
       "      3.91561e6     3.16326e9       1.77526e7     NaN          NaN    NaN\n",
       "      1.60056e6     6.51089e8       1.42329e7  …  NaN          NaN    NaN\n",
       "      0.0           0.0             0.0           NaN          NaN    NaN\n",
       " 856902.0           5.10926e8       5.89847e6     NaN          NaN    NaN\n",
       "  46752.0           2.86383e7   48300.0           NaN          NaN    NaN\n",
       "      1.1236e6      1.12081e9       6.52592e6     NaN          NaN    NaN\n",
       "      2.48941e6     8.31068e8       1.24782e7  …  NaN          NaN    NaN\n",
       "      2.95364e6     2.18617e9       6.40032e6     NaN          NaN    NaN\n",
       "      0.0           0.0             0.0           NaN          NaN    NaN\n",
       "      2.33857e6     7.68528e8       1.27125e7     NaN          NaN    NaN\n",
       " 409590.0           4.6873e8        1.94222e6     NaN          NaN    NaN\n",
       "      3.22307e6     3.35301e9       1.50012e7  …  NaN          NaN    NaN\n",
       "      2.42993e6     1.62578e9       1.00669e7     NaN          NaN    NaN\n",
       "      5.68339e6     3.17081e9       3.78132e7     NaN          NaN    NaN\n",
       "      1.92659e6     9.38827e8       7.92598e6     NaN          NaN    NaN\n",
       "      0.0           0.0             0.0             0.0        NaN    NaN\n",
       "      6.22109e7     6.07911e10      2.58506e8  …   -2.14808e6    0.0  NaN"
      ]
     },
     "execution_count": 32,
     "metadata": {},
     "output_type": "execute_result"
    }
   ],
   "source": [
    "gram_augmented_sum"
   ]
  },
  {
   "cell_type": "code",
   "execution_count": 25,
   "metadata": {},
   "outputs": [
    {
     "name": "stdout",
     "output_type": "stream",
     "text": [
      " 35.663969 seconds (144.01 M allocations: 7.497 GiB, 34.53% gc time)\n"
     ]
    },
    {
     "data": {
      "text/plain": [
       "Table with 6488540 rows, 4 columns:\n",
       "DepDelay  ArrDelay  UniqueCarrier  Distance\n",
       "───────────────────────────────────────────\n",
       "-4        -1        \"UA\"           837\n",
       "-1        -3        \"UA\"           837\n",
       "29        23        \"UA\"           837\n",
       "-2        -9        \"UA\"           1835\n",
       "18        52        \"UA\"           1835\n",
       "-4        6         \"UA\"           1835\n",
       "-4        -8        \"UA\"           1835\n",
       "0         2         \"UA\"           1835\n",
       "-4        19        \"UA\"           1835\n",
       "3         4         \"UA\"           413\n",
       "-4        -23       \"UA\"           413\n",
       "-3        -19       \"UA\"           413\n",
       "⋮\n",
       "#NA       #NA       \"DL\"           1891\n",
       "29        62        \"DL\"           581\n",
       "39        66        \"DL\"           1891\n",
       "26        27        \"DL\"           1678\n",
       "114       134       \"DL\"           946\n",
       "44        53        \"DL\"           813\n",
       "16        47        \"DL\"           432\n",
       "50        54        \"DL\"           432\n",
       "-3        -5        \"DL\"           453\n",
       "3         3         \"DL\"           689\n",
       "-1        -1        \"DL\"           1929"
      ]
     },
     "execution_count": 25,
     "metadata": {},
     "output_type": "execute_result"
    }
   ],
   "source": [
    "  @time yrtable = loadtable(\n",
    "        file, \n",
    "        datacols = [\"DepDelay\", \"ArrDelay\", \"UniqueCarrier\", \"Distance\"])"
   ]
  },
  {
   "cell_type": "code",
   "execution_count": 27,
   "metadata": {},
   "outputs": [
    {
     "ename": "LoadError",
     "evalue": "\u001b[91mCSV.CSVError(\"error parsing a `Int64` value on column 13, row 5331553; encountered 'N'\")\u001b[39m",
     "output_type": "error",
     "traceback": [
      "\u001b[91mCSV.CSVError(\"error parsing a `Int64` value on column 13, row 5331553; encountered 'N'\")\u001b[39m",
      "",
      "Stacktrace:",
      " [1] \u001b[1mchecknullend\u001b[22m\u001b[22m at \u001b[1m/Applications/JuliaPro-0.6.2.2.app/Contents/Resources/pkgs-0.6.2.2/v0.6/CSV/src/parsefields.jl:56\u001b[22m\u001b[22m [inlined]",
      " [2] \u001b[1mparsefield\u001b[22m\u001b[22m at \u001b[1m/Applications/JuliaPro-0.6.2.2.app/Contents/Resources/pkgs-0.6.2.2/v0.6/CSV/src/parsefields.jl:127\u001b[22m\u001b[22m [inlined]",
      " [3] \u001b[1mparsefield\u001b[22m\u001b[22m at \u001b[1m/Applications/JuliaPro-0.6.2.2.app/Contents/Resources/pkgs-0.6.2.2/v0.6/CSV/src/parsefields.jl:107\u001b[22m\u001b[22m [inlined]",
      " [4] \u001b[1mstreamfrom\u001b[22m\u001b[22m\u001b[1m(\u001b[22m\u001b[22m::CSV.Source, ::Type{DataStreams.Data.Field}, ::Type{Nullable{Int64}}, ::Int64, ::Int64\u001b[1m)\u001b[22m\u001b[22m at \u001b[1m/Applications/JuliaPro-0.6.2.2.app/Contents/Resources/pkgs-0.6.2.2/v0.6/CSV/src/Source.jl:195\u001b[22m\u001b[22m",
      " [5] \u001b[1mstreamto!\u001b[22m\u001b[22m\u001b[1m(\u001b[22m\u001b[22m::DataFrames.DataFrame, ::Type{DataStreams.Data.Field}, ::CSV.Source, ::Type{Nullable{Int64}}, ::Type{Nullable{Int64}}, ::Int64, ::Int64, ::DataStreams.Data.Schema{true}, ::Base.#identity\u001b[1m)\u001b[22m\u001b[22m at \u001b[1m/Applications/JuliaPro-0.6.2.2.app/Contents/Resources/pkgs-0.6.2.2/v0.6/DataStreams/src/DataStreams.jl:173\u001b[22m\u001b[22m",
      " [6] \u001b[1mstream!\u001b[22m\u001b[22m\u001b[1m(\u001b[22m\u001b[22m::CSV.Source, ::Type{DataStreams.Data.Field}, ::DataFrames.DataFrame, ::DataStreams.Data.Schema{true}, ::DataStreams.Data.Schema{true}, ::Array{Function,1}\u001b[1m)\u001b[22m\u001b[22m at \u001b[1m/Applications/JuliaPro-0.6.2.2.app/Contents/Resources/pkgs-0.6.2.2/v0.6/DataStreams/src/DataStreams.jl:187\u001b[22m\u001b[22m",
      " [7] \u001b[1m#stream!#5\u001b[22m\u001b[22m\u001b[1m(\u001b[22m\u001b[22m::Array{Any,1}, ::Function, ::CSV.Source, ::Type{DataFrames.DataFrame}, ::Bool, ::Dict{Int64,Function}\u001b[1m)\u001b[22m\u001b[22m at \u001b[1m/Applications/JuliaPro-0.6.2.2.app/Contents/Resources/pkgs-0.6.2.2/v0.6/DataStreams/src/DataStreams.jl:151\u001b[22m\u001b[22m",
      " [8] \u001b[1mstream!\u001b[22m\u001b[22m\u001b[1m(\u001b[22m\u001b[22m::CSV.Source, ::Type{DataFrames.DataFrame}, ::Bool, ::Dict{Int64,Function}\u001b[1m)\u001b[22m\u001b[22m at \u001b[1m/Applications/JuliaPro-0.6.2.2.app/Contents/Resources/pkgs-0.6.2.2/v0.6/DataStreams/src/DataStreams.jl:145\u001b[22m\u001b[22m",
      " [9] \u001b[1m#read#29\u001b[22m\u001b[22m\u001b[1m(\u001b[22m\u001b[22m::Bool, ::Dict{Int64,Function}, ::Array{Any,1}, ::Function, ::String, ::Type{T} where T\u001b[1m)\u001b[22m\u001b[22m at \u001b[1m/Applications/JuliaPro-0.6.2.2.app/Contents/Resources/pkgs-0.6.2.2/v0.6/CSV/src/Source.jl:299\u001b[22m\u001b[22m",
      " [10] \u001b[1mread\u001b[22m\u001b[22m\u001b[1m(\u001b[22m\u001b[22m::String\u001b[1m)\u001b[22m\u001b[22m at \u001b[1m/Applications/JuliaPro-0.6.2.2.app/Contents/Resources/pkgs-0.6.2.2/v0.6/CSV/src/Source.jl:294\u001b[22m\u001b[22m",
      " [11] \u001b[1minclude_string\u001b[22m\u001b[22m\u001b[1m(\u001b[22m\u001b[22m::String, ::String\u001b[1m)\u001b[22m\u001b[22m at \u001b[1m./loading.jl:522\u001b[22m\u001b[22m"
     ]
    }
   ],
   "source": [
    "using CSV\n",
    "@time CSV.read(\"2003.csv\")"
   ]
  },
  {
   "cell_type": "code",
   "execution_count": null,
   "metadata": {},
   "outputs": [],
   "source": [
    "using JuliaDB\n",
    "# pre-allocate a matrix gram_augmented  \n",
    "p = 26\n",
    "\n",
    "gram_augmented = zeros(p, p)\n",
    "gram_augmented_sum = zeros(p, p)\n",
    "@time for year = 2003:2004\n",
    "    filename = join([string(year),\".csv\"]) \n",
    "    yrtable = loadtable(\n",
    "        file, \n",
    "        datacols = [\"DepDelay\", \"ArrDelay\", \"UniqueCarrier\", \"Distance\"])\n",
    "    yrtable = dropna(yrtable)\n",
    "    xy_matrix = generate_xy(yrtable)\n",
    "    At_mul_B!(gram_augmented, xy_matrix, xy_matrix)\n",
    "    gram_augmented_sum .= gram_augmented_sum + gram_augmented\n",
    "end"
   ]
  },
  {
   "cell_type": "code",
   "execution_count": null,
   "metadata": {},
   "outputs": [],
   "source": [
    "sweep!(gram_augmented_sum, 1:p - 1)"
   ]
  },
  {
   "cell_type": "code",
   "execution_count": 23,
   "metadata": {},
   "outputs": [
    {
     "name": "stdout",
     "output_type": "stream",
     "text": [
      "  0.167099 seconds (6 allocations: 190.735 MiB, 5.77% gc time)\n",
      "  0.199209 seconds (6 allocations: 190.735 MiB, 19.32% gc time)\n",
      "  0.319038 seconds (31 allocations: 190.736 MiB, 57.87% gc time)\n"
     ]
    }
   ],
   "source": [
    "x = rand(5000, 5000);\n",
    "y = rand(5000, 5000);\n",
    "@time x .= x + y;\n",
    "@time x = x + y;\n",
    "@time x .= x .+ y;"
   ]
  },
  {
   "cell_type": "code",
   "execution_count": 18,
   "metadata": {},
   "outputs": [
    {
     "data": {
      "text/plain": [
       "26×26 Array{Float64,2}:\n",
       "      6.37569e6  4.5497e9         3.32999e7   …  0.0        1.03685e7 \n",
       "      4.5497e9   5.28186e12       2.37964e10     0.0        1.01318e10\n",
       "      3.32999e7  2.37964e10       4.51178e9      0.0        4.30844e7 \n",
       " 738567.0        7.7143e8         3.42572e6      0.0        1.05689e6 \n",
       "      0.0        0.0              0.0            0.0        0.0       \n",
       " 157602.0        1.31742e8   895388.0         …  0.0   394580.0       \n",
       "  66732.0        8.49327e7   377211.0            0.0   311411.0       \n",
       " 299843.0        3.24764e8        1.1675e6       0.0    33212.0       \n",
       " 280010.0        1.00559e8        2.63428e6      0.0   804746.0       \n",
       " 652602.0        5.2721e8         2.95877e6      0.0   442798.0       \n",
       " 266760.0        1.08515e8        2.37215e6   …  0.0   595560.0       \n",
       "      0.0        0.0              0.0            0.0        0.0       \n",
       " 142817.0        8.51543e7   983078.0            0.0  -211739.0       \n",
       "   7792.0        4.77305e6     8050.0            0.0     9164.0       \n",
       " 187266.0        1.86801e8        1.08765e6      0.0   514332.0       \n",
       " 414902.0        1.38511e8        2.07969e6   …  0.0   320786.0       \n",
       " 492274.0        3.64361e8        1.06672e6      0.0   100264.0       \n",
       "      0.0        0.0              0.0            0.0        0.0       \n",
       " 389762.0        1.28088e8        2.11875e6      0.0        1.22713e6 \n",
       "  68265.0        7.81216e7   323703.0            0.0   -14864.0       \n",
       " 537178.0        5.58834e8        2.50021e6   …  0.0   827482.0       \n",
       " 404988.0        2.70963e8        1.67781e6      0.0   -32494.0       \n",
       " 947231.0        5.28468e8        6.30219e6      0.0        4.34724e6 \n",
       " 321098.0        1.56471e8        1.321e6        0.0  -358014.0       \n",
       "      0.0        0.0              0.0            0.0        0.0       \n",
       "      1.03685e7  1.01318e10       4.30844e7   …  0.0        1.51637e9 "
      ]
     },
     "execution_count": 18,
     "metadata": {},
     "output_type": "execute_result"
    }
   ],
   "source": [
    "xy_matrix = generate_xy(yrtable)\n",
    "gram_augmented = zeros(p, p)\n",
    "At_mul_B!(gram_augmented, xy_matrix, xy_matrix)"
   ]
  },
  {
   "cell_type": "markdown",
   "metadata": {},
   "source": [
    "### Q1(4)\n",
    "\n",
    "Go to your resume/cv and claim you have experience performing analytics on data with hundred millions of observations."
   ]
  },
  {
   "cell_type": "markdown",
   "metadata": {},
   "source": [
    "### Sample code\n",
    "\n",
    "Following code explores the data in 2003 and generates the design matrix and responses for that year. Feel free to use the code in your solution."
   ]
  },
  {
   "cell_type": "code",
   "execution_count": 11,
   "metadata": {},
   "outputs": [
    {
     "name": "stdout",
     "output_type": "stream",
     "text": [
      "Year,Month,DayofMonth,DayOfWeek,DepTime,CRSDepTime,ArrTime,CRSArrTime,UniqueCarrier,FlightNum,TailNum,ActualElapsedTime,CRSElapsedTime,AirTime,ArrDelay,DepDelay,Origin,Dest,Distance,TaxiIn,TaxiOut,Cancelled,CancellationCode,Diverted,CarrierDelay,WeatherDelay,NASDelay,SecurityDelay,LateAircraftDelay\n",
      "2003,1,29,3,1651,1655,1912,1913,UA,1017,N202UA,141,138,119,-1,-4,ORD,MSY,837,5,17,0,NA,0,NA,NA,NA,NA,NA\n",
      "2003,1,30,4,1654,1655,1910,1913,UA,1017,N311UA,136,138,108,-3,-1,ORD,MSY,837,2,26,0,NA,0,NA,NA,NA,NA,NA\n",
      "2003,1,31,5,1724,1655,1936,1913,UA,1017,N317UA,132,138,110,23,29,ORD,MSY,837,5,17,0,NA,0,NA,NA,NA,NA,NA\n",
      "2003,1,1,3,1033,1035,1625,1634,UA,1018,N409UA,232,239,215,-9,-2,OAK,ORD,1835,6,11,0,NA,0,NA,NA,NA,NA,NA\n",
      "2003,1,2,4,1053,1035,1726,1634,UA,1018,N496UA,273,239,214,52,18,OAK,ORD,1835,13,46,0,NA,0,NA,NA,NA,NA,NA\n",
      "2003,1,3,5,1031,1035,1640,1634,UA,1018,N412UA,249,239,223,6,-4,OAK,ORD,1835,13,13,0,NA,0,NA,NA,NA,NA,NA\n",
      "2003,1,4,6,1031,1035,1626,1634,UA,1018,N455UA,235,239,219,-8,-4,OAK,ORD,1835,5,11,0,NA,0,NA,NA,NA,NA,NA\n",
      "2003,1,5,7,1035,1035,1636,1634,UA,1018,N828UA,241,239,227,2,0,OAK,ORD,1835,5,9,0,NA,0,NA,NA,NA,NA,NA\n",
      "2003,1,6,1,1031,1035,1653,1634,UA,1018,N453UA,262,239,241,19,-4,OAK,ORD,1835,7,14,0,NA,0,NA,NA,NA,NA,NA\n"
     ]
    }
   ],
   "source": [
    ";head 2003.csv"
   ]
  },
  {
   "cell_type": "code",
   "execution_count": 2,
   "metadata": {},
   "outputs": [
    {
     "data": {
      "text/plain": [
       "6488541"
      ]
     },
     "execution_count": 2,
     "metadata": {},
     "output_type": "execute_result"
    }
   ],
   "source": [
    "# how many data points\n",
    "countlines(\"2003.csv\")"
   ]
  },
  {
   "cell_type": "code",
   "execution_count": 3,
   "metadata": {},
   "outputs": [
    {
     "name": "stdout",
     "output_type": "stream",
     "text": [
      " 37.743440 seconds (144.03 M allocations: 7.497 GiB, 37.49% gc time)\n"
     ]
    },
    {
     "data": {
      "text/plain": [
       "Table with 6488540 rows, 4 columns:\n",
       "DepDelay  ArrDelay  UniqueCarrier  Distance\n",
       "───────────────────────────────────────────\n",
       "-4        -1        \"UA\"           837\n",
       "-1        -3        \"UA\"           837\n",
       "29        23        \"UA\"           837\n",
       "-2        -9        \"UA\"           1835\n",
       "18        52        \"UA\"           1835\n",
       "-4        6         \"UA\"           1835\n",
       "-4        -8        \"UA\"           1835\n",
       "0         2         \"UA\"           1835\n",
       "-4        19        \"UA\"           1835\n",
       "3         4         \"UA\"           413\n",
       "-4        -23       \"UA\"           413\n",
       "-3        -19       \"UA\"           413\n",
       "⋮\n",
       "#NA       #NA       \"DL\"           1891\n",
       "29        62        \"DL\"           581\n",
       "39        66        \"DL\"           1891\n",
       "26        27        \"DL\"           1678\n",
       "114       134       \"DL\"           946\n",
       "44        53        \"DL\"           813\n",
       "16        47        \"DL\"           432\n",
       "50        54        \"DL\"           432\n",
       "-3        -5        \"DL\"           453\n",
       "3         3         \"DL\"           689\n",
       "-1        -1        \"DL\"           1929"
      ]
     },
     "execution_count": 3,
     "metadata": {},
     "output_type": "execute_result"
    }
   ],
   "source": [
    "@time yrtable = loadtable(\n",
    "    \"2003.csv\", \n",
    "    datacols = [\"DepDelay\", \"ArrDelay\", \"UniqueCarrier\", \"Distance\"])"
   ]
  },
  {
   "cell_type": "code",
   "execution_count": 4,
   "metadata": {},
   "outputs": [
    {
     "data": {
      "text/plain": [
       "Table with 6375689 rows, 4 columns:\n",
       "DepDelay  ArrDelay  UniqueCarrier  Distance\n",
       "───────────────────────────────────────────\n",
       "-4        -1        \"UA\"           837\n",
       "-1        -3        \"UA\"           837\n",
       "29        23        \"UA\"           837\n",
       "-2        -9        \"UA\"           1835\n",
       "18        52        \"UA\"           1835\n",
       "-4        6         \"UA\"           1835\n",
       "-4        -8        \"UA\"           1835\n",
       "0         2         \"UA\"           1835\n",
       "-4        19        \"UA\"           1835\n",
       "3         4         \"UA\"           413\n",
       "-4        -23       \"UA\"           413\n",
       "-3        -19       \"UA\"           413\n",
       "⋮\n",
       "70        66        \"DL\"           1891\n",
       "29        62        \"DL\"           581\n",
       "39        66        \"DL\"           1891\n",
       "26        27        \"DL\"           1678\n",
       "114       134       \"DL\"           946\n",
       "44        53        \"DL\"           813\n",
       "16        47        \"DL\"           432\n",
       "50        54        \"DL\"           432\n",
       "-3        -5        \"DL\"           453\n",
       "3         3         \"DL\"           689\n",
       "-1        -1        \"DL\"           1929"
      ]
     },
     "execution_count": 4,
     "metadata": {},
     "output_type": "execute_result"
    }
   ],
   "source": [
    "# drop rows with missing values\n",
    "yrtable = dropna(yrtable)"
   ]
  },
  {
   "cell_type": "code",
   "execution_count": 36,
   "metadata": {},
   "outputs": [
    {
     "data": {
      "text/plain": [
       "Table with 2 rows, 2 columns:\n",
       "x  y\n",
       "────\n",
       "1  3\n",
       "2  4"
      ]
     },
     "execution_count": 36,
     "metadata": {},
     "output_type": "execute_result"
    }
   ],
   "source": [
    "t = table([1,2],[3,4], names=[:x, :y])"
   ]
  },
  {
   "cell_type": "code",
   "execution_count": 6,
   "metadata": {},
   "outputs": [
    {
     "name": "stdout",
     "output_type": "stream",
     "text": [
      "  3.000190 seconds (13.01 M allocations: 1.866 GiB, 32.33% gc time)\n"
     ]
    },
    {
     "data": {
      "text/plain": [
       "6375689×26 Array{Float64,2}:\n",
       " 1.0   837.0   -4.0  0.0  0.0  0.0  …  0.0  1.0  0.0  0.0  0.0  0.0   -3.0\n",
       " 1.0   837.0   -1.0  0.0  0.0  0.0     0.0  1.0  0.0  0.0  0.0  0.0    2.0\n",
       " 1.0   837.0   29.0  0.0  0.0  0.0     0.0  1.0  0.0  0.0  0.0  0.0    6.0\n",
       " 1.0  1835.0   -2.0  0.0  0.0  0.0     0.0  1.0  0.0  0.0  0.0  0.0    7.0\n",
       " 1.0  1835.0   18.0  0.0  0.0  0.0     0.0  1.0  0.0  0.0  0.0  0.0  -34.0\n",
       " 1.0  1835.0   -4.0  0.0  0.0  0.0  …  0.0  1.0  0.0  0.0  0.0  0.0  -10.0\n",
       " 1.0  1835.0   -4.0  0.0  0.0  0.0     0.0  1.0  0.0  0.0  0.0  0.0    4.0\n",
       " 1.0  1835.0    0.0  0.0  0.0  0.0     0.0  1.0  0.0  0.0  0.0  0.0   -2.0\n",
       " 1.0  1835.0   -4.0  0.0  0.0  0.0     0.0  1.0  0.0  0.0  0.0  0.0  -23.0\n",
       " 1.0   413.0    3.0  0.0  0.0  0.0     0.0  1.0  0.0  0.0  0.0  0.0   -1.0\n",
       " 1.0   413.0   -4.0  0.0  0.0  0.0  …  0.0  1.0  0.0  0.0  0.0  0.0   19.0\n",
       " 1.0   413.0   -3.0  0.0  0.0  0.0     0.0  1.0  0.0  0.0  0.0  0.0   16.0\n",
       " 1.0   413.0    0.0  0.0  0.0  0.0     0.0  1.0  0.0  0.0  0.0  0.0   12.0\n",
       " ⋮                             ⋮    ⋱       ⋮                          ⋮  \n",
       " 1.0   406.0  104.0  0.0  0.0  0.0     0.0  0.0  0.0  0.0  0.0  0.0   -4.0\n",
       " 1.0  1891.0   70.0  0.0  0.0  0.0     0.0  0.0  0.0  0.0  0.0  0.0    4.0\n",
       " 1.0   581.0   29.0  0.0  0.0  0.0     0.0  0.0  0.0  0.0  0.0  0.0  -33.0\n",
       " 1.0  1891.0   39.0  0.0  0.0  0.0  …  0.0  0.0  0.0  0.0  0.0  0.0  -27.0\n",
       " 1.0  1678.0   26.0  0.0  0.0  0.0     0.0  0.0  0.0  0.0  0.0  0.0   -1.0\n",
       " 1.0   946.0  114.0  0.0  0.0  0.0     0.0  0.0  0.0  0.0  0.0  0.0  -20.0\n",
       " 1.0   813.0   44.0  0.0  0.0  0.0     0.0  0.0  0.0  0.0  0.0  0.0   -9.0\n",
       " 1.0   432.0   16.0  0.0  0.0  0.0     0.0  0.0  0.0  0.0  0.0  0.0  -31.0\n",
       " 1.0   432.0   50.0  0.0  0.0  0.0  …  0.0  0.0  0.0  0.0  0.0  0.0   -4.0\n",
       " 1.0   453.0   -3.0  0.0  0.0  0.0     0.0  0.0  0.0  0.0  0.0  0.0    2.0\n",
       " 1.0   689.0    3.0  0.0  0.0  0.0     0.0  0.0  0.0  0.0  0.0  0.0    0.0\n",
       " 1.0  1929.0   -1.0  0.0  0.0  0.0     0.0  0.0  0.0  0.0  0.0  0.0    0.0"
      ]
     },
     "execution_count": 6,
     "metadata": {},
     "output_type": "execute_result"
    }
   ],
   "source": [
    "@time xy = generate_xy(yrtable)"
   ]
  },
  {
   "cell_type": "markdown",
   "metadata": {},
   "source": [
    "## Q2 - Google PageRank\n",
    "\n",
    "We are going to try different numerical methods learnt in class on the [Google PageRank problem](https://en.wikipedia.org/wiki/PageRank)."
   ]
  },
  {
   "cell_type": "markdown",
   "metadata": {},
   "source": [
    "### Q2(1)\n",
    "\n",
    "Let $\\mathbf{A} \\in \\{0,1\\}^{n \\times n}$ be the connectivity matrix of $n$ web pages with entries\n",
    "$$\n",
    "\\begin{eqnarray*}\n",
    "\ta_{ij}= \\begin{cases}\n",
    "\t1 & \\text{if page $i$ links to page $j$} \\\\\n",
    "\t0 & \\text{otherwise}\n",
    "\t\\end{cases}.\n",
    "\\end{eqnarray*}\n",
    "$$\n",
    "$r_i = \\sum_j a_{ij}$ is the out-degree of page $i$. That is $r_i$ is the number of links on page $i$. Imagine a random surfer exploring the space of $n$ pages according to the following rules.  \n",
    "\n",
    "- From a page $i$ with $r_i>0$\n",
    "    * with probability $p$, (s)he randomly chooses a link on page $i$ (uniformly) and follows that link to the next page  \n",
    "    * with probability $1-p$, (s)he randomly chooses one page from the set of all $n$ pages (uniformly) and proceeds to that page  \n",
    "- From a page $i$ with $r_i=0$ (a dangling page), (s)he randomly chooses one page from the set of all $n$ pages (uniformly) and proceeds to that page  \n",
    "    \n",
    "The process defines a Markov chain on the space of $n$ pages. Write the transition matrix $\\mathbf{P}$ of the Markov chain as a sparse matrix plus rank 1 matrix."
   ]
  },
  {
   "cell_type": "markdown",
   "metadata": {
    "collapsed": true
   },
   "source": [
    "### Q2(2)\n",
    "\n",
    "According to standard Markov chain theory, the (random) position of the surfer converges to the stationary distribution $\\mathbf{x} = (x_1,\\ldots,x_n)^T$ of the Markov chain. $x_i$ has the natural interpretation of the proportion of times the surfer visits page $i$ in the long run. Therefore $\\mathbf{x}$ serves as page ranks: a higher $x_i$ means page $i$ is more visited. It is well-known that $\\mathbf{x}$ is the left eigenvector corresponding to the top eigenvalue 1 of the transition matrix $\\mathbf{P}$. That is $\\mathbf{P}^T \\mathbf{x} = \\mathbf{x}$. Therefore $\\mathbf{x}$ can be solved as an eigen-problem. Show that it can also be cast as solving a linear system. Since the row sums of $\\mathbf{P}$ are 1, $\\mathbf{P}$ is rank deficient. We can replace the first equation by the $\\sum_{i=1}^n x_i = 1$."
   ]
  },
  {
   "cell_type": "markdown",
   "metadata": {},
   "source": [
    "### Q2(3)\n",
    "\n",
    "Download the [`ucla.zip`](http://hua-zhou.github.io/teaching/biostatm280-2018spring/hw/hw3/ucla.zip) package from course webpage. Unzip the package, which contains two files `U.txt` and `A.txt`. `U.txt` lists the 500 URL names. `A.txt` is the $500 \\times 500$ connectivity matrix. Read data into Julia. Compute summary statistics:\n",
    "* number of pages\n",
    "* number of edges\n",
    "* number of dangling nodes (pages with no out links)\n",
    "* which page has max in-degree?\n",
    "* which page has max out-degree?\n",
    "* visualize the sparsity pattern of $\\mathbf{A}$"
   ]
  },
  {
   "cell_type": "markdown",
   "metadata": {},
   "source": [
    "### Q2(4)\n",
    "\n",
    "Set the _teleportation_ parameter at $p = 0.85$. Try the following methods to solve for $\\mathbf{x}$ using the `ucla.zip` data.\n",
    "\n",
    "0. A dense linear system solver such as LU decomposition.  \n",
    "0. A simple iterative linear system solver such as Jacobi or Gauss-Seidel.   \n",
    "0. A dense eigen-solver.  \n",
    "0. A simple iterative eigen-solver such as the power method.  \n",
    "\n",
    "For iterative methods, you can use the [`IterativeSolvers.jl`](https://github.com/JuliaMath/IterativeSolvers.jl) package. Make sure to utilize the special structure of $\\mathbf{P}$ (sparse + rank 1) to speed up the matrix-vector multiplication."
   ]
  },
  {
   "cell_type": "markdown",
   "metadata": {},
   "source": [
    "### Q2(5)\n",
    "\n",
    "List the top 20 ranked URLs you found."
   ]
  },
  {
   "cell_type": "markdown",
   "metadata": {},
   "source": [
    "### Q2(6)\n",
    "\n",
    "As of Monday May 11 2018, there are at least 1.83 billion indexed webpages on internet according to <http://www.worldwidewebsize.com/>. Explain whether each of these methods works for the PageRank problem at this scale."
   ]
  }
 ],
 "metadata": {
  "kernelspec": {
   "display_name": "Julia 0.6.2",
   "language": "julia",
   "name": "julia-0.6"
  },
  "language_info": {
   "file_extension": ".jl",
   "mimetype": "application/julia",
   "name": "julia",
   "version": "0.6.2"
  },
  "toc": {
   "colors": {
    "hover_highlight": "#DAA520",
    "running_highlight": "#FF0000",
    "selected_highlight": "#FFD700"
   },
   "moveMenuLeft": true,
   "nav_menu": {
    "height": "87px",
    "width": "252px"
   },
   "navigate_menu": true,
   "number_sections": false,
   "sideBar": true,
   "threshold": 4,
   "toc_cell": false,
   "toc_section_display": "block",
   "toc_window_display": false,
   "widenNotebook": false
  }
 },
 "nbformat": 4,
 "nbformat_minor": 2
}
