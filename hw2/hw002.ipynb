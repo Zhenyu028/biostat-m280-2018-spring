{
 "cells": [
  {
   "cell_type": "markdown",
   "metadata": {},
   "source": [
    "# Biostat M280 Homework 2\n",
    "\n",
    "**Due May 11 @ 11:59PM**"
   ]
  },
  {
   "cell_type": "markdown",
   "metadata": {},
   "source": [
    "## Q1. Nonnegative Matrix Factorization\n",
    "\n",
    "Nonnegative matrix factorization (NNMF) was introduced by [Lee and Seung (1999)](https://www.nature.com/articles/44565) as an analog of principal components and vector quantization with applications in data compression and clustering. In this homework we consider algorithms for fitting NNMF and (optionally) high performance computing using graphical processing units (GPUs).\n",
    "\n",
    "<img src=\"./nnmf.png\" width=\"500\" align=\"center\"/>\n",
    "\n",
    "In mathematical terms, one approximates a data matrix $\\mathbf{X} \\in \\mathbb{R}^{m \\times n}$ with nonnegative entries $x_{ij}$ by a product of two low-rank matrices $\\mathbf{V} \\in \\mathbb{R}^{m \\times r}$ and $\\mathbf{W} \\in \\mathbb{R}^{r \\times n}$ with nonnegative entries $v_{ik}$ and $w_{kj}$. Consider minimization of the squared Frobenius norm\n",
    "$$\n",
    "\tL(\\mathbf{V}, \\mathbf{W}) = \\|\\mathbf{X} - \\mathbf{V} \\mathbf{W}\\|_{\\text{F}}^2 = \\sum_i \\sum_j \\left(x_{ij} - \\sum_k v_{ik} w_{kj} \\right)^2, \\quad v_{ik} \\ge 0, w_{kj} \\ge 0,\n",
    "$$\n",
    "which should lead to a good factorization. Later in the course we will learn how to derive a majorization-minimization (MM) algorithm with iterative updates\n",
    "$$\n",
    "\tv_{ik}^{(t+1)} = v_{ik}^{(t)} \\frac{\\sum_j x_{ij} w_{kj}^{(t)}}{\\sum_j b_{ij}^{(t)} w_{kj}^{(t)}}, \\quad \\text{where } b_{ij}^{(t)} = \\sum_k v_{ik}^{(t)} w_{kj}^{(t)},\n",
    "$$\n",
    "$$\n",
    "\tw_{kj}^{(t+1)} = w_{kj}^{(t)} \\frac{\\sum_i x_{ij} v_{ik}^{(t+1)}}{\\sum_i b_{ij}^{(t+1/2)} v_{ik}^{(t+1)}}, \\quad \\text{where } b_{ij}^{(t+1/2)} = \\sum_k v_{ik}^{(t+1)} w_{kj}^{(t)}\n",
    "$$\n",
    "that drive the objective $L^{(t)} = L(\\mathbf{V}^{(t)}, \\mathbf{W}^{(t)})$ downhill. Superscript $t$ indicates iteration number. Efficiency (both speed and memory) will be the most important criterion when grading this problem.\n",
    "\n",
    "\n",
    "1. Implement the algorithm with arguments: $\\mathbf{X}$ (data, each row is a vectorized image), rank $r$, convergence tolerance, and optional starting point.\n",
    "```julia\n",
    "function nnmf(\n",
    "    X::Matrix, \n",
    "    r::Int;\n",
    "    maxiter::Int=1000, \n",
    "    tol::eltype(X)=1e-4,\n",
    "    V::Matrix{eltype(X)}=rand(size(X, 1), r),\n",
    "    W::Matrix{eltype(X)}=rand(r, size(X, 2))\n",
    "    )\n",
    "    # implementation\n",
    "    # Output\n",
    "    return V, W\n",
    "end\n",
    "```\n",
    "\n",
    "0. Database 1 from the [MIT Center for Biological and Computational Learning (CBCL)](http://cbcl.mit.edu) reduces to a matrix $\\mathbf{X}$ containing $m = 2,429$ gray-scale face images with $n = 19 \\times 19 = 361$ pixels per face. Each image (row) is scaled to have mean and standard deviation 0.25.  \n",
    "Read in the [`nnmf-2429-by-361-face.txt`](http://hua-zhou.github.io/teaching/biostatm280-2018spring/hw/hw2/nnmf-2429-by-361-face.txt) file, e.g., using [`readdlm()`](https://docs.julialang.org/en/stable/stdlib/io-network/#Base.DataFmt.readdlm-Tuple{Any,Char,Type,Char}) function, and display a couple sample images, e.g., using [ImageView.jl](https://github.com/JuliaImages/ImageView.jl) package.\n",
    "\n",
    "0. Report the run times, using `@time`, of your function for fitting NNMF on the MIT CBCL face data set at ranks $r=10, 20, 30, 40, 50$. For ease of comparison (and grading), please start your algorithm with the provided $\\mathbf{V}^{(0)}$ (first $r$ columns of [`V0.txt`](http://hua-zhou.github.io/teaching/biostatm280-2018spring/hw/hw2/V0.txt)) and $\\mathbf{W}^{(0)}$ (first $r$ rows of [`W0.txt`](http://hua-zhou.github.io/teaching/biostatm280-2018spring/hw/hw2/W0.txt)) and stopping criterion\n",
    "$$\n",
    "\t\\frac{|L^{(t+1)} - L^{(t)}|}{|L^{(t)}| + 1} \\le 10^{-4}.\n",
    "$$\n",
    "\n",
    "0. Choose an $r \\in \\{10, 20, 30, 40, 50\\}$ and start your algorithm from a different $\\mathbf{V}^{(0)}$ and $\\mathbf{W}^{(0)}$. Do you obtain the same objective value and $(\\mathbf{V}, \\mathbf{W})$? Explain what you find.\n",
    "\n",
    "0. For the same $r$, start your algorithm from $v_{ik}^{(0)} = w_{kj}^{(0)} = 1$ for all $i,j,k$. Do you obtain the same objective value and $(\\mathbf{V}, \\mathbf{W})$? Explain what you find.\n",
    "\n",
    "0. Plot the basis images (rows of $\\mathbf{W}$) at rank $r=50$. What do you find?\n",
    "\n",
    "0. (Optional) Investigate the GPU capabilities of Julia. Report the speed gain of your GPU code over CPU code at ranks $r=10, 20, 30, 40, 50$. Make sure to use the same starting point as in part 2."
   ]
  },
  {
   "cell_type": "code",
   "execution_count": 50,
   "metadata": {},
   "outputs": [
    {
     "data": {
      "text/plain": [
       "nnmf3 (generic function with 1 method)"
      ]
     },
     "execution_count": 50,
     "metadata": {},
     "output_type": "execute_result"
    }
   ],
   "source": [
    "# possible for efficiency: column major/ use blas or lapack/overwrite the initial V and W\n",
    "function nnmf3(\n",
    "    X::Matrix{T}, \n",
    "    r::Int;\n",
    "    maxiter::Int=1000, \n",
    "    tol::T=1e-4,\n",
    "    V::Matrix{T}=rand(T, size(X, 1), r),\n",
    "    W::Matrix{T}=rand(T, r, size(X, 2))\n",
    "    ) where T <: AbstractFloat\n",
    "    # implementation\n",
    "    m = size(X,1)\n",
    "    n = size(X,2)\n",
    "    # proallocate. capital letter is for matrix, lowercase \"t\" means matrix transpose.\n",
    "    XWt = zeros(m, r)\n",
    "    \n",
    "    WWt = zeros(r, r)\n",
    "    VWWt = zeros(m, r)\n",
    "    \n",
    "    VtX = zeros(r, n)\n",
    "    \n",
    "    VtV = zeros(r ,r)\n",
    "    VtVW = zeros(r,n)\n",
    "    #B = zeros(X)\n",
    "    \n",
    "    VW = zeros(X)\n",
    "    X_VW = zeros(X)\n",
    "    \n",
    "    for iter = 1:maxiter\n",
    "\n",
    "        V .= V .* A_mul_Bt!(XWt, X, W)./ A_mul_B!(VWWt, V, A_mul_Bt!(WWt, W, W))\n",
    "        #to update matrix W\n",
    "       \n",
    "        W .= W .* At_mul_B!(VtX, V, X) ./ A_mul_B!(VtVW, At_mul_B!(VtV, V, V), W)\n",
    "        # if reaches maxiter (and not satisfy the tolerance, stop with error message)\n",
    "        \n",
    "        X_VW .= X .- A_mul_B!(VW, V, W)\n",
    "        \n",
    "        f_normdiff_square = (vecnorm(X_VW))^2\n",
    "        if f_normdiff_square < tol\n",
    "           break\n",
    "        end\n",
    "    end\n",
    "    # Output\n",
    "    return V, W\n",
    "end"
   ]
  },
  {
   "cell_type": "code",
   "execution_count": 56,
   "metadata": {},
   "outputs": [
    {
     "name": "stderr",
     "output_type": "stream",
     "text": [
      "  % Total    % Received % Xferd  Average Speed   Time    Time     Time  Current\n",
      "                                 Dload  Upload   Total   Spent    Left  Speed\n",
      "100 6012k  100 6012k    0     0  4954k      0  0:00:01  0:00:01 --:--:-- 4952k\n"
     ]
    },
    {
     "name": "stdout",
     "output_type": "stream",
     "text": [
      "  5.850541 seconds (28 allocations: 16.612 MiB, 0.10% gc time)\n"
     ]
    },
    {
     "data": {
      "text/plain": [
       "([0.0363688 3.8291e-82 … 1.35504e-5 0.0384764; 0.0231779 6.6783e-68 … 0.00180108 0.0379306; … ; 0.0283529 0.00606037 … 0.000543965 6.85747e-24; 0.000937033 0.0080762 … 0.0411307 1.5269e-13], [2.02528e-83 1.46149e-63 … 3.57098e-6 2.10075e-56; 2.39701e-47 4.94378e-44 … 20.1848 18.9268; … ; 1.65677e-85 4.64916e-57 … 4.53552e-7 1.06863e-46; 1.25026e-58 4.19049e-68 … 3.79997e-12 1.64081e-64])"
      ]
     },
     "execution_count": 56,
     "metadata": {},
     "output_type": "execute_result"
    }
   ],
   "source": [
    "using BenchmarkTools\n",
    "matrixt = readdlm(download(\"http://hua-zhou.github.io/teaching/biostatm280-2018spring/hw/hw2/nnmf-2429-by-361-face.txt\"));\n",
    "@time nnmf3(matrixt, 50)"
   ]
  },
  {
   "cell_type": "markdown",
   "metadata": {},
   "source": [
    "## Q2. Linear Mixed Models\n",
    "\n",
    "Consider a linear mixed effects model\n",
    "$$\n",
    "\ty_i = \\mathbf{x}_i^T \\beta + \\mathbf{z}_i^T \\gamma + \\epsilon_i, \\quad i=1,\\ldots,n,\n",
    "$$\n",
    "where $\\epsilon_i$ are independent normal errors $N(0,\\sigma_0^2)$, $\\beta \\in \\mathbb{R}^p$ are fixed effects, and $\\gamma \\in \\mathbb{R}^q$ are random effects assumed to be $N(\\mathbf{0}_q, \\sigma_1^2 \\mathbf{I}_q$) independent of $\\epsilon_i$. \n",
    "\n",
    "0. Show that \n",
    "$$\n",
    "    \\mathbf{y} \\sim N \\left( \\mathbf{X} \\beta, \\sigma_0^2 \\mathbf{I}_n + \\sigma_1^2 \\mathbf{Z} \\mathbf{Z}^T \\right),\n",
    "$$\n",
    "where $\\mathbf{y} = (y_1, \\ldots, y_n)^T \\in \\mathbb{R}^n$, $\\mathbf{X} = (\\mathbf{x}_1, \\ldots, \\mathbf{x}_n)^T \\in \\mathbb{R}^{n \\times p}$, and $\\mathbf{Z} = (\\mathbf{z}_1, \\ldots, \\mathbf{z}_n)^T \\in \\mathbb{R}^{n \\times q}$. \n",
    "\n",
    "0. Write a function, with interface \n",
    "    ```julia\n",
    "    logpdf_mvn(y::Vector, Z::Matrix, σ0::Number, σ1::Number),\n",
    "    ```\n",
    "that evaluates the log-density of a multivariate normal with mean $\\mathbf{0}$ and covariance $\\sigma_0^2 \\mathbf{I} + \\sigma_1^2 \\mathbf{Z} \\mathbf{Z}^T$ at $\\mathbf{y}$. Make your code efficient in the $n \\gg q$ case. \n",
    "\n",
    "0. Compare your result (both accuracy and timing) to the [Distributions.jl](http://distributionsjl.readthedocs.io/en/latest/multivariate.html#multivariate-normal-distribution) package using following data.  \n",
    "    ```julia\n",
    "    using BenchmarkTools, Distributions\n",
    "\n",
    "    srand(280)\n",
    "    n, q = 2000, 10\n",
    "    Z = randn(n, q)\n",
    "    σ0, σ1 = 0.5, 2.0\n",
    "    Σ = σ1^2 * Z * Z.' + σ0^2 * I\n",
    "    mvn = MvNormal(Σ) # MVN(0, Σ)\n",
    "    y = rand(mvn) # generate one instance from MNV(0, Σ)\n",
    "\n",
    "    # check you answer matches that from Distributions.jl\n",
    "    @show logpdf_mvn(y, Z, σ0, σ1)\n",
    "    @show logpdf(mvn, y)\n",
    "\n",
    "    # benchmark\n",
    "    @benchmark logpdf_mvn(y, Z, σ0, σ1)\n",
    "    @benchmark logpdf(mvn, y)\n",
    "    ```"
   ]
  },
  {
   "cell_type": "markdown",
   "metadata": {},
   "source": [
    "**(1)** In matrix notation\n",
    "$$\n",
    " \\mathbf{y} = \\mathbf{X} \\beta + \\mathbf{Z} \\gamma + E,\n",
    "$$\n",
    "    Where $\\varepsilon = (\\epsilon_1, \\ldots, \\epsilon_n)^T, E \\sim MVN(0,\\sigma_0^2I_n)$. Since \\gamma and E are independent normal-distributed random variables, and $\\mathbf{X}$ and $\\mathbf{Z}$ are known/fixed, $\\mathbf{y}$ also follows normal distribution. And,\n",
    "    \n",
    "    $$ E(\\mathbf{y}) = E(\\mathbf{X} \\beta) + E(\\mathbf{Z} \\gamma) + E(\\varepsilon) = \\mathbf{X} \\beta + \\mathbf{Z} E(\\gamma) + E(\\varepsilon) = \\mathbf{X} \\beta + \\mathbf{0} + \\mathbf{0} = \\mathbf{X} \\beta $$\n",
    "    \n",
    "$$\n",
    "Var(\\mathbf{y}) = Var(\\mathbf{Z} \\gamma) + Var(\\varepsilon) = \\mathbf{Z} Var(\\gamma) \\mathbf{Z}^T + Var(\\varepsilon)=   \\sigma_1^2 \\mathbf{Z} \\mathbf{Z}^T + \\sigma_0^2 \\mathbf{I}_n\n",
    "$$\n",
    "\n",
    "So $$\n",
    "    \\mathbf{y} \\sim N \\left( \\mathbf{X} \\beta, \\sigma_0^2 \\mathbf{I}_n + \\sigma_1^2 \\mathbf{Z} \\mathbf{Z}^T \\right),\n",
    "$$"
   ]
  },
  {
   "cell_type": "code",
   "execution_count": 14,
   "metadata": {},
   "outputs": [
    {
     "data": {
      "text/plain": [
       "logpdf_mvn (generic function with 1 method)"
      ]
     },
     "execution_count": 14,
     "metadata": {},
     "output_type": "execute_result"
    }
   ],
   "source": [
    "function logpdf_mvn(y::Vector, Z::Matrix, σ0::Number, σ1::Number)\n",
    "    n = length(y)\n",
    "    Σ = σ0^2 + σ1^2 * Z * Z.'\n",
    "    Σchol = cholfact(Symmetric(Σ))\n",
    "    - (n/2) * log(2π) - (1/2) * logdet(Σchol) - (1/2) * dot(y, Σchol \\ y)\n",
    "end"
   ]
  },
  {
   "cell_type": "code",
   "execution_count": 32,
   "metadata": {},
   "outputs": [
    {
     "data": {
      "text/plain": [
       "3×3 LowerTriangular{Float64,Array{Float64,2}}:\n",
       "   4.09023   ⋅         ⋅     \n",
       "  11.5617   0.947265   ⋅     \n",
       " -20.9841   2.97923   4.38636"
      ]
     },
     "execution_count": 32,
     "metadata": {},
     "output_type": "execute_result"
    }
   ],
   "source": [
    "y = [1 ; 2; 3]\n",
    "Z = [4 12 -16; 12 37 -43; -16 -43 98]\n",
    "σ0 = 0.3\n",
    "σ1 = 0.2\n",
    "Σ = σ0^2 + σ1^2 * Z * Z.'\n",
    "l = cholfact(Hermitian(Σ))\n",
    "\n",
    "Symmetric(l[:L]);\n",
    "l[:L]\n",
    "#logpdf_mvn(y, Z, 0.3,0.2)\n",
    "#mvn = MvNormal(Σ)\n",
    "\n"
   ]
  },
  {
   "cell_type": "code",
   "execution_count": 24,
   "metadata": {},
   "outputs": [
    {
     "name": "stdout",
     "output_type": "stream",
     "text": [
      "x = rand(2, 2) = [0.564948 0.637255; 0.307856 0.633021]\n",
      "Achol \\ [2; 3; 4] = [66.5, -18.0, 3.0]\n",
      "inv(A) * [2; 3; 4] = [66.5, -18.0, 3.0]\n"
     ]
    },
    {
     "data": {
      "text/plain": [
       "3-element Array{Float64,1}:\n",
       "  66.5\n",
       " -18.0\n",
       "   3.0"
      ]
     },
     "execution_count": 24,
     "metadata": {},
     "output_type": "execute_result"
    }
   ],
   "source": [
    "@show x = rand(2,2)\n",
    "x * x.'\n",
    "x = [1.1 2.2 ; 2.2 1.1]\n",
    "#t=cholfact(Symmetric(x))\n",
    "A = [4 12 -16; 12 37 -43; -16 -43 98]\n",
    "Achol = cholfact(A)\n",
    "typeof(Achol)\n",
    "@show Achol \\ [2;3;4]\n",
    "@show inv(A) * [2;3;4]"
   ]
  },
  {
   "cell_type": "code",
   "execution_count": 1,
   "metadata": {},
   "outputs": [],
   "source": [
    "using BenchmarkTools, Distributions"
   ]
  },
  {
   "cell_type": "code",
   "execution_count": 39,
   "metadata": {},
   "outputs": [
    {
     "data": {
      "text/plain": [
       "Base.LinAlg.Cholesky{Float64,Array{Float64,2}} with factor:\n",
       "[14.3609 1.82723 … 1.83222 1.2258; 0.0 12.2741 … -0.743993 -4.65323; … ; 0.0 0.0 … 0.513109 0.00599743; 0.0 0.0 … 0.0 0.516286]"
      ]
     },
     "execution_count": 39,
     "metadata": {},
     "output_type": "execute_result"
    }
   ],
   "source": [
    "    srand(280)\n",
    "    n, q = 1000, 50\n",
    "    Z = randn(n, q)\n",
    "    σ0, σ1 = 0.5, 2.0\n",
    "    Σ = σ1^2 * Z * Z.' + σ0^2 * I\n",
    "    #Σ = Symmetric(σ0^2 + σ1^2 * Z * Z.')\n",
    "    #col = cholfact(Hermitian(Σ))\n",
    "    #mvn = MvNormal(col) # MVN(0, Σ)\n",
    "    # can be cholesky decomposed... why not P.D? \n",
    "    cholfact(Σ)\n",
    "    #mvn = MvNormal(cholfact(Σ)[:L]+cholfact(Σ)[:L].')\n",
    "    #y = rand(mvn) # generate one instance from MNV(0, Σ)\n",
    "    #typeof(Symmetric(Σ))\n",
    "#logpdf_mvn(y, Z, σ0, σ1)\n",
    "\n"
   ]
  },
  {
   "cell_type": "code",
   "execution_count": 2,
   "metadata": {},
   "outputs": [
    {
     "data": {
      "text/plain": [
       "1000-element Array{Float64,1}:\n",
       " -24.0894   \n",
       " -57.7202   \n",
       " -29.7766   \n",
       " -26.5015   \n",
       " -27.2864   \n",
       "   5.4884   \n",
       "   0.300153 \n",
       " -54.2273   \n",
       "  10.8998   \n",
       "  21.636    \n",
       "  17.3922   \n",
       " -15.7131   \n",
       "  64.0949   \n",
       "   ⋮        \n",
       " -30.0239   \n",
       " -38.9947   \n",
       "   6.80544  \n",
       "  43.8673   \n",
       " -18.4956   \n",
       "  22.6042   \n",
       "  -3.71631  \n",
       "   0.356424 \n",
       "  65.2194   \n",
       " -77.6038   \n",
       " -40.5898   \n",
       "  -0.0629436"
      ]
     },
     "execution_count": 2,
     "metadata": {},
     "output_type": "execute_result"
    }
   ],
   "source": [
    "srand(280) # seed\n",
    "\n",
    "n = 1000\n",
    "Σ = randn(n, n); Σ = Σ' * Σ + I # covariance matrix\n",
    "y = rand(MvNormal(Σ)) # one randdom sample from N(0, Σ)\n"
   ]
  },
  {
   "cell_type": "code",
   "execution_count": null,
   "metadata": {},
   "outputs": [],
   "source": []
  }
 ],
 "metadata": {
  "kernelspec": {
   "display_name": "Julia 0.6.2",
   "language": "julia",
   "name": "julia-0.6"
  },
  "language_info": {
   "file_extension": ".jl",
   "mimetype": "application/julia",
   "name": "julia",
   "version": "0.6.2"
  },
  "toc": {
   "colors": {
    "hover_highlight": "#DAA520",
    "running_highlight": "#FF0000",
    "selected_highlight": "#FFD700"
   },
   "moveMenuLeft": true,
   "nav_menu": {
    "height": "87px",
    "width": "252px"
   },
   "navigate_menu": true,
   "number_sections": true,
   "sideBar": true,
   "threshold": 4,
   "toc_cell": false,
   "toc_section_display": "block",
   "toc_window_display": false,
   "widenNotebook": false
  }
 },
 "nbformat": 4,
 "nbformat_minor": 2
}
