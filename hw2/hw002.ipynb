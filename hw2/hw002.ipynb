{
 "cells": [
  {
   "cell_type": "markdown",
   "metadata": {},
   "source": [
    "# Biostat M280 Homework 2\n",
    "\n",
    "**Due May 11 @ 11:59PM**"
   ]
  },
  {
   "cell_type": "markdown",
   "metadata": {},
   "source": [
    "## Q1. Nonnegative Matrix Factorization\n",
    "\n",
    "Nonnegative matrix factorization (NNMF) was introduced by [Lee and Seung (1999)](https://www.nature.com/articles/44565) as an analog of principal components and vector quantization with applications in data compression and clustering. In this homework we consider algorithms for fitting NNMF and (optionally) high performance computing using graphical processing units (GPUs).\n",
    "\n",
    "<img src=\"./nnmf.png\" width=\"500\" align=\"center\"/>\n",
    "\n",
    "In mathematical terms, one approximates a data matrix $\\mathbf{X} \\in \\mathbb{R}^{m \\times n}$ with nonnegative entries $x_{ij}$ by a product of two low-rank matrices $\\mathbf{V} \\in \\mathbb{R}^{m \\times r}$ and $\\mathbf{W} \\in \\mathbb{R}^{r \\times n}$ with nonnegative entries $v_{ik}$ and $w_{kj}$. Consider minimization of the squared Frobenius norm\n",
    "$$\n",
    "\tL(\\mathbf{V}, \\mathbf{W}) = \\|\\mathbf{X} - \\mathbf{V} \\mathbf{W}\\|_{\\text{F}}^2 = \\sum_i \\sum_j \\left(x_{ij} - \\sum_k v_{ik} w_{kj} \\right)^2, \\quad v_{ik} \\ge 0, w_{kj} \\ge 0,\n",
    "$$\n",
    "which should lead to a good factorization. Later in the course we will learn how to derive a majorization-minimization (MM) algorithm with iterative updates\n",
    "$$\n",
    "\tv_{ik}^{(t+1)} = v_{ik}^{(t)} \\frac{\\sum_j x_{ij} w_{kj}^{(t)}}{\\sum_j b_{ij}^{(t)} w_{kj}^{(t)}}, \\quad \\text{where } b_{ij}^{(t)} = \\sum_k v_{ik}^{(t)} w_{kj}^{(t)},\n",
    "$$\n",
    "$$\n",
    "\tw_{kj}^{(t+1)} = w_{kj}^{(t)} \\frac{\\sum_i x_{ij} v_{ik}^{(t+1)}}{\\sum_i b_{ij}^{(t+1/2)} v_{ik}^{(t+1)}}, \\quad \\text{where } b_{ij}^{(t+1/2)} = \\sum_k v_{ik}^{(t+1)} w_{kj}^{(t)}\n",
    "$$\n",
    "that drive the objective $L^{(t)} = L(\\mathbf{V}^{(t)}, \\mathbf{W}^{(t)})$ downhill. Superscript $t$ indicates iteration number. Efficiency (both speed and memory) will be the most important criterion when grading this problem.\n",
    "\n",
    "\n",
    "1. Implement the algorithm with arguments: $\\mathbf{X}$ (data, each row is a vectorized image), rank $r$, convergence tolerance, and optional starting point.\n",
    "```julia\n",
    "function nnmf(\n",
    "    X::Matrix, \n",
    "    r::Int;\n",
    "    maxiter::Int=1000, \n",
    "    tol::eltype(X)=1e-4,\n",
    "    V::Matrix{eltype(X)}=rand(size(X, 1), r),\n",
    "    W::Matrix{eltype(X)}=rand(r, size(X, 2))\n",
    "    )\n",
    "    # implementation\n",
    "    # Output\n",
    "    return V, W\n",
    "end\n",
    "```\n",
    "\n",
    "0. Database 1 from the [MIT Center for Biological and Computational Learning (CBCL)](http://cbcl.mit.edu) reduces to a matrix $\\mathbf{X}$ containing $m = 2,429$ gray-scale face images with $n = 19 \\times 19 = 361$ pixels per face. Each image (row) is scaled to have mean and standard deviation 0.25.  \n",
    "Read in the [`nnmf-2429-by-361-face.txt`](http://hua-zhou.github.io/teaching/biostatm280-2018spring/hw/hw2/nnmf-2429-by-361-face.txt) file, e.g., using [`readdlm()`](https://docs.julialang.org/en/stable/stdlib/io-network/#Base.DataFmt.readdlm-Tuple{Any,Char,Type,Char}) function, and display a couple sample images, e.g., using [ImageView.jl](https://github.com/JuliaImages/ImageView.jl) package.\n",
    "\n",
    "0. Report the run times, using `@time`, of your function for fitting NNMF on the MIT CBCL face data set at ranks $r=10, 20, 30, 40, 50$. For ease of comparison (and grading), please start your algorithm with the provided $\\mathbf{V}^{(0)}$ (first $r$ columns of [`V0.txt`](http://hua-zhou.github.io/teaching/biostatm280-2018spring/hw/hw2/V0.txt)) and $\\mathbf{W}^{(0)}$ (first $r$ rows of [`W0.txt`](http://hua-zhou.github.io/teaching/biostatm280-2018spring/hw/hw2/W0.txt)) and stopping criterion\n",
    "$$\n",
    "\t\\frac{|L^{(t+1)} - L^{(t)}|}{|L^{(t)}| + 1} \\le 10^{-4}.\n",
    "$$\n",
    "\n",
    "0. Choose an $r \\in \\{10, 20, 30, 40, 50\\}$ and start your algorithm from a different $\\mathbf{V}^{(0)}$ and $\\mathbf{W}^{(0)}$. Do you obtain the same objective value and $(\\mathbf{V}, \\mathbf{W})$? Explain what you find.\n",
    "\n",
    "0. For the same $r$, start your algorithm from $v_{ik}^{(0)} = w_{kj}^{(0)} = 1$ for all $i,j,k$. Do you obtain the same objective value and $(\\mathbf{V}, \\mathbf{W})$? Explain what you find.\n",
    "\n",
    "0. Plot the basis images (rows of $\\mathbf{W}$) at rank $r=50$. What do you find?\n",
    "\n",
    "0. (Optional) Investigate the GPU capabilities of Julia. Report the speed gain of your GPU code over CPU code at ranks $r=10, 20, 30, 40, 50$. Make sure to use the same starting point as in part 2."
   ]
  },
  {
   "cell_type": "code",
   "execution_count": 319,
   "metadata": {},
   "outputs": [
    {
     "data": {
      "text/plain": [
       "nnmf (generic function with 1 method)"
      ]
     },
     "execution_count": 319,
     "metadata": {},
     "output_type": "execute_result"
    }
   ],
   "source": [
    "# possible for efficiency: column major/ use blas or lapack/overwrite the initial V and W\n",
    "function nnmf(\n",
    "    X::Matrix{T}, \n",
    "    r::Int;\n",
    "    maxiter::Int=1000, \n",
    "    tol::T=1e-4,\n",
    "    V::Matrix{T}=rand(T, size(X, 1), r),\n",
    "    W::Matrix{T}=rand(T, r, size(X, 2))\n",
    "    ) where T <: AbstractFloat\n",
    "    # implementation\n",
    "    m = size(X,1)\n",
    "    n = size(X,2)\n",
    "    # proallocate. capital letter is for matrix, lowercase \"t\" means matrix transpose.\n",
    "    XWt = zeros(m, r)\n",
    "    \n",
    "    WWt = zeros(r, r)\n",
    "    VWWt = zeros(m, r)\n",
    "    \n",
    "    VtX = zeros(r, n)\n",
    "    \n",
    "    #VtV = zeros(r ,r)\n",
    "    VtVW = zeros(r,n)\n",
    "    #B = zeros(X)\n",
    "    \n",
    "    VW = zeros(X)\n",
    "    #X_VW = zeros(X)\n",
    "    \n",
    "    for iter = 1:maxiter\n",
    "\n",
    "        V .= V .* A_mul_Bt!(XWt, X, W)./ A_mul_B!(VWWt, V, A_mul_Bt!(WWt, W, W))\n",
    "        #to update matrix W\n",
    "       \n",
    "        #W .= W .* At_mul_B!(VtX, V, X) ./ A_mul_B!(VtVW, At_mul_B!(VtV, V, V), W)\n",
    "        # if reaches maxiter (and not satisfy the tolerance, stop with error message)\n",
    "        W .= W .* At_mul_B!(VtX, V, X) ./ A_mul_B!(VtVW, At_mul_B!(WWt, V, V), W)\n",
    "\n",
    "\n",
    "        \n",
    "        VW .= X .- A_mul_B!(VW, V, W)\n",
    "        \n",
    "        f_normdiff_square = (vecnorm(VW))^2\n",
    "        if f_normdiff_square < tol\n",
    "           break\n",
    "        end\n",
    "    end\n",
    "    # Output\n",
    "    return V, W\n",
    "end"
   ]
  },
  {
   "cell_type": "code",
   "execution_count": 320,
   "metadata": {},
   "outputs": [
    {
     "data": {
      "text/plain": [
       "BenchmarkTools.Trial: \n",
       "  memory estimate:  7.97 MiB\n",
       "  allocs estimate:  16\n",
       "  --------------\n",
       "  minimum time:     6.276 s (0.00% GC)\n",
       "  median time:      6.276 s (0.00% GC)\n",
       "  mean time:        6.276 s (0.00% GC)\n",
       "  maximum time:     6.276 s (0.00% GC)\n",
       "  --------------\n",
       "  samples:          1\n",
       "  evals/sample:     1"
      ]
     },
     "execution_count": 320,
     "metadata": {},
     "output_type": "execute_result"
    }
   ],
   "source": [
    "using BenchmarkTools\n",
    "#matrixt = readdlm(download(\"http://hua-zhou.github.io/teaching/biostatm280-2018spring/hw/hw2/nnmf-2429-by-361-face.txt\"));\n",
    "@benchmark nnmf(matrixt, 20)"
   ]
  },
  {
   "cell_type": "markdown",
   "metadata": {},
   "source": [
    "**(2)**. Display a few images "
   ]
  },
  {
   "cell_type": "code",
   "execution_count": 99,
   "metadata": {},
   "outputs": [
    {
     "name": "stderr",
     "output_type": "stream",
     "text": [
      "\u001b[1m\u001b[36mINFO: \u001b[39m\u001b[22m\u001b[36mPackage PyPlot is already installed\n",
      "\u001b[39m\u001b[1m\u001b[36mINFO: \u001b[39m\u001b[22m\u001b[36mMETADATA is out-of-date — you may not have the latest version of PyPlot\n",
      "\u001b[39m\u001b[1m\u001b[36mINFO: \u001b[39m\u001b[22m\u001b[36mUse `Pkg.update()` to get the latest versions of your packages\n",
      "\u001b[39m"
     ]
    }
   ],
   "source": [
    "Pkg.add(\"PyPlot\")"
   ]
  },
  {
   "cell_type": "code",
   "execution_count": 100,
   "metadata": {},
   "outputs": [
    {
     "name": "stderr",
     "output_type": "stream",
     "text": [
      "WARNING: using PyPlot.imshow in module Main conflicts with an existing identifier.\n",
      "WARNING: using PyPlot.plot in module Main conflicts with an existing identifier.\n",
      "  % Total    % Received % Xferd  Average Speed   Time    Time     Time  Current\n",
      "                                 Dload  Upload   Total   Spent    Left  Speed\n",
      "100 6012k  100 6012k    0     0  3911k      0  0:00:01  0:00:01 --:--:-- 3909k\n"
     ]
    }
   ],
   "source": [
    "using ImageView, Images, PyPlot\n",
    "matrixt = readdlm(download(\"http://hua-zhou.github.io/teaching/biostatm280-2018spring/hw/hw2/nnmf-2429-by-361-face.txt\"));"
   ]
  },
  {
   "cell_type": "code",
   "execution_count": 313,
   "metadata": {},
   "outputs": [
    {
     "data": {
      "image/png": "[encoded data removed]",
      "text/plain": [
       "PyPlot.Figure(PyObject <matplotlib.figure.Figure object at 0x12d201a90>)"
      ]
     },
     "metadata": {},
     "output_type": "display_data"
    }
   ],
   "source": [
    "noimages = 5\n",
    "for i in 1:noimages\n",
    "    subplot(1,5,i)\n",
    "    PyPlot.imshow(reshape(matrixt[i, :], 19, 19), cmap = \"gray\")\n",
    "end"
   ]
  },
  {
   "cell_type": "code",
   "execution_count": 32,
   "metadata": {},
   "outputs": [
    {
     "name": "stderr",
     "output_type": "stream",
     "text": [
      "\u001b[1m\u001b[36mINFO: \u001b[39m\u001b[22m\u001b[36mComputing test dependencies for ImageView...\n",
      "\u001b[39m\u001b[1m\u001b[36mINFO: \u001b[39m\u001b[22m\u001b[36mNo packages to install, update or remove\n",
      "\u001b[39m\u001b[1m\u001b[36mINFO: \u001b[39m\u001b[22m\u001b[36mTesting ImageView\n",
      "\u001b[39m"
     ]
    },
    {
     "name": "stdout",
     "output_type": "stream",
     "text": [
      "\u001b[1m\u001b[37mTest Summary: | \u001b[39m\u001b[22m\u001b[1m\u001b[32mPass  \u001b[39m\u001b[22m\u001b[1m\u001b[36mTotal\u001b[39m\u001b[22m\n",
      "contrast GUI  | \u001b[32m   1  \u001b[39m\u001b[36m    1\u001b[39m\n"
     ]
    },
    {
     "name": "stderr",
     "output_type": "stream",
     "text": [
      "\u001b[1m\u001b[36mINFO: \u001b[39m\u001b[22m\u001b[36mCould not find lighthouse in directory. Checking if it exists in the online repository.\n",
      "\u001b[39m\u001b[1m\u001b[36mINFO: \u001b[39m\u001b[22m\u001b[36mFound lighthouse in the online repository. Downloading to the images directory.\n",
      "\u001b[39m  % Total    % Received % Xferd  Average Speed   Time    Time     Time  Current\n",
      "                                 Dload  Upload   Total   Spent    Left  Speed\n",
      "100   145    0   145    0     0    301      0 --:--:-- --:--:-- --:--:--   301\n",
      "100   156  100   156    0     0    237      0 --:--:-- --:--:-- --:--:--   237\n",
      "100  622k  100  622k    0     0   591k      0  0:00:01  0:00:01 --:--:-- 3326k\n",
      "\u001b[1m\u001b[36mINFO: \u001b[39m\u001b[22m\u001b[36mCould not find mountainstream in directory. Checking if it exists in the online repository.\n",
      "\u001b[39m\u001b[1m\u001b[36mINFO: \u001b[39m\u001b[22m\u001b[36mFound mountainstream in the online repository. Downloading to the images directory.\n",
      "\u001b[39m  % Total    % Received % Xferd  Average Speed   Time    Time     Time  Current\n",
      "                                 Dload  Upload   Total   Spent    Left  Speed\n",
      "100   149    0   149    0     0    322      0 --:--:-- --:--:-- --:--:--   323\n",
      "100   160  100   160    0     0    232      0 --:--:-- --:--:-- --:--:--   232\n",
      "100  803k  100  803k    0     0   565k      0  0:00:01  0:00:01 --:--:-- 1521k\n",
      "\u001b[1m\u001b[36mINFO: \u001b[39m\u001b[22m\u001b[36mCould not find moonsurface in directory. Checking if it exists in the online repository.\n",
      "\u001b[39m\u001b[1m\u001b[36mINFO: \u001b[39m\u001b[22m\u001b[36mFound moonsurface in the online repository. Downloading to the images directory.\n",
      "\u001b[39m  % Total    % Received % Xferd  Average Speed   Time    Time     Time  Current\n",
      "                                 Dload  Upload   Total   Spent    Left  Speed\n",
      "100   147    0   147    0     0    386      0 --:--:-- --:--:-- --:--:--   385\n",
      "100   158  100   158    0     0    290      0 --:--:-- --:--:-- --:--:--   290\n",
      "100 65670  100 65670    0     0  88920      0 --:--:-- --:--:-- --:--:-- 88920\n"
     ]
    },
    {
     "name": "stdout",
     "output_type": "stream",
     "text": [
      "\u001b[1m\u001b[37mTest Summary: | \u001b[39m\u001b[22m\u001b[1m\u001b[32mPass  \u001b[39m\u001b[22m\u001b[1m\u001b[36mTotal\u001b[39m\u001b[22m\n",
      "CLim          | \u001b[32m   2  \u001b[39m\u001b[36m    2\u001b[39m\n",
      "\u001b[1m\u001b[37mTest Summary: | \u001b[39m\u001b[22m\u001b[1m\u001b[32mPass  \u001b[39m\u001b[22m\u001b[1m\u001b[36mTotal\u001b[39m\u001b[22m\n",
      "sliceinds     | \u001b[32m  22  \u001b[39m\u001b[36m   22\u001b[39m\n",
      "\u001b[1m\u001b[37mTest Summary: | \u001b[39m\u001b[22m\u001b[1m\u001b[32mPass  \u001b[39m\u001b[22m\u001b[1m\u001b[36mTotal\u001b[39m\u001b[22m\n",
      "SliceData     | \u001b[32m  32  \u001b[39m\u001b[36m   32\u001b[39m\n",
      "\u001b[1m\u001b[37mTest Summary: | \u001b[39m\u001b[22m\u001b[1m\u001b[32mPass  \u001b[39m\u001b[22m\u001b[1m\u001b[36mTotal\u001b[39m\u001b[22m\n",
      "Canvas size   | \u001b[32m   3  \u001b[39m\u001b[36m    3\u001b[39m\n",
      "\u001b[1m\u001b[37mTest Summary: | \u001b[39m\u001b[22m\u001b[1m\u001b[32mPass  \u001b[39m\u001b[22m\u001b[1m\u001b[36mTotal\u001b[39m\u001b[22m\n",
      "Aspect ratio  | \u001b[32m   6  \u001b[39m\u001b[36m    6\u001b[39m\n"
     ]
    },
    {
     "name": "stderr",
     "output_type": "stream",
     "text": [
      "\u001b[1m\u001b[91mERROR: \u001b[39m\u001b[22mLoadError: LoadError: \u001b[91mInexactError()\u001b[39m\n",
      "Stacktrace:\n",
      " [1] \u001b[1mtrunc\u001b[22m\u001b[22m\u001b[1m(\u001b[22m\u001b[22m::Type{Int64}, ::Float32\u001b[1m)\u001b[22m\u001b[22m at \u001b[1m./float.jl:672\u001b[22m\u001b[22m\n",
      " [2] \u001b[1msearchsortedfirst\u001b[22m\u001b[22m\u001b[1m(\u001b[22m\u001b[22m::StepRangeLen{Float16,Base.TwicePrecision{Float16},Base.TwicePrecision{Float16}}, ::Float16, ::Base.Order.ForwardOrdering\u001b[1m)\u001b[22m\u001b[22m at \u001b[1m./sort.jl:166\u001b[22m\u001b[22m\n",
      " [3] \u001b[1m_edge_binindex\u001b[22m\u001b[22m at \u001b[1m/Applications/JuliaPro-0.6.2.2.app/Contents/Resources/pkgs-0.6.2.2/v0.6/StatsBase/src/hist.jl:181\u001b[22m\u001b[22m [inlined]\n",
      " [4] \u001b[1m(::StatsBase.##93#94{StatsBase.Histogram{Int64,1,Tuple{StepRangeLen{Float16,Base.TwicePrecision{Float16},Base.TwicePrecision{Float16}}}}})\u001b[22m\u001b[22m\u001b[1m(\u001b[22m\u001b[22m::StepRangeLen{Float16,Base.TwicePrecision{Float16},Base.TwicePrecision{Float16}}, ::Float16\u001b[1m)\u001b[22m\u001b[22m at \u001b[1m/Applications/JuliaPro-0.6.2.2.app/Contents/Resources/pkgs-0.6.2.2/v0.6/StatsBase/src/hist.jl:177\u001b[22m\u001b[22m\n",
      " [5] \u001b[1mpush!\u001b[22m\u001b[22m\u001b[1m(\u001b[22m\u001b[22m::StatsBase.Histogram{Int64,1,Tuple{StepRangeLen{Float16,Base.TwicePrecision{Float16},Base.TwicePrecision{Float16}}}}, ::Tuple{Float16}, ::Int64\u001b[1m)\u001b[22m\u001b[22m at \u001b[1m/Applications/JuliaPro-0.6.2.2.app/Contents/Resources/pkgs-0.6.2.2/v0.6/StatsBase/src/hist.jl:239\u001b[22m\u001b[22m\n",
      " [6] \u001b[1mappend!\u001b[22m\u001b[22m\u001b[1m(\u001b[22m\u001b[22m::StatsBase.Histogram{Int64,1,Tuple{StepRangeLen{Float16,Base.TwicePrecision{Float16},Base.TwicePrecision{Float16}}}}, ::Tuple{MappedArrays.ReadonlyMappedArray{Float16,1,Base.ReshapedArray{Float16,1,SubArray{Float16,2,MappedArrays.ReadonlyMappedArray{Float16,2,Array{Float16,2},Base.#identity},Tuple{UnitRange{Int64},UnitRange{Int64}},false},Tuple{Base.MultiplicativeInverses.SignedMultiplicativeInverse{Int64}}},ImageView.#nanz}}\u001b[1m)\u001b[22m\u001b[22m at \u001b[1m/Applications/JuliaPro-0.6.2.2.app/Contents/Resources/pkgs-0.6.2.2/v0.6/StatsBase/src/hist.jl:260\u001b[22m\u001b[22m\n",
      " [7] \u001b[1m#fit#104\u001b[22m\u001b[22m\u001b[1m(\u001b[22m\u001b[22m::Symbol, ::Function, ::Type{StatsBase.Histogram{Int64,N,E} where E where N}, ::Tuple{MappedArrays.ReadonlyMappedArray{Float16,1,Base.ReshapedArray{Float16,1,SubArray{Float16,2,MappedArrays.ReadonlyMappedArray{Float16,2,Array{Float16,2},Base.#identity},Tuple{UnitRange{Int64},UnitRange{Int64}},false},Tuple{Base.MultiplicativeInverses.SignedMultiplicativeInverse{Int64}}},ImageView.#nanz}}, ::Tuple{StepRangeLen{Float16,Base.TwicePrecision{Float16},Base.TwicePrecision{Float16}}}\u001b[1m)\u001b[22m\u001b[22m at \u001b[1m/Applications/JuliaPro-0.6.2.2.app/Contents/Resources/pkgs-0.6.2.2/v0.6/StatsBase/src/hist.jl:281\u001b[22m\u001b[22m\n",
      " [8] \u001b[1m(::StatsBase.#kw##fit)\u001b[22m\u001b[22m\u001b[1m(\u001b[22m\u001b[22m::Array{Any,1}, ::StatsBase.#fit, ::Type{StatsBase.Histogram{Int64,N,E} where E where N}, ::Tuple{MappedArrays.ReadonlyMappedArray{Float16,1,Base.ReshapedArray{Float16,1,SubArray{Float16,2,MappedArrays.ReadonlyMappedArray{Float16,2,Array{Float16,2},Base.#identity},Tuple{UnitRange{Int64},UnitRange{Int64}},false},Tuple{Base.MultiplicativeInverses.SignedMultiplicativeInverse{Int64}}},ImageView.#nanz}}, ::Tuple{StepRangeLen{Float16,Base.TwicePrecision{Float16},Base.TwicePrecision{Float16}}}\u001b[1m)\u001b[22m\u001b[22m at \u001b[1m./<missing>:0\u001b[22m\u001b[22m (repeats 2 times)\n",
      " [9] \u001b[1m#fit#108\u001b[22m\u001b[22m\u001b[1m(\u001b[22m\u001b[22m::Array{Any,1}, ::Function, ::Type{StatsBase.Histogram}, ::MappedArrays.ReadonlyMappedArray{Float16,1,Base.ReshapedArray{Float16,1,SubArray{Float16,2,MappedArrays.ReadonlyMappedArray{Float16,2,Array{Float16,2},Base.#identity},Tuple{UnitRange{Int64},UnitRange{Int64}},false},Tuple{Base.MultiplicativeInverses.SignedMultiplicativeInverse{Int64}}},ImageView.#nanz}, ::Vararg{Any,N} where N\u001b[1m)\u001b[22m\u001b[22m at \u001b[1m/Applications/JuliaPro-0.6.2.2.app/Contents/Resources/pkgs-0.6.2.2/v0.6/StatsBase/src/hist.jl:339\u001b[22m\u001b[22m\n",
      " [10] \u001b[1m(::StatsBase.#kw##fit)\u001b[22m\u001b[22m\u001b[1m(\u001b[22m\u001b[22m::Array{Any,1}, ::StatsBase.#fit, ::Type{StatsBase.Histogram}, ::MappedArrays.ReadonlyMappedArray{Float16,1,Base.ReshapedArray{Float16,1,SubArray{Float16,2,MappedArrays.ReadonlyMappedArray{Float16,2,Array{Float16,2},Base.#identity},Tuple{UnitRange{Int64},UnitRange{Int64}},false},Tuple{Base.MultiplicativeInverses.SignedMultiplicativeInverse{Int64}}},ImageView.#nanz}, ::StepRangeLen{Float16,Base.TwicePrecision{Float16},Base.TwicePrecision{Float16}}\u001b[1m)\u001b[22m\u001b[22m at \u001b[1m./<missing>:0\u001b[22m\u001b[22m\n",
      " [11] \u001b[1m(::ImageView.##39#41{Reactive.Signal{ImageView.CLim{Float16}}})\u001b[22m\u001b[22m\u001b[1m(\u001b[22m\u001b[22m::SubArray{Float16,2,MappedArrays.ReadonlyMappedArray{Float16,2,Array{Float16,2},Base.#identity},Tuple{UnitRange{Int64},UnitRange{Int64}},false}\u001b[1m)\u001b[22m\u001b[22m at \u001b[1m/Applications/JuliaPro-0.6.2.2.app/Contents/Resources/pkgs-0.6.2.2/v0.6/ImageView/src/ImageView.jl:441\u001b[22m\u001b[22m\n",
      " [12] \u001b[1m(::Base.#kw##map)\u001b[22m\u001b[22m\u001b[1m(\u001b[22m\u001b[22m::Array{Any,1}, ::Base.#map, ::Function, ::Reactive.Signal{SubArray{Float16,2,MappedArrays.ReadonlyMappedArray{Float16,2,Array{Float16,2},Base.#identity},Tuple{UnitRange{Int64},UnitRange{Int64}},false}}\u001b[1m)\u001b[22m\u001b[22m at \u001b[1m./<missing>:0\u001b[22m\u001b[22m\n",
      " [13] \u001b[1mprep_contrast\u001b[22m\u001b[22m\u001b[1m(\u001b[22m\u001b[22m::Reactive.Signal{SubArray{Float16,2,MappedArrays.ReadonlyMappedArray{Float16,2,Array{Float16,2},Base.#identity},Tuple{UnitRange{Int64},UnitRange{Int64}},false}}, ::Reactive.Signal{ImageView.CLim{Float16}}\u001b[1m)\u001b[22m\u001b[22m at \u001b[1m/Applications/JuliaPro-0.6.2.2.app/Contents/Resources/pkgs-0.6.2.2/v0.6/ImageView/src/ImageView.jl:433\u001b[22m\u001b[22m\n",
      " [14] \u001b[1mprep_contrast\u001b[22m\u001b[22m\u001b[1m(\u001b[22m\u001b[22m::GtkReactive.Canvas{GtkReactive.UserUnit}, ::Reactive.Signal{SubArray{Float16,2,MappedArrays.ReadonlyMappedArray{Float16,2,Array{Float16,2},Base.#identity},Tuple{UnitRange{Int64},UnitRange{Int64}},false}}, ::Reactive.Signal{ImageView.CLim{Float16}}\u001b[1m)\u001b[22m\u001b[22m at \u001b[1m/Applications/JuliaPro-0.6.2.2.app/Contents/Resources/pkgs-0.6.2.2/v0.6/ImageView/src/ImageView.jl:456\u001b[22m\u001b[22m\n",
      " [15] \u001b[1mimshow\u001b[22m\u001b[22m\u001b[1m(\u001b[22m\u001b[22m::Gtk.GtkAspectFrameLeaf, ::GtkReactive.Canvas{GtkReactive.UserUnit}, ::MappedArrays.ReadonlyMappedArray{Float16,2,Array{Float16,2},Base.#identity}, ::Reactive.Signal{ImageView.CLim{Float16}}, ::Reactive.Signal{GtkReactive.ZoomRegion{RoundingIntegers.RInt64}}, ::ImageView.SliceData{false,0,Tuple{}}, ::Reactive.Signal{Dict{UInt64,Any}}\u001b[1m)\u001b[22m\u001b[22m at \u001b[1m/Applications/JuliaPro-0.6.2.2.app/Contents/Resources/pkgs-0.6.2.2/v0.6/ImageView/src/ImageView.jl:203\u001b[22m\u001b[22m\n",
      " [16] \u001b[1m#imshow#20\u001b[22m\u001b[22m\u001b[1m(\u001b[22m\u001b[22m::String, ::Symbol, ::Function, ::MappedArrays.ReadonlyMappedArray{Float16,2,Array{Float16,2},Base.#identity}, ::Reactive.Signal{ImageView.CLim{Float16}}, ::Reactive.Signal{GtkReactive.ZoomRegion{RoundingIntegers.RInt64}}, ::ImageView.SliceData{false,0,Tuple{}}, ::Reactive.Signal{Dict{UInt64,Any}}\u001b[1m)\u001b[22m\u001b[22m at \u001b[1m/Applications/JuliaPro-0.6.2.2.app/Contents/Resources/pkgs-0.6.2.2/v0.6/ImageView/src/ImageView.jl:182\u001b[22m\u001b[22m\n",
      " [17] \u001b[1m(::ImageView.#kw##imshow)\u001b[22m\u001b[22m\u001b[1m(\u001b[22m\u001b[22m::Array{Any,1}, ::ImageView.#imshow, ::MappedArrays.ReadonlyMappedArray{Float16,2,Array{Float16,2},Base.#identity}, ::Reactive.Signal{ImageView.CLim{Float16}}, ::Reactive.Signal{GtkReactive.ZoomRegion{RoundingIntegers.RInt64}}, ::ImageView.SliceData{false,0,Tuple{}}, ::Reactive.Signal{Dict{UInt64,Any}}\u001b[1m)\u001b[22m\u001b[22m at \u001b[1m./<missing>:0\u001b[22m\u001b[22m (repeats 2 times)\n",
      " [18] \u001b[1m#imshow#17\u001b[22m\u001b[22m\u001b[1m(\u001b[22m\u001b[22m::Tuple{Int64,Int64}, ::String, ::Function, ::Symbol, ::Array{Any,1}, ::Function, ::Array{Float16,2}\u001b[1m)\u001b[22m\u001b[22m at \u001b[1m/Applications/JuliaPro-0.6.2.2.app/Contents/Resources/pkgs-0.6.2.2/v0.6/ImageView/src/ImageView.jl:156\u001b[22m\u001b[22m\n",
      " [19] \u001b[1m(::ImageView.#kw##imshow)\u001b[22m\u001b[22m\u001b[1m(\u001b[22m\u001b[22m::Array{Any,1}, ::ImageView.#imshow, ::Array{Float16,2}\u001b[1m)\u001b[22m\u001b[22m at \u001b[1m./<missing>:0\u001b[22m\u001b[22m\n",
      " [20] \u001b[1minclude_from_node1\u001b[22m\u001b[22m\u001b[1m(\u001b[22m\u001b[22m::String\u001b[1m)\u001b[22m\u001b[22m at \u001b[1m./loading.jl:576\u001b[22m\u001b[22m\n",
      " [21] \u001b[1minclude\u001b[22m\u001b[22m\u001b[1m(\u001b[22m\u001b[22m::String\u001b[1m)\u001b[22m\u001b[22m at \u001b[1m./sysimg.jl:14\u001b[22m\u001b[22m\n",
      " [22] \u001b[1minclude_from_node1\u001b[22m\u001b[22m\u001b[1m(\u001b[22m\u001b[22m::String\u001b[1m)\u001b[22m\u001b[22m at \u001b[1m./loading.jl:576\u001b[22m\u001b[22m\n",
      " [23] \u001b[1minclude\u001b[22m\u001b[22m\u001b[1m(\u001b[22m\u001b[22m::String\u001b[1m)\u001b[22m\u001b[22m at \u001b[1m./sysimg.jl:14\u001b[22m\u001b[22m\n",
      " [24] \u001b[1mprocess_options\u001b[22m\u001b[22m\u001b[1m(\u001b[22m\u001b[22m::Base.JLOptions\u001b[1m)\u001b[22m\u001b[22m at \u001b[1m./client.jl:305\u001b[22m\u001b[22m\n",
      " [25] \u001b[1m_start\u001b[22m\u001b[22m\u001b[1m(\u001b[22m\u001b[22m\u001b[1m)\u001b[22m\u001b[22m at \u001b[1m./client.jl:371\u001b[22m\u001b[22m\n",
      "while loading /Applications/JuliaPro-0.6.2.2.app/Contents/Resources/pkgs-0.6.2.2/v0.6/ImageView/test/newtests.jl, in expression starting on line 53\n",
      "while loading /Applications/JuliaPro-0.6.2.2.app/Contents/Resources/pkgs-0.6.2.2/v0.6/ImageView/test/runtests.jl, in expression starting on line 10\n"
     ]
    },
    {
     "name": "stderr",
     "output_type": "stream",
     "text": [
      "\u001b[1m\u001b[33m\u001b[39m\u001b[22m\u001b[33m==============================[ ERROR: ImageView ]==============================\u001b[39m\n",
      "\n",
      "\u001b[1m\u001b[33m\u001b[39m\u001b[22m\u001b[33mfailed process: Process(`/Applications/JuliaPro-0.6.2.2.app/Contents/Resources/julia/Contents/Resources/julia/bin/julia -Cx86-64 -J/Applications/JuliaPro-0.6.2.2.app/Contents/Resources/julia/Contents/Resources/julia/lib/julia/sys.dylib --compile=yes --depwarn=yes --check-bounds=yes --code-coverage=none --color=yes --compilecache=yes /Applications/JuliaPro-0.6.2.2.app/Contents/Resources/pkgs-0.6.2.2/v0.6/ImageView/test/runtests.jl`, ProcessExited(1)) [1]\u001b[39m\n",
      "\n",
      "\u001b[1m\u001b[33m\u001b[39m\u001b[22m\u001b[33m================================================================================\u001b[39m\n",
      "\u001b[1m\u001b[36mINFO: \u001b[39m\u001b[22m\u001b[36mNo packages to install, update or remove\n",
      "\u001b[39m"
     ]
    },
    {
     "ename": "LoadError",
     "evalue": "\u001b[91mImageView had test errors\u001b[39m",
     "output_type": "error",
     "traceback": [
      "\u001b[91mImageView had test errors\u001b[39m",
      "",
      "Stacktrace:",
      " [1] \u001b[1m#test#62\u001b[22m\u001b[22m\u001b[1m(\u001b[22m\u001b[22m::Bool, ::Function, ::Array{AbstractString,1}\u001b[1m)\u001b[22m\u001b[22m at \u001b[1m./pkg/entry.jl:757\u001b[22m\u001b[22m",
      " [2] \u001b[1m(::Base.Pkg.Entry.#kw##test)\u001b[22m\u001b[22m\u001b[1m(\u001b[22m\u001b[22m::Array{Any,1}, ::Base.Pkg.Entry.#test, ::Array{AbstractString,1}\u001b[1m)\u001b[22m\u001b[22m at \u001b[1m./<missing>:0\u001b[22m\u001b[22m",
      " [3] \u001b[1m(::Base.Pkg.Dir.##3#6{Array{Any,1},Base.Pkg.Entry.#test,Tuple{Array{AbstractString,1}}})\u001b[22m\u001b[22m\u001b[1m(\u001b[22m\u001b[22m\u001b[1m)\u001b[22m\u001b[22m at \u001b[1m./pkg/dir.jl:33\u001b[22m\u001b[22m",
      " [4] \u001b[1mcd\u001b[22m\u001b[22m\u001b[1m(\u001b[22m\u001b[22m::Base.Pkg.Dir.##3#6{Array{Any,1},Base.Pkg.Entry.#test,Tuple{Array{AbstractString,1}}}, ::String\u001b[1m)\u001b[22m\u001b[22m at \u001b[1m./file.jl:70\u001b[22m\u001b[22m",
      " [5] \u001b[1mwithenv\u001b[22m\u001b[22m\u001b[1m(\u001b[22m\u001b[22m::Base.Pkg.Dir.##2#5{Array{Any,1},Base.Pkg.Entry.#test,Tuple{Array{AbstractString,1}},String}, ::Pair{String,String}, ::Vararg{Pair{String,String},N} where N\u001b[1m)\u001b[22m\u001b[22m at \u001b[1m./env.jl:157\u001b[22m\u001b[22m",
      " [6] \u001b[1m#cd#1\u001b[22m\u001b[22m\u001b[1m(\u001b[22m\u001b[22m::Array{Any,1}, ::Function, ::Function, ::Array{AbstractString,1}, ::Vararg{Array{AbstractString,1},N} where N\u001b[1m)\u001b[22m\u001b[22m at \u001b[1m./pkg/dir.jl:32\u001b[22m\u001b[22m",
      " [7] \u001b[1m(::Base.Pkg.Dir.#kw##cd)\u001b[22m\u001b[22m\u001b[1m(\u001b[22m\u001b[22m::Array{Any,1}, ::Base.Pkg.Dir.#cd, ::Function, ::Array{AbstractString,1}, ::Vararg{Array{AbstractString,1},N} where N\u001b[1m)\u001b[22m\u001b[22m at \u001b[1m./<missing>:0\u001b[22m\u001b[22m",
      " [8] \u001b[1m#test#3\u001b[22m\u001b[22m\u001b[1m(\u001b[22m\u001b[22m::Bool, ::Function, ::String, ::Vararg{String,N} where N\u001b[1m)\u001b[22m\u001b[22m at \u001b[1m./pkg/pkg.jl:276\u001b[22m\u001b[22m",
      " [9] \u001b[1mtest\u001b[22m\u001b[22m\u001b[1m(\u001b[22m\u001b[22m::String, ::Vararg{String,N} where N\u001b[1m)\u001b[22m\u001b[22m at \u001b[1m./pkg/pkg.jl:276\u001b[22m\u001b[22m",
      " [10] \u001b[1minclude_string\u001b[22m\u001b[22m\u001b[1m(\u001b[22m\u001b[22m::String, ::String\u001b[1m)\u001b[22m\u001b[22m at \u001b[1m./loading.jl:522\u001b[22m\u001b[22m"
     ]
    }
   ],
   "source": [
    "Pkg.test(\"ImageView\")"
   ]
  },
  {
   "cell_type": "markdown",
   "metadata": {},
   "source": [
    "## Q2. Linear Mixed Models\n",
    "\n",
    "Consider a linear mixed effects model\n",
    "$$\n",
    "\ty_i = \\mathbf{x}_i^T \\beta + \\mathbf{z}_i^T \\gamma + \\epsilon_i, \\quad i=1,\\ldots,n,\n",
    "$$\n",
    "where $\\epsilon_i$ are independent normal errors $N(0,\\sigma_0^2)$, $\\beta \\in \\mathbb{R}^p$ are fixed effects, and $\\gamma \\in \\mathbb{R}^q$ are random effects assumed to be $N(\\mathbf{0}_q, \\sigma_1^2 \\mathbf{I}_q$) independent of $\\epsilon_i$. \n",
    "\n",
    "0. Show that \n",
    "$$\n",
    "    \\mathbf{y} \\sim N \\left( \\mathbf{X} \\beta, \\sigma_0^2 \\mathbf{I}_n + \\sigma_1^2 \\mathbf{Z} \\mathbf{Z}^T \\right),\n",
    "$$\n",
    "where $\\mathbf{y} = (y_1, \\ldots, y_n)^T \\in \\mathbb{R}^n$, $\\mathbf{X} = (\\mathbf{x}_1, \\ldots, \\mathbf{x}_n)^T \\in \\mathbb{R}^{n \\times p}$, and $\\mathbf{Z} = (\\mathbf{z}_1, \\ldots, \\mathbf{z}_n)^T \\in \\mathbb{R}^{n \\times q}$. \n",
    "\n",
    "0. Write a function, with interface \n",
    "    ```julia\n",
    "    logpdf_mvn(y::Vector, Z::Matrix, σ0::Number, σ1::Number),\n",
    "    ```\n",
    "that evaluates the log-density of a multivariate normal with mean $\\mathbf{0}$ and covariance $\\sigma_0^2 \\mathbf{I} + \\sigma_1^2 \\mathbf{Z} \\mathbf{Z}^T$ at $\\mathbf{y}$. Make your code efficient in the $n \\gg q$ case. \n",
    "\n",
    "0. Compare your result (both accuracy and timing) to the [Distributions.jl](http://distributionsjl.readthedocs.io/en/latest/multivariate.html#multivariate-normal-distribution) package using following data.  \n",
    "    ```julia\n",
    "    using BenchmarkTools, Distributions\n",
    "\n",
    "    srand(280)\n",
    "    n, q = 2000, 10\n",
    "    Z = randn(n, q)\n",
    "    σ0, σ1 = 0.5, 2.0\n",
    "    Σ = σ1^2 * Z * Z.' + σ0^2 * I\n",
    "    mvn = MvNormal(Σ) # MVN(0, Σ)\n",
    "    y = rand(mvn) # generate one instance from MNV(0, Σ)\n",
    "\n",
    "    # check you answer matches that from Distributions.jl\n",
    "    @show logpdf_mvn(y, Z, σ0, σ1)\n",
    "    @show logpdf(mvn, y)\n",
    "\n",
    "    # benchmark\n",
    "    @benchmark logpdf_mvn(y, Z, σ0, σ1)\n",
    "    @benchmark logpdf(mvn, y)\n",
    "    ```"
   ]
  },
  {
   "cell_type": "markdown",
   "metadata": {},
   "source": [
    "**(1)** In matrix notation\n",
    "$$\n",
    " \\mathbf{y} = \\mathbf{X} \\beta + \\mathbf{Z} \\gamma + E,\n",
    "$$\n",
    "    Where $\\varepsilon = (\\epsilon_1, \\ldots, \\epsilon_n)^T, E \\sim MVN(0,\\sigma_0^2I_n)$. Since \\gamma and E are independent normal-distributed random variables, and $\\mathbf{X}$ and $\\mathbf{Z}$ are known/fixed, $\\mathbf{y}$ also follows normal distribution. And,\n",
    "    \n",
    "    $$ E(\\mathbf{y}) = E(\\mathbf{X} \\beta) + E(\\mathbf{Z} \\gamma) + E(\\varepsilon) = \\mathbf{X} \\beta + \\mathbf{Z} E(\\gamma) + E(\\varepsilon) = \\mathbf{X} \\beta + \\mathbf{0} + \\mathbf{0} = \\mathbf{X} \\beta $$\n",
    "    \n",
    "$$\n",
    "Var(\\mathbf{y}) = Var(\\mathbf{Z} \\gamma) + Var(\\varepsilon) = \\mathbf{Z} Var(\\gamma) \\mathbf{Z}^T + Var(\\varepsilon)=   \\sigma_1^2 \\mathbf{Z} \\mathbf{Z}^T + \\sigma_0^2 \\mathbf{I}_n\n",
    "$$\n",
    "\n",
    "So $$\n",
    "    \\mathbf{y} \\sim N \\left( \\mathbf{X} \\beta, \\sigma_0^2 \\mathbf{I}_n + \\sigma_1^2 \\mathbf{Z} \\mathbf{Z}^T \\right),\n",
    "$$"
   ]
  },
  {
   "cell_type": "code",
   "execution_count": 294,
   "metadata": {},
   "outputs": [
    {
     "data": {
      "text/plain": [
       "logpdf_mvn (generic function with 1 method)"
      ]
     },
     "execution_count": 294,
     "metadata": {},
     "output_type": "execute_result"
    }
   ],
   "source": [
    "function logpdf_mvn(y::Vector, Z::Matrix, σ0::Number, σ1::Number)\n",
    "    n = length(y)\n",
    "    zchol = cholfact(I + σ1^2/σ0^2 * Symmetric(Z'*Z))\n",
    "    logdetzchol = 2 * n * log(σ0) + logdet(zchol)\n",
    "    - (n/2) * log(2π) - (1/2) * logdetzchol - (1/2)*(dot(y, y)/σ0^2 - sum(abs2, zchol[:L]\\((Z'y) * (σ1/σ0^2))))\n",
    "end"
   ]
  },
  {
   "cell_type": "code",
   "execution_count": 301,
   "metadata": {},
   "outputs": [
    {
     "name": "stdout",
     "output_type": "stream",
     "text": [
      "logpdf_mvn(y, Z, σ0, σ1) = -1571.573673465511\n",
      "logpdf(mvn, y) = -1571.573673465414\n"
     ]
    },
    {
     "data": {
      "text/plain": [
       "-1571.573673465414"
      ]
     },
     "execution_count": 301,
     "metadata": {},
     "output_type": "execute_result"
    }
   ],
   "source": [
    "using BenchmarkTools, Distributions\n",
    "\n",
    " srand(280)\n",
    " n, q = 2000, 10\n",
    " Z = randn(n, q)\n",
    " σ0, σ1 = 0.5, 2.0\n",
    " Σ = σ1^2 .* Symmetric(Z * Z') + σ0^2 * I\n",
    " mvn = MvNormal(Σ) # MVN(0, Σ)\n",
    " y = rand(mvn) # generate one instance from MNV(0, Σ)\n",
    "\n",
    " @show logpdf_mvn(y, Z, σ0, σ1)\n",
    " @show logpdf(mvn, y)"
   ]
  },
  {
   "cell_type": "code",
   "execution_count": 302,
   "metadata": {},
   "outputs": [
    {
     "data": {
      "text/plain": [
       "BenchmarkTools.Trial: \n",
       "  memory estimate:  5.11 KiB\n",
       "  allocs estimate:  19\n",
       "  --------------\n",
       "  minimum time:     26.522 μs (0.00% GC)\n",
       "  median time:      53.891 μs (0.00% GC)\n",
       "  mean time:        55.733 μs (2.06% GC)\n",
       "  maximum time:     5.965 ms (96.89% GC)\n",
       "  --------------\n",
       "  samples:          10000\n",
       "  evals/sample:     1"
      ]
     },
     "execution_count": 302,
     "metadata": {},
     "output_type": "execute_result"
    }
   ],
   "source": [
    " # benchmark\n",
    " @benchmark logpdf_mvn(y, Z, σ0, σ1)"
   ]
  },
  {
   "cell_type": "code",
   "execution_count": 303,
   "metadata": {},
   "outputs": [
    {
     "data": {
      "text/plain": [
       "BenchmarkTools.Trial: \n",
       "  memory estimate:  15.78 KiB\n",
       "  allocs estimate:  3\n",
       "  --------------\n",
       "  minimum time:     4.470 ms (0.00% GC)\n",
       "  median time:      6.729 ms (0.00% GC)\n",
       "  mean time:        6.552 ms (0.00% GC)\n",
       "  maximum time:     75.074 ms (0.00% GC)\n",
       "  --------------\n",
       "  samples:          761\n",
       "  evals/sample:     1"
      ]
     },
     "execution_count": 303,
     "metadata": {},
     "output_type": "execute_result"
    }
   ],
   "source": [
    " @benchmark logpdf(mvn, y)"
   ]
  }
 ],
 "metadata": {
  "kernelspec": {
   "display_name": "Julia 0.6.2",
   "language": "julia",
   "name": "julia-0.6"
  },
  "language_info": {
   "file_extension": ".jl",
   "mimetype": "application/julia",
   "name": "julia",
   "version": "0.6.2"
  },
  "toc": {
   "colors": {
    "hover_highlight": "#DAA520",
    "running_highlight": "#FF0000",
    "selected_highlight": "#FFD700"
   },
   "moveMenuLeft": true,
   "nav_menu": {
    "height": "87px",
    "width": "252px"
   },
   "navigate_menu": true,
   "number_sections": true,
   "sideBar": true,
   "threshold": 4,
   "toc_cell": false,
   "toc_section_display": "block",
   "toc_window_display": false,
   "widenNotebook": false
  }
 },
 "nbformat": 4,
 "nbformat_minor": 2
}
