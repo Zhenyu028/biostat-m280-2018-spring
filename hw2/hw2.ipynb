{
 "cells": [
  {
   "cell_type": "markdown",
   "metadata": {},
   "source": [
    "# Biostat M280 Homework 2\n",
    "\n",
    "**Due May 11 @ 11:59PM**"
   ]
  },
  {
   "cell_type": "markdown",
   "metadata": {},
   "source": [
    "## Q1. Nonnegative Matrix Factorization\n",
    "\n",
    "Nonnegative matrix factorization (NNMF) was introduced by [Lee and Seung (1999)](https://www.nature.com/articles/44565) as an analog of principal components and vector quantization with applications in data compression and clustering. In this homework we consider algorithms for fitting NNMF and (optionally) high performance computing using graphical processing units (GPUs).\n",
    "\n",
    "<img src=\"./nnmf.png\" width=\"500\" align=\"center\"/>\n",
    "\n",
    "In mathematical terms, one approximates a data matrix $\\mathbf{X} \\in \\mathbb{R}^{m \\times n}$ with nonnegative entries $x_{ij}$ by a product of two low-rank matrices $\\mathbf{V} \\in \\mathbb{R}^{m \\times r}$ and $\\mathbf{W} \\in \\mathbb{R}^{r \\times n}$ with nonnegative entries $v_{ik}$ and $w_{kj}$. Consider minimization of the squared Frobenius norm\n",
    "$$\n",
    "\tL(\\mathbf{V}, \\mathbf{W}) = \\|\\mathbf{X} - \\mathbf{V} \\mathbf{W}\\|_{\\text{F}}^2 = \\sum_i \\sum_j \\left(x_{ij} - \\sum_k v_{ik} w_{kj} \\right)^2, \\quad v_{ik} \\ge 0, w_{kj} \\ge 0,\n",
    "$$\n",
    "which should lead to a good factorization. Later in the course we will learn how to derive a majorization-minimization (MM) algorithm with iterative updates\n",
    "$$\n",
    "\tv_{ik}^{(t+1)} = v_{ik}^{(t)} \\frac{\\sum_j x_{ij} w_{kj}^{(t)}}{\\sum_j b_{ij}^{(t)} w_{kj}^{(t)}}, \\quad \\text{where } b_{ij}^{(t)} = \\sum_k v_{ik}^{(t)} w_{kj}^{(t)},\n",
    "$$\n",
    "$$\n",
    "\tw_{kj}^{(t+1)} = w_{kj}^{(t)} \\frac{\\sum_i x_{ij} v_{ik}^{(t+1)}}{\\sum_i b_{ij}^{(t+1/2)} v_{ik}^{(t+1)}}, \\quad \\text{where } b_{ij}^{(t+1/2)} = \\sum_k v_{ik}^{(t+1)} w_{kj}^{(t)}\n",
    "$$\n",
    "that drive the objective $L^{(t)} = L(\\mathbf{V}^{(t)}, \\mathbf{W}^{(t)})$ downhill. Superscript $t$ indicates iteration number. Efficiency (both speed and memory) will be the most important criterion when grading this problem.\n",
    "\n",
    "\n",
    "1. Implement the algorithm with arguments: $\\mathbf{X}$ (data, each row is a vectorized image), rank $r$, convergence tolerance, and optional starting point.\n",
    "```julia\n",
    "function nnmf(\n",
    "    X::Matrix, \n",
    "    r::Int;\n",
    "    maxiter::Int=1000, \n",
    "    tol::eltype(X)=1e-4,\n",
    "    V::Matrix{eltype(X)}=rand(size(X, 1), r),\n",
    "    W::Matrix{eltype(X)}=rand(r, size(X, 2))\n",
    "    )\n",
    "    # implementation\n",
    "    # Output\n",
    "    return V, W\n",
    "end\n",
    "```\n",
    "\n",
    "0. Database 1 from the [MIT Center for Biological and Computational Learning (CBCL)](http://cbcl.mit.edu) reduces to a matrix $\\mathbf{X}$ containing $m = 2,429$ gray-scale face images with $n = 19 \\times 19 = 361$ pixels per face. Each image (row) is scaled to have mean and standard deviation 0.25.  \n",
    "Read in the [`nnmf-2429-by-361-face.txt`](http://hua-zhou.github.io/teaching/biostatm280-2018spring/hw/hw2/nnmf-2429-by-361-face.txt) file, e.g., using [`readdlm()`](https://docs.julialang.org/en/stable/stdlib/io-network/#Base.DataFmt.readdlm-Tuple{Any,Char,Type,Char}) function, and display a couple sample images, e.g., using [ImageView.jl](https://github.com/JuliaImages/ImageView.jl) package.\n",
    "\n",
    "0. Report the run times, using `@time`, of your function for fitting NNMF on the MIT CBCL face data set at ranks $r=10, 20, 30, 40, 50$. For ease of comparison (and grading), please start your algorithm with the provided $\\mathbf{V}^{(0)}$ (first $r$ columns of [`V0.txt`](http://hua-zhou.github.io/teaching/biostatm280-2018spring/hw/hw2/V0.txt)) and $\\mathbf{W}^{(0)}$ (first $r$ rows of [`W0.txt`](http://hua-zhou.github.io/teaching/biostatm280-2018spring/hw/hw2/W0.txt)) and stopping criterion\n",
    "$$\n",
    "\t\\frac{|L^{(t+1)} - L^{(t)}|}{|L^{(t)}| + 1} \\le 10^{-4}.\n",
    "$$\n",
    "\n",
    "0. Choose an $r \\in \\{10, 20, 30, 40, 50\\}$ and start your algorithm from a different $\\mathbf{V}^{(0)}$ and $\\mathbf{W}^{(0)}$. Do you obtain the same objective value and $(\\mathbf{V}, \\mathbf{W})$? Explain what you find.\n",
    "\n",
    "0. For the same $r$, start your algorithm from $v_{ik}^{(0)} = w_{kj}^{(0)} = 1$ for all $i,j,k$. Do you obtain the same objective value and $(\\mathbf{V}, \\mathbf{W})$? Explain what you find.\n",
    "\n",
    "0. Plot the basis images (rows of $\\mathbf{W}$) at rank $r=50$. What do you find?\n",
    "\n",
    "0. (Optional) Investigate the GPU capabilities of Julia. Report the speed gain of your GPU code over CPU code at ranks $r=10, 20, 30, 40, 50$. Make sure to use the same starting point as in part 2."
   ]
  },
  {
   "cell_type": "code",
   "execution_count": 1,
   "metadata": {},
   "outputs": [
    {
     "data": {
      "text/plain": [
       "nnmf (generic function with 1 method)"
      ]
     },
     "execution_count": 1,
     "metadata": {},
     "output_type": "execute_result"
    }
   ],
   "source": [
    "function nnmf(\n",
    "    X::Matrix{T}, \n",
    "    r::Int;\n",
    "    maxiter::Int=1000, \n",
    "    tol::T=1e-4,\n",
    "    V::Matrix{T}=rand(T, size(X, 1), r),\n",
    "    W::Matrix{T}=rand(T, r, size(X, 2))\n",
    "    ) where T <: AbstractFloat\n",
    "    # implementation\n",
    "    m = size(X,1)\n",
    "    n = size(X,2)\n",
    "    # proallocate. capital letter is for matrix, lowercase \"t\" means matrix transpose.\n",
    "    XWt = zeros(m, r)\n",
    "    \n",
    "    WWt = zeros(r, r)\n",
    "    VWWt = zeros(m, r)\n",
    "    \n",
    "    VtX = zeros(r, n)\n",
    "    \n",
    "    VtVW = zeros(r,n)    \n",
    "    VW = zeros(X)\n",
    "    \n",
    "    l_old = 0.0\n",
    "    l_new = 0.0\n",
    "    \n",
    "    for iter = 1:maxiter\n",
    "        \n",
    "        V .= \n",
    "        V .* A_mul_Bt!(XWt, X, W)./ A_mul_B!(VWWt, V, A_mul_Bt!(WWt, W, W))\n",
    "        \n",
    "        W .= \n",
    "        W .* At_mul_B!(VtX, V, X) ./ A_mul_B!(VtVW, At_mul_B!(WWt, V, V), W)\n",
    "        \n",
    "        VW .= X .- A_mul_B!(VW, V, W)\n",
    "        \n",
    "        l_new = vecnorm(VW)^2\n",
    "\n",
    "        if abs(l_new - l_old)/(l_old + 1) < tol\n",
    "            @show iter\n",
    "            break\n",
    "        end\n",
    "        l_old = l_new\n",
    "    end\n",
    "    # Output\n",
    "    return V, W, l_new\n",
    "end"
   ]
  },
  {
   "cell_type": "markdown",
   "metadata": {},
   "source": [
    "**(2)**. Display a few images "
   ]
  },
  {
   "cell_type": "code",
   "execution_count": 2,
   "metadata": {},
   "outputs": [
    {
     "data": {
      "image/png": "[encoded data removed]",
      "text/plain": [
       "PyPlot.Figure(PyObject <matplotlib.figure.Figure object at 0x1238dbe90>)"
      ]
     },
     "metadata": {},
     "output_type": "display_data"
    }
   ],
   "source": [
    "#Pkg.add(\"PyPlot\")\n",
    "using PyPlot\n",
    "imagematrix = readdlm(\"nnmf-2429-by-361-face.txt\");\n",
    "noimages = 5\n",
    "for i in 1:noimages\n",
    "    subplot(1, 5, i)\n",
    "    PyPlot.imshow(reshape(imagematrix[i, :], 19, 19), cmap = \"gray\")\n",
    "end"
   ]
  },
  {
   "cell_type": "markdown",
   "metadata": {},
   "source": [
    "**(3)**. Report running time."
   ]
  },
  {
   "cell_type": "code",
   "execution_count": 3,
   "metadata": {},
   "outputs": [
    {
     "name": "stdout",
     "output_type": "stream",
     "text": [
      "iter = 239\n",
      "  1.453749 seconds (307.80 k allocations: 20.662 MiB, 0.46% gc time)\n",
      "iter = 394\n",
      "  1.140578 seconds (912 allocations: 7.596 MiB)\n",
      "iter = 482\n",
      "  1.923157 seconds (779 allocations: 8.014 MiB)\n",
      "iter = 581\n",
      "  2.692661 seconds (782 allocations: 8.445 MiB, 0.33% gc time)\n",
      "iter = 698\n",
      "  3.573201 seconds (804 allocations: 8.878 MiB)\n"
     ]
    }
   ],
   "source": [
    "V0 = readdlm(\"V0.txt\");\n",
    "W0 = readdlm(\"W0.txt\");\n",
    "\n",
    "for r in [10 20 30 40 50]\n",
    "    V = V0[:, 1:r]\n",
    "    W = W0[1:r,:]\n",
    "    @time nnmf(imagematrix, r; V = V, W = W)\n",
    "end"
   ]
  },
  {
   "cell_type": "markdown",
   "metadata": {},
   "source": [
    "**(4)** Different starting values"
   ]
  },
  {
   "cell_type": "code",
   "execution_count": 4,
   "metadata": {},
   "outputs": [
    {
     "name": "stdout",
     "output_type": "stream",
     "text": [
      "iter = 698\n",
      "iter = 722\n",
      "L1 = 4430.201581697291\n",
      "L2 = 4418.623252353646\n",
      "vecnorm(V1 - V2) = 6.242352491581818\n",
      "vecnorm(W1 - W2) = 291.85674973749036\n"
     ]
    },
    {
     "data": {
      "text/plain": [
       "291.85674973749036"
      ]
     },
     "execution_count": 4,
     "metadata": {},
     "output_type": "execute_result"
    }
   ],
   "source": [
    "r = 50\n",
    "V = V0[:, 1:r]\n",
    "W = W0[1:r, :]\n",
    "V1, W1, L1 = nnmf(imagematrix, r; V = V, W = W, maxiter = 1000);\n",
    "V2, W2, L2 = nnmf(imagematrix, r; maxiter = 1000);\n",
    "# see if their objective values are the same\n",
    "@show L1\n",
    "@show L2\n",
    "# compare the V and W matrices they returned, by F-norm\n",
    "@show vecnorm(V1 - V2)\n",
    "@show vecnorm(W1 - W2)"
   ]
  },
  {
   "cell_type": "markdown",
   "metadata": {},
   "source": [
    "The two objective values are close, while the decomposition (or V, W matrices) is not exactly the same. The two V matrices are closer than the two W matrices. So with a same (or similar) objective value, the decomposition isn't unique, depending on the starting values used."
   ]
  },
  {
   "cell_type": "markdown",
   "metadata": {},
   "source": [
    "**(5)** All-one matrix as starting matrix V and W."
   ]
  },
  {
   "cell_type": "code",
   "execution_count": 5,
   "metadata": {},
   "outputs": [
    {
     "name": "stdout",
     "output_type": "stream",
     "text": [
      "iter = 3\n",
      "L3 = 25297.01651108185\n",
      "vecnorm(V3 * W3 - imagematrix) = 159.0503584123024\n"
     ]
    },
    {
     "data": {
      "text/plain": [
       "159.0503584123024"
      ]
     },
     "execution_count": 5,
     "metadata": {},
     "output_type": "execute_result"
    }
   ],
   "source": [
    "r = 50\n",
    "m, n = size(imagematrix)\n",
    "V = ones(m, r)\n",
    "W = ones(r, n)\n",
    "\n",
    "V3, W3, L3 = nnmf(imagematrix, r; V = V, W = W, tol = 1e-4, maxiter = 1000);\n",
    "@show L3\n",
    "@show vecnorm(V3*W3 - imagematrix)"
   ]
  },
  {
   "cell_type": "markdown",
   "metadata": {},
   "source": [
    "This decomposition is obviously worse than the previous two. The iterative method stopped quickly after the beginning. By printing out the objective values it can be seen that, since the starting point is too far from the optimal decompostion, the objective value is huge from the start. If \"going downhill\" is slow, the value $\\frac{|L^{(t+1)} - L^{(t)}|}{|L^{(t)}| + 1}$ would be tiny and the optimization stopped. I tried commenting out the stopping criteria and running all the 1000 iterations and the objective value is still quite large. "
   ]
  },
  {
   "cell_type": "markdown",
   "metadata": {},
   "source": [
    "**(6)** Display some base images."
   ]
  },
  {
   "cell_type": "code",
   "execution_count": 6,
   "metadata": {},
   "outputs": [
    {
     "data": {
      "image/png": "[encoded data removed]",
      "text/plain": [
       "PyPlot.Figure(PyObject <matplotlib.figure.Figure object at 0x124274a50>)"
      ]
     },
     "metadata": {},
     "output_type": "display_data"
    }
   ],
   "source": [
    "for i in 1:15\n",
    "    subplot(3,5,i)\n",
    "    PyPlot.imshow(reshape(W1[i, :], 19, 19), cmap = \"gray\")\n",
    "end"
   ]
  },
  {
   "cell_type": "markdown",
   "metadata": {},
   "source": [
    "These base images look like part of the human face (nose, cheek, etc.)"
   ]
  },
  {
   "cell_type": "markdown",
   "metadata": {},
   "source": [
    "## Q2. Linear Mixed Models\n",
    "\n",
    "Consider a linear mixed effects model\n",
    "$$\n",
    "\ty_i = \\mathbf{x}_i^T \\beta + \\mathbf{z}_i^T \\gamma + \\epsilon_i, \\quad i=1,\\ldots,n,\n",
    "$$\n",
    "where $\\epsilon_i$ are independent normal errors $N(0,\\sigma_0^2)$, $\\beta \\in \\mathbb{R}^p$ are fixed effects, and $\\gamma \\in \\mathbb{R}^q$ are random effects assumed to be $N(\\mathbf{0}_q, \\sigma_1^2 \\mathbf{I}_q$) independent of $\\epsilon_i$. \n",
    "\n",
    "0. Show that \n",
    "$$\n",
    "    \\mathbf{y} \\sim N \\left( \\mathbf{X} \\beta, \\sigma_0^2 \\mathbf{I}_n + \\sigma_1^2 \\mathbf{Z} \\mathbf{Z}^T \\right),\n",
    "$$\n",
    "where $\\mathbf{y} = (y_1, \\ldots, y_n)^T \\in \\mathbb{R}^n$, $\\mathbf{X} = (\\mathbf{x}_1, \\ldots, \\mathbf{x}_n)^T \\in \\mathbb{R}^{n \\times p}$, and $\\mathbf{Z} = (\\mathbf{z}_1, \\ldots, \\mathbf{z}_n)^T \\in \\mathbb{R}^{n \\times q}$. \n",
    "\n",
    "0. Write a function, with interface \n",
    "    ```julia\n",
    "    logpdf_mvn(y::Vector, Z::Matrix, σ0::Number, σ1::Number),\n",
    "    ```\n",
    "that evaluates the log-density of a multivariate normal with mean $\\mathbf{0}$ and covariance $\\sigma_0^2 \\mathbf{I} + \\sigma_1^2 \\mathbf{Z} \\mathbf{Z}^T$ at $\\mathbf{y}$. Make your code efficient in the $n \\gg q$ case. \n",
    "\n",
    "0. Compare your result (both accuracy and timing) to the [Distributions.jl](http://distributionsjl.readthedocs.io/en/latest/multivariate.html#multivariate-normal-distribution) package using following data.  \n",
    "    ```julia\n",
    "    using BenchmarkTools, Distributions\n",
    "\n",
    "    srand(280)\n",
    "    n, q = 2000, 10\n",
    "    Z = randn(n, q)\n",
    "    σ0, σ1 = 0.5, 2.0\n",
    "    Σ = σ1^2 * Z * Z.' + σ0^2 * I\n",
    "    mvn = MvNormal(Σ) # MVN(0, Σ)\n",
    "    y = rand(mvn) # generate one instance from MNV(0, Σ)\n",
    "\n",
    "    # check you answer matches that from Distributions.jl\n",
    "    @show logpdf_mvn(y, Z, σ0, σ1)\n",
    "    @show logpdf(mvn, y)\n",
    "\n",
    "    # benchmark\n",
    "    @benchmark logpdf_mvn(y, Z, σ0, σ1)\n",
    "    @benchmark logpdf(mvn, y)\n",
    "    ```"
   ]
  },
  {
   "cell_type": "markdown",
   "metadata": {},
   "source": [
    "**(1)** In matrix notation\n",
    "$$\n",
    " \\mathbf{y} = \\mathbf{X} \\beta + \\mathbf{Z} \\gamma + E,\n",
    "$$\n",
    "    Where $\\varepsilon = (\\epsilon_1, \\ldots, \\epsilon_n)^T, E \\sim MVN(0,\\sigma_0^2I_n)$. Since \\gamma and E are independent normal-distributed random variables, and $\\mathbf{X}$ and $\\mathbf{Z}$ are known/fixed, $\\mathbf{y}$ also follows normal distribution. And,\n",
    "    \n",
    "$$ E(\\mathbf{y}) = E(\\mathbf{X} \\beta) + E(\\mathbf{Z} \\gamma) + E(\\varepsilon) = \\mathbf{X} \\beta + \\mathbf{Z} E(\\gamma) + E(\\varepsilon) = \\mathbf{X} \\beta + \\mathbf{0} + \\mathbf{0} = \\mathbf{X} \\beta $$\n",
    "    \n",
    "$$\n",
    "Var(\\mathbf{y}) = Var(\\mathbf{Z} \\gamma) + Var(\\varepsilon) = \\mathbf{Z} Var(\\gamma) \\mathbf{Z}^T + Var(\\varepsilon)=   \\sigma_1^2 \\mathbf{Z} \\mathbf{Z}^T + \\sigma_0^2 \\mathbf{I}_n\n",
    "$$\n",
    "\n",
    "So $$\n",
    "    \\mathbf{y} \\sim N \\left( \\mathbf{X} \\beta, \\sigma_0^2 \\mathbf{I}_n + \\sigma_1^2 \\mathbf{Z} \\mathbf{Z}^T \\right),\n",
    "$$"
   ]
  },
  {
   "cell_type": "code",
   "execution_count": 7,
   "metadata": {},
   "outputs": [
    {
     "data": {
      "text/plain": [
       "logpdf_mvn (generic function with 1 method)"
      ]
     },
     "execution_count": 7,
     "metadata": {},
     "output_type": "execute_result"
    }
   ],
   "source": [
    "function logpdf_mvn(y::Vector, Z::Matrix, σ0::Number, σ1::Number)\n",
    "    n = length(y)\n",
    "    zchol = cholfact(I + σ1^2 / σ0^2 * Symmetric(Z' * Z))\n",
    "    logdetzchol = 2 * n * log(σ0) + logdet(zchol)\n",
    "    y2 = (Z'y) * (σ1 / σ0^2)\n",
    "\n",
    "    - (n / 2) * log(2π) - (1 / 2) * logdetzchol - \n",
    "    (1 / 2) * (dot(y, y) / σ0^2 - sum(abs2, zchol[:L] \\ (y2)))\n",
    "    \n",
    "end    "
   ]
  },
  {
   "cell_type": "code",
   "execution_count": 8,
   "metadata": {},
   "outputs": [
    {
     "name": "stdout",
     "output_type": "stream",
     "text": [
      "logpdf_mvn(y, Z, σ0, σ1) = -1571.573673465511\n",
      "logpdf(mvn, y) = -1571.573673465414\n"
     ]
    },
    {
     "data": {
      "text/plain": [
       "-1571.573673465414"
      ]
     },
     "execution_count": 8,
     "metadata": {},
     "output_type": "execute_result"
    }
   ],
   "source": [
    "using BenchmarkTools, Distributions\n",
    "\n",
    " srand(280)\n",
    " n, q = 2000, 10\n",
    " Z = randn(n, q)\n",
    " σ0, σ1 = 0.5, 2.0\n",
    " Σ = σ1^2 .* Symmetric(Z * Z') + σ0^2 * I\n",
    " mvn = MvNormal(Σ) # MVN(0, Σ)\n",
    " y = rand(mvn) \n",
    "\n",
    " @show logpdf_mvn(y, Z, σ0, σ1)\n",
    " @show logpdf(mvn, y)"
   ]
  },
  {
   "cell_type": "markdown",
   "metadata": {},
   "source": [
    "The results are the same (accuracy checked)."
   ]
  },
  {
   "cell_type": "code",
   "execution_count": 9,
   "metadata": {},
   "outputs": [
    {
     "data": {
      "text/plain": [
       "BenchmarkTools.Trial: \n",
       "  memory estimate:  5.11 KiB\n",
       "  allocs estimate:  19\n",
       "  --------------\n",
       "  minimum time:     21.786 μs (0.00% GC)\n",
       "  median time:      22.319 μs (0.00% GC)\n",
       "  mean time:        23.726 μs (1.55% GC)\n",
       "  maximum time:     1.961 ms (95.40% GC)\n",
       "  --------------\n",
       "  samples:          10000\n",
       "  evals/sample:     1"
      ]
     },
     "execution_count": 9,
     "metadata": {},
     "output_type": "execute_result"
    }
   ],
   "source": [
    " # benchmark\n",
    " @benchmark logpdf_mvn(y, Z, σ0, σ1)"
   ]
  },
  {
   "cell_type": "code",
   "execution_count": 10,
   "metadata": {},
   "outputs": [
    {
     "data": {
      "text/plain": [
       "BenchmarkTools.Trial: \n",
       "  memory estimate:  15.78 KiB\n",
       "  allocs estimate:  3\n",
       "  --------------\n",
       "  minimum time:     4.146 ms (0.00% GC)\n",
       "  median time:      4.871 ms (0.00% GC)\n",
       "  mean time:        4.908 ms (0.00% GC)\n",
       "  maximum time:     7.274 ms (0.00% GC)\n",
       "  --------------\n",
       "  samples:          1015\n",
       "  evals/sample:     1"
      ]
     },
     "execution_count": 10,
     "metadata": {},
     "output_type": "execute_result"
    }
   ],
   "source": [
    " @benchmark logpdf(mvn, y)"
   ]
  },
  {
   "cell_type": "markdown",
   "metadata": {},
   "source": [
    "The logpdf_mvn is more efficient that logpdf, efficiency checked."
   ]
  }
 ],
 "metadata": {
  "kernelspec": {
   "display_name": "Julia 0.6.2",
   "language": "julia",
   "name": "julia-0.6"
  },
  "language_info": {
   "file_extension": ".jl",
   "mimetype": "application/julia",
   "name": "julia",
   "version": "0.6.2"
  },
  "toc": {
   "colors": {
    "hover_highlight": "#DAA520",
    "running_highlight": "#FF0000",
    "selected_highlight": "#FFD700"
   },
   "moveMenuLeft": true,
   "nav_menu": {
    "height": "87px",
    "width": "252px"
   },
   "navigate_menu": true,
   "number_sections": true,
   "sideBar": true,
   "threshold": 4,
   "toc_cell": false,
   "toc_section_display": "block",
   "toc_window_display": false,
   "widenNotebook": false
  }
 },
 "nbformat": 4,
 "nbformat_minor": 2
}
