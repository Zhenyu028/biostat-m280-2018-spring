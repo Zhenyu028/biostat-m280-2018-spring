{
 "cells": [
  {
   "cell_type": "markdown",
   "metadata": {},
   "source": [
    "# Biostat M280 Homework 4\n",
    "\n",
    "**Due June 12 @ 11:59PM**"
   ]
  },
  {
   "cell_type": "markdown",
   "metadata": {},
   "source": [
    "In this homework, we build a classifer for handwritten digit recognition. Following figure shows example bitmaps of handwritten digits from U.S. postal envelopes. \n",
    "\n",
    "<img src=\"./handwritten_digits.png\" width=\"400\" align=\"center\"/>\n",
    "\n",
    "Each digit is represented by a $32 \\times 32$ bitmap in which each element indicates one pixel with a value of white or black. Each $32 \\times 32$ bitmap is divided into blocks of $4 \\times 4$, and the number of white pixels are counted in each block. Therefore each handwritten digit is summarized by a vector $\\mathbf{x} = (x_1, \\ldots, x_{64})$ of length 64 where each element is a count between 0 and 16. \n",
    "\n",
    "We will use a model-based method by assuming a distribution on the count vector and carry out classification using probabilities. A common distribution for count vectors is the multinomial distribution. However as you will see in Q10, it is not a good model for handwritten digits. Let's work on a more flexible model for count vectors. In the Dirichlet-multinomial model, we assume the multinomial probabilities $\\mathbf{p} = (p_1,\\ldots, p_d)$ follow a Dirichlet distribution with parameter vector $\\alpha = (\\alpha_1,\\ldots, \\alpha_d)$, $\\alpha_j>0$, and density\n",
    "$$\n",
    "\\begin{eqnarray*}\n",
    "\t\\pi(\\mathbf{p}) =  \\frac{\\Gamma(|\\alpha|)}{\\prod_{j=1}^d \\Gamma(\\alpha_j)} \\prod_{j=1}^d p_j^{\\alpha_j-1},\n",
    "\\end{eqnarray*} \n",
    "$$\n",
    "where $|\\alpha|=\\sum_{j=1}^d \\alpha_j$."
   ]
  },
  {
   "cell_type": "markdown",
   "metadata": {},
   "source": [
    "## Q1\n",
    "\n",
    "For a multivariate count vector $\\mathbf{x}=(x_1,\\ldots,x_d)$ with batch size $|\\mathbf{x}|=\\sum_{j=1}^d x_j$, show that the probability mass function for Dirichlet-multinomial distribution is\n",
    "$$\n",
    "    f(\\mathbf{x} \\mid \\alpha) \n",
    "\t= \\int_{\\Delta_d} \\binom{|\\mathbf{x}|}{\\mathbf{x}} \\prod_{j=1}^d p_j^{x_j} \\pi(\\mathbf{p}) \\, d \\mathbf{p}  \n",
    "    = \\binom{|\\mathbf{x}|}{\\mathbf{x}} \\frac{\\prod_{j=1}^d \\Gamma(\\alpha_j+x_j)}{\\prod_{j=1}^d \\Gamma(\\alpha_j)} \\frac{\\Gamma(|\\alpha|)}{\\Gamma(|\\alpha|+|\\mathbf{x}|)}\n",
    "$$\n",
    "where $\\Delta_d$ is the unit simplex in $d$ dimensions and $|\\alpha| = \\sum_{j=1}^d \\alpha_j$.\n"
   ]
  },
  {
   "cell_type": "markdown",
   "metadata": {},
   "source": [
    "**Question1. To get the distribution of x given $\\alpha$, we can include the parameter p first then integrate it out**\n",
    "$$\n",
    "\\begin{align}\n",
    "  f(\\mathbf{x} \\mid \\alpha)  &= Pr(\\mathbf{x},\\mathbf{p} \\mid \\alpha) d \\mathbf{p} \\\\\n",
    " & = Pr(\\mathbf{p} \\mid \\alpha) Pr(\\mathbf{x} \\mid \\mathbf{p},\\alpha)d \\mathbf{p} \n",
    "\\end{align}\n",
    "$$\n",
    "where $Pr(\\mathbf{p} \\mid \\alpha) = \\pi(\\mathbf{p})$ and $Pr(\\mathbf{x} \\mid \\mathbf{p},\\alpha) = \\binom{|\\mathbf{x}|}{\\mathbf{x}} \\prod_{j=1}^d p_j^{x_j} $\n",
    "\n",
    "So\n",
    "\n",
    "$$\n",
    "\\begin{align}\n",
    "f(\\mathbf{x} \\mid \\alpha) \n",
    "\t& = \\int_{\\Delta_d} \\binom{|\\mathbf{x}|}{\\mathbf{x}} \\prod_{j=1}^d p_j^{x_j} \\pi(\\mathbf{p}) \\, d \\mathbf{p}\\\\\n",
    "    & = \\int_{\\Delta_d} \\binom{|\\mathbf{x}|}{\\mathbf{x}} \\prod_{j=1}^d p_j^{x_j}  \\frac{\\Gamma(|\\alpha|)}{\\prod_{j=1}^d \\Gamma(\\alpha_j)} \\prod_{j=1}^d p_j^{\\alpha_j-1} d \\mathbf{p}\\\\\n",
    "    & = \\binom{|\\mathbf{x}|}{\\mathbf{x}} \\frac{\\Gamma(|\\alpha|)}{\\prod_{j=1}^d \\Gamma(\\alpha_j)} \\int_{\\Delta_d} \\prod_{j=1}^d p_j^{x_j} \\prod_{j=1}^d p_j^{\\alpha_j-1} d \\mathbf{p}\\\\\n",
    "    & = \\binom{|\\mathbf{x}|}{\\mathbf{x}} \\frac{\\Gamma(|\\alpha|)}{\\prod_{j=1}^d \\Gamma(\\alpha_j)} \\int_{\\Delta_d} \\prod_{j=1}^d p_j^{x_j+ \\alpha_j-1} d \\mathbf{p}\\\\\n",
    "\\end{align}\n",
    "$$\n",
    "\n",
    "The last integral contains the kernel of a Dirichlet distribution, thus can be integrated out and only constant term left,\n",
    "\n",
    "$$\n",
    "f(\\mathbf{x} \\mid \\alpha) = \\binom{|\\mathbf{x}|}{\\mathbf{x}} \\frac{\\prod_{j=1}^d \\Gamma(\\alpha_j+x_j)}{\\prod_{j=1}^d \\Gamma(\\alpha_j)} \\frac{\\Gamma(|\\alpha|)}{\\Gamma(|\\alpha|+|\\mathbf{x}|)}\n",
    "$$"
   ]
  },
  {
   "cell_type": "markdown",
   "metadata": {},
   "source": [
    "## Q2\n",
    "\n",
    "Given independent data points $\\mathbf{x}_1, \\ldots, \\mathbf{x}_n$, show that the log-likelihood is\n",
    "$$\n",
    "L(\\alpha) = \\sum_{i=1}^n \\ln \\binom{|\\mathbf{x}_i|}{\\mathbf{x}_i} + \\sum_{i=1}^n \\sum_{j=1}^d [\\ln \\Gamma(\\alpha_j + x_{ij}) - \\ln \\Gamma(\\alpha_j)] - \\sum_{i=1}^n [\\ln \\Gamma(|\\alpha|+|\\mathbf{x}_i|) - \\ln \\Gamma(|\\alpha|)].\n",
    "$$\n",
    "Is the log-likelihood a concave function?"
   ]
  },
  {
   "cell_type": "markdown",
   "metadata": {},
   "source": [
    "**question 2.** For one data point $\\mathbf{x}$, from $L(\\alpha)  = log(f(\\mathbf{x} \\mid \\alpha))$ it is trivial that the log-likelihood is\n",
    "$$\n",
    "L(\\alpha) =  \\ln \\binom{|\\mathbf{x}|}{\\mathbf{x}} +  \\sum_{j=1}^d [\\ln \\Gamma(\\alpha_j + x_{j}) - \\ln \\Gamma(\\alpha_j)] -  [\\ln \\Gamma(|\\alpha|+|\\mathbf{x}|) - \\ln \\Gamma(|\\alpha|)].\n",
    "$$\n",
    "Then for $n$ independent data points, their joint log-likelihood is sum of $n$ identical log-denisities,\n",
    "$$\n",
    "L(\\alpha) = \\sum_{i=1}^n \\ln \\binom{|\\mathbf{x}_i|}{\\mathbf{x}_i} + \\sum_{i=1}^n \\sum_{j=1}^d [\\ln \\Gamma(\\alpha_j + x_{ij}) - \\ln \\Gamma(\\alpha_j)] - \\sum_{i=1}^n [\\ln \\Gamma(|\\alpha|+|\\mathbf{x}_i|) - \\ln \\Gamma(|\\alpha|)].\n",
    "$$\n",
    "Is it a concave function? Remained to be shown."
   ]
  },
  {
   "cell_type": "markdown",
   "metadata": {},
   "source": [
    "## Q3\n",
    "\n",
    "Write Julia function to compute the log-density of the Dirichlet-multinomial distribution."
   ]
  },
  {
   "cell_type": "code",
   "execution_count": 5,
   "metadata": {},
   "outputs": [
    {
     "data": {
      "text/plain": [
       "dirmult_logpdf"
      ]
     },
     "execution_count": 5,
     "metadata": {},
     "output_type": "execute_result"
    }
   ],
   "source": [
    "\"\"\"\n",
    "    dirmult_logpdf(x::Vector, α::Vector)\n",
    "    \n",
    "Compute the log-pdf of Dirichlet-multinomial distribution with parameter `α` \n",
    "at data point `x`.\n",
    "\"\"\"\n",
    "function dirmult_logpdf(x::Vector, α::Vector)\n",
    "    \n",
    "    logpdf = 0.0\n",
    "    \n",
    "    t = 0.0\n",
    "    for i in 1:length(x)\n",
    "        t += lgamma(α[i] + x[i]) - lgamma(α[i]) - lfact(x[i])\n",
    "    end\n",
    "    \n",
    "    sumx = sum(x)\n",
    "    sumα = sum(α)\n",
    "    \n",
    "    logpdf = t + lfact(sumx) + lgamma(sumα) - lgamma(sumx + sumα)\n",
    "    \n",
    "    return logpdf\n",
    "end\n",
    "\n",
    "function dirmult_logpdf!(r::Vector, X::Matrix, α::Vector)\n",
    "    for j in 1:size(X, 2)\n",
    "        r[j] = dirmult_logpdf(X[:, j], α)\n",
    "    end\n",
    "    return r\n",
    "end\n",
    "\n",
    "\"\"\"\n",
    "    dirmult_logpdf(X, α)\n",
    "    \n",
    "Compute the log-pdf of Dirichlet-multinomial distribution with parameter `α` \n",
    "at each data point in `X`. Each column of `X` is one data point.\n",
    "\"\"\"\n",
    "function dirmult_logpdf(X::Matrix, α::Vector)\n",
    "    r = zeros(size(X, 2))\n",
    "    dirmult_logpdf!(r, X, α)\n",
    "end"
   ]
  },
  {
   "cell_type": "markdown",
   "metadata": {},
   "source": [
    "## Q4\n",
    "\n",
    "Read in `optdigits.tra`, the training set of 3823 handwritten digits. Each row contains the 64 counts of a digit and the last element (65th element) indicates what digit it is. For grading purpose, evaluate the total log-likelihood of this data at parameter values $\\alpha=(1,\\ldots,1)$ using your function in Q3."
   ]
  },
  {
   "cell_type": "code",
   "execution_count": 6,
   "metadata": {},
   "outputs": [
    {
     "name": "stdout",
     "output_type": "stream",
     "text": [
      "  0.035633 seconds (17.01 k allocations: 2.721 MiB)\n"
     ]
    },
    {
     "data": {
      "text/plain": [
       "-638817.993292528"
      ]
     },
     "execution_count": 6,
     "metadata": {},
     "output_type": "execute_result"
    }
   ],
   "source": [
    "traindata = readcsv(\"optdigits.tra\", Int)\n",
    "digits = traindata[:, end]\n",
    "counts = traindata[:, 1:64]'\n",
    "α = ones(size(counts,1))\n",
    "\n",
    "@time sum(dirmult_logpdf(counts, α))"
   ]
  },
  {
   "cell_type": "markdown",
   "metadata": {},
   "source": [
    "## Q5\n",
    "\n",
    "Derive the score function $\\nabla L(\\alpha)$, observed information matrix $-d^2L(\\alpha)$, and Fisher information matrix $\\mathbf{E}[-d^2L(\\alpha)]$ for the Dirichlet-multinomial distribution.\n",
    "\n",
    "Comment on why Fisher scoring method is inefficient for computing MLE in this example."
   ]
  },
  {
   "cell_type": "markdown",
   "metadata": {},
   "source": [
    "**question 5 - $\\nabla L(\\alpha)$** \n",
    "\n",
    "Given \n",
    "\n",
    "$$\n",
    "L(\\alpha) =  \\ln \\binom{|\\mathbf{x}|}{\\mathbf{x}} +  \\sum_{j=1}^d [\\ln \\Gamma(\\alpha_j + x_{j}) - \\ln \\Gamma(\\alpha_j)] -  [\\ln \\Gamma(|\\alpha|+|\\mathbf{x}|) - \\ln \\Gamma(|\\alpha|)].\n",
    "$$\n",
    "\n",
    "The score function $\\nabla L(\\alpha)$ is a vector with entry\n",
    "\n",
    "$$\n",
    "\\nabla L(\\alpha) = \\frac{\\partial}{\\partial \\alpha_j}L(\\alpha)= \\sum_{i=1}^n  [ \\psi (\\alpha_j + x_{ij}) - \\psi (\\alpha_j)] - \\sum_{i=1}^n [\\psi(|\\alpha|+|\\mathbf{x}_i|) - \\psi(|\\alpha|)].\n",
    "$$\n",
    "\n",
    "$\\psi(x)=\\frac{d}{dx}\\ln\\big(\\Gamma(x)\\big)=\\frac{\\Gamma'(x)}{\\Gamma(x)}$ is the digamma function.\n"
   ]
  },
  {
   "cell_type": "markdown",
   "metadata": {},
   "source": [
    "**question 5- observed information matrix $ -d^2L(\\alpha)$** \n",
    "\n",
    "Observed information matrix $-d^2L(\\alpha)$ is negative Hessian matrix, \n",
    "\n",
    "$$\n",
    "H = \\begin{bmatrix}\n",
    "  \\dfrac{\\partial^2 f}{\\partial x_1^2} & \\dfrac{\\partial^2 f}{\\partial x_1\\,\\partial x_2} & \\cdots & \\dfrac{\\partial^2 f}{\\partial x_1\\,\\partial x_n} \\\\[2.2ex]\n",
    "  \\dfrac{\\partial^2 f}{\\partial x_2\\,\\partial x_1} & \\dfrac{\\partial^2 f}{\\partial x_2^2} & \\cdots & \\dfrac{\\partial^2 f}{\\partial x_2\\,\\partial x_n} \\\\[2.2ex]\n",
    "  \\vdots & \\vdots & \\ddots & \\vdots \\\\[2.2ex]\n",
    "  \\dfrac{\\partial^2 f}{\\partial x_n\\,\\partial x_1} & \\dfrac{\\partial^2 f}{\\partial x_n\\,\\partial x_2} & \\cdots & \\dfrac{\\partial^2 f}{\\partial x_n^2}\n",
    "\\end{bmatrix}\n",
    "$$\n",
    "\n",
    "To take the second derivative of log-gamma function we need to deal with polygamma function: https://en.wikipedia.org/wiki/Polygamma_function\n",
    "\n",
    "$$\n",
    "\\psi^{(m)}(x) := \\frac{d^m}{dx^m} \\psi(x) = \\frac{d^{m+1}}{dx^{m+1}} \n",
    "$$\n",
    "\n",
    "With the gradient calculated already, the diagonal entries of Hessian matrix contain polygamma function from both summations, and the off-diagonal entries contain polygamma function from only the second summation. $\\psi^{(1)}$ is so-called trigamma function.\n",
    "\n",
    "$$H_{jj} = \\dfrac{\\partial^2 L(\\alpha)}{\\partial \\alpha_j^2} =\\sum_{i=1}^n  [ \\psi^{(1)} (\\alpha_j + x_{ij}) - \\psi^{(1)} (\\alpha_j)] - \\sum_{i=1}^n [\\psi^{(1)}(|\\alpha|+|\\mathbf{x}_i|) - \\psi^{(1)}(|\\alpha|)] $$\n",
    "$$ H_{ji} = \\dfrac{\\partial^2 L(\\alpha)}{\\partial \\alpha_j \\partial \\alpha_i} = - \\sum_{i=1}^n [\\psi^{(1)}(|\\alpha|+|\\mathbf{x}_i|) - \\psi^{(1)}(|\\alpha|)] ,j \\neq i, \\text{the off-diagonals are constant}$$\n",
    "\n",
    "So the Hessian matrix is in a format that we can rewrite it by a diagnoal matrix subtracting a rank-one matrix with all entries equal to $\\sum_{i=1}^n [\\psi^{(1)}(|\\alpha|+|\\mathbf{x}_i|) - \\psi^{(1)}(|\\alpha|)]$.\n",
    "\n",
    "Polygamma function has a property that enables us to simplify the summation $\\sum_{i=1}^n  [ \\psi^{(1)} (\\alpha_j + x_{ij}) - \\psi^{(1)} (\\alpha_j)] $ and $\\sum_{i=1}^n [\\psi^{(1)}(|\\alpha|+|\\mathbf{x}_i|) - \\psi^{(1)}(|\\alpha|)]$: its recurrence relation as below\n",
    "\n",
    "$$\n",
    "\\psi^{(m)}(x+1)= \\psi^{(m)}(x) + \\frac{(-1)^m\\,m!}{x^{m+1}}\n",
    "$$\n",
    "\n",
    "Then we have\n",
    "\n",
    "$$\n",
    "\\psi^{(1)} (\\alpha_j + x_{ij}) - \\psi^{(1)} (\\alpha_j) =  \\sum_{k = 1}^{k = x_{ij} - 1} - \\frac{1}{ (\\alpha_j + k)^2}\n",
    "$$\n",
    "\n",
    "$$\n",
    "\\psi^{(1)}(|\\alpha|+|\\mathbf{x}_i|) - \\psi^{(1)}(|\\alpha|) = \\sum_{k = 1}^{k = |\\mathbf{x}_i| - 1} - \\frac{1}{ (\\alpha_j + k)^2}\n",
    "$$\n",
    "\n",
    "In the end,\n",
    "$$\n",
    "-d^2L(\\alpha) = - H = \\mathbf{D} - c \\mathbf{1}\\mathbf{1}^T\n",
    "$$\n",
    "where $\\mathbf{1}$ is all-one vector. Diagonal matrix $\\mathbf{D}$ has entries $\\mathbf{D}_{j} = \\sum_{i=1}^n \\sum_{k = 1}^{k = x_{ij} - 1}  \\frac{1}{ (\\alpha_j + k)^2}$, and $c =  \\sum_{i=1}^n \\sum_{k = 1}^{k = |\\mathbf{x}_i| - 1}  \\frac{1}{ (|\\alpha| + k)^2}$"
   ]
  },
  {
   "cell_type": "markdown",
   "metadata": {},
   "source": [
    "**3** Fisher information matrix $FI = \\mathbf{E}[-d^2L(\\alpha)]$\n",
    "$$\n",
    "FI = \\mathbf{E}[\\mathbf{D}] - c \\mathbf{1}\\mathbf{1}^T\n",
    "$$\n",
    "\n",
    "$\\mathbf{E}[\\mathbf{D}]$ is not easy to evaluate. So we turn to Newton's method."
   ]
  },
  {
   "cell_type": "markdown",
   "metadata": {},
   "source": [
    "## Q6\n",
    "\n",
    "What structure does the observed information matrix possess that can facilitate the evaluation of the Newton direction? Is the observed information matrix always positive definite? What remedy can we take if it fails to be positive definite? (Hint: HW1 Q6.)"
   ]
  },
  {
   "cell_type": "markdown",
   "metadata": {},
   "source": [
    "**question 6** The \"Diagonal matrix - rank 1 matrix\" structure of observed information matrix makes it easier to get its inverse matrix in the Newton's method. "
   ]
  },
  {
   "cell_type": "markdown",
   "metadata": {},
   "source": [
    "A matrix is P.D. if and only if all of its upper left determinants are positive. By **matrix determinant lemma**,\n",
    "\n",
    "$$\n",
    "det(-d^2L(\\alpha)) = det(\\mathbf{D})det(1 - c \\sum_j \\mathbf{D}_j^{-1}) = (\\Pi_j \\mathbf{D}_j )(1 - c \\sum_j \\mathbf{D}_j^{-1})\n",
    "$$\n",
    "Since $\\mathbf{D}_j > 0$ for $j = 1 \\dots d$, the matrix is positive definite if and only if $c < [\\sum_j \\mathbf{D}_j^{-1}]^{-1}$. It is not easy see whether this inequality always holds. To be save, if it is not true, we can shrink make $c = 0.99 \\times [\\sum_j \\mathbf{D}_j^{-1}]^{-1}$. In the Newton's method implemented in later question, if the inequality ever fails to hold, a notice will be printed.\n",
    "\n"
   ]
  },
  {
   "cell_type": "markdown",
   "metadata": {},
   "source": [
    "## Q7\n",
    "\n",
    "Discuss how to choose a good starting point. Implement this as the default starting value in your function below. (Hint: Method of moment estimator may furnish a good starting point.)"
   ]
  },
  {
   "cell_type": "markdown",
   "metadata": {},
   "source": [
    "**question 7** The method of moment estimator involves equating sample moments with theoretical moments and solve the equation for parameter.\n",
    "\n",
    "$\\mathbf{E}[P_j] = \\frac{\\alpha_j}{|\\alpha|}$, sample 1th moment $= \\frac{1}{n}\\sum_{i = 1}^n \\frac{x_{ij}}{|\\mathbf{x}_i|}$, $\\mathbf{E}[P_j^2] = \\frac{\\alpha_j(\\alpha_j + 1)}{|\\alpha|(|\\alpha| + 1)}$, sample 2nd moment $ = \\frac{1}{n}\\sum_{i = 1}^n (\\frac{x_{ij}}{|\\mathbf{x}_i|})^2$\n",
    "\n",
    "$$\n",
    "\\frac{\\mathbf{E}[P_j^2]}{\\mathbf{E}[P_j]} = \\frac{\\alpha_j + 1}{|\\mathbf{\\alpha} + 1|} = \\frac{\\sum_{i = 1}^n (\\frac{x_{ij}}{|\\mathbf{x}_i|})^2}{\\sum_{i = 1}^n \\frac{x_{ij}}{|\\mathbf{x}_i|}}\n",
    "$$\n",
    "\n",
    "Thus \n",
    "$$\n",
    "\\sum_{j = 1}^d \\frac{\\mathbf{E}[P_j^2]}{\\mathbf{E}[P_j]} = \\sum_{j = 1}^d \\frac{\\mathbf{E}[P_j^2]}{\\mathbf{E}[P_j]} = \\frac{|\\mathbf{\\alpha}| + d}{|\\mathbf{\\alpha}| + 1} = \\sum_{j = 1}^d \\frac{\\sum_{i = 1}^n (\\frac{x_{ij}}{|\\mathbf{x}_i|})^2}{\\sum_{i = 1}^n \\frac{x_{ij}}{|\\mathbf{x}_i|}}\n",
    "$$\n",
    "Now we can solve for $|\\mathbf{\\alpha}|,  |\\mathbf{\\alpha}| = \\frac{d - k}{k - 1} = |\\mathbf{\\alpha}| ^{(0)}$, where $k = \\sum_{j = 1}^d \\frac{\\sum_{i = 1}^n (\\frac{x_{ij}}{|\\mathbf{x}_i|})^2}{\\sum_{i = 1}^n \\frac{x_{ij}}{|\\mathbf{x}_i|}}$\n",
    "\n",
    "From $\\alpha_j = \\mathbf{E}[P_j] \\times |\\alpha|$ we can take $\\frac{\\sum_{i = 1}^n x_{ij}}{\\sum_{i=1}^n |\\mathbf{x}_i|}$ as a weight for $\\alpha_j$, so to initialize \n",
    "$$\n",
    " \\alpha_j^{(0)} =  |\\alpha|^{(0)}\\frac{\\sum_{i = 1}^n x_{ij}}{\\sum_{i=1}^n |\\mathbf{x}_i|}\n",
    "$$\n"
   ]
  },
  {
   "cell_type": "markdown",
   "metadata": {},
   "source": [
    "By **Sherman-Morrison formula** \n",
    "$$\n",
    "\\begin{align}\n",
    "[-d^2L(\\alpha)]^{-1} & =  [\\mathbf{D} - c \\mathbf{1}\\mathbf{1}^T]^{-1} \\\\\n",
    "& = \\mathbf{D}^{-1} + \\frac{1}{c^{-1} - \\sum_j \\mathbf{D}_j^{-1}} \\mathbf{D}^{-1} \\mathbf{1}\\mathbf{1}^T \\mathbf{D}^{-1} \n",
    "\\end{align}\n",
    "$$\n",
    "\n"
   ]
  },
  {
   "cell_type": "markdown",
   "metadata": {},
   "source": [
    "## Q8\n",
    "\n",
    "Write a function for finding MLE of Dirichlet-multinomial distribution given iid observations $\\mathbf{x}_1,\\ldots,\\mathbf{x}_n$, using the Newton's method. "
   ]
  },
  {
   "cell_type": "markdown",
   "metadata": {},
   "source": [
    "**question 8** We can first write functions to **1.** evaluate score function and observed information matrix for Dirichlet-multinomial distribution. **2.** get the starting point"
   ]
  },
  {
   "cell_type": "code",
   "execution_count": 7,
   "metadata": {},
   "outputs": [
    {
     "data": {
      "text/plain": [
       "dirmult_logpdf"
      ]
     },
     "execution_count": 7,
     "metadata": {},
     "output_type": "execute_result"
    }
   ],
   "source": [
    "function dirmult_score(x::Vector, α::Vector)\n",
    "    \n",
    "    logpdf = 0.0\n",
    "    \n",
    "    t = 0.0\n",
    "    for i in 1:length(x)\n",
    "        t += lgamma(α[i] + x[i]) - lgamma(α[i]) - lfact(x[i])\n",
    "    end\n",
    "    \n",
    "    sumx = sum(x)\n",
    "    sumα = sum(α)\n",
    "    \n",
    "    logpdf = t + lfact(sumx) + lgamma(sumα) - lgamma(sumx + sumα)\n",
    "    \n",
    "    return logpdf\n",
    "end\n",
    "\n",
    "function dirmult_logpdf!(r::Vector, X::Matrix, α::Vector)\n",
    "    for j in 1:size(X, 2)\n",
    "        r[j] = dirmult_logpdf(X[:, j], α)\n",
    "    end\n",
    "    return r\n",
    "end\n",
    "\n",
    "\"\"\"\n",
    "    dirmult_logpdf(X, α)\n",
    "    \n",
    "Compute the log-pdf of Dirichlet-multinomial distribution with parameter `α` \n",
    "at each data point in `X`. Each column of `X` is one data point.\n",
    "\"\"\"\n",
    "function dirmult_logpdf(X::Matrix, α::Vector)\n",
    "    r = zeros(size(X, 2))\n",
    "    dirmult_logpdf!(r, X, α)\n",
    "end"
   ]
  },
  {
   "cell_type": "code",
   "execution_count": 2,
   "metadata": {},
   "outputs": [
    {
     "data": {
      "text/plain": [
       "dirmult_newton"
      ]
     },
     "execution_count": 2,
     "metadata": {},
     "output_type": "execute_result"
    }
   ],
   "source": [
    "\"\"\"\n",
    "    dirmult_newton(X)\n",
    "\n",
    "Find the MLE of Dirichlet-multinomial distribution using Newton's method.\n",
    "\n",
    "# Argument\n",
    "* `X`: an `n`-by-`d` matrix of counts; each column is one data point.\n",
    "\n",
    "# Optional argument  \n",
    "* `alpha0`: a `d` vector of starting point (optional). \n",
    "* `maxiters`: the maximum allowable Newton iterations (default 100). \n",
    "* `tolfun`: the tolerance for  relative change in objective values (default 1e-6). \n",
    "\n",
    "# Output\n",
    "* `maximum`: the log-likelihood at MLE.   \n",
    "* `estimate`: the MLE. \n",
    "* `gradient`: the gradient at MLE. \n",
    "* `hessian`: the Hessian at MLE. \n",
    "* `se`: a `d` vector of standard errors. \n",
    "* `iterations`: the number of iterations performed.\n",
    "\"\"\"\n",
    "function dirmult_newton(X::Matrix; α0::Vector = nothing, \n",
    "            maxiters::Int = 100, tolfun::Float64 = 1e-6)\n",
    "    \n",
    "    # set default starting point from Q7\n",
    "    \n",
    "    # Newton loop\n",
    "    for iter in 1:maxiters\n",
    "        # evaluate gradient (score)\n",
    "        \n",
    "        # compute Newton's direction\n",
    "        \n",
    "        # line search loop\n",
    "        for lsiter in 1:10\n",
    "            # step halving\n",
    "        end\n",
    "        \n",
    "        # check convergence criterion\n",
    "        if abs(logl - loglold) < tolfun * (abs(loglold) + 1)\n",
    "            break;\n",
    "        end\n",
    "    end\n",
    "    \n",
    "    # compute logl, gradient, Hessian from final iterate\n",
    "    \n",
    "    # output\n",
    "    \n",
    "end"
   ]
  },
  {
   "cell_type": "markdown",
   "metadata": {},
   "source": [
    "## Q9\n",
    "\n",
    "Read in `optdigits.tra`, the training set of 3823 handwritten digits. Find the MLE for the subset of digit 0, digit 1, ..., and digit 9 separately using your function. "
   ]
  },
  {
   "cell_type": "markdown",
   "metadata": {},
   "source": [
    "## Q10\n",
    "\n",
    "As $\\alpha / |\\alpha| \\to \\mathbf{p}$, the Dirichlet-multinomial distribution converges to a multinomial with parameter $\\mathbf{p}$. Therefore multinomial can be considered as a special Dirichlet-multinomial with $|\\alpha|=\\infty$. Perform a likelihood ratio test (LRT) whether Dirichlet-multinomial offers a better fit than multinomial for digits 0, 1, ..., 9 respectively."
   ]
  },
  {
   "cell_type": "markdown",
   "metadata": {},
   "source": [
    "## Q11\n",
    "\n",
    "Now we can construct a simple Bayesian rule for handwritten digits recognition:\n",
    "$$\n",
    "\t\\mathbf{x}\t\\mapsto \\arg \\max_k \\widehat \\pi_k f(x|\\widehat \\alpha_k).\n",
    "$$\n",
    "Here we can use the proportion of digit $k$ in the training set as the prior probability $\\widehat \\pi_k$. Report the performance of your classifier on the test set of 1797 digits in `optdigits.tes`."
   ]
  }
 ],
 "metadata": {
  "kernelspec": {
   "display_name": "Julia 0.6.2",
   "language": "julia",
   "name": "julia-0.6"
  },
  "language_info": {
   "file_extension": ".jl",
   "mimetype": "application/julia",
   "name": "julia",
   "version": "0.6.2"
  },
  "toc": {
   "colors": {
    "hover_highlight": "#DAA520",
    "running_highlight": "#FF0000",
    "selected_highlight": "#FFD700"
   },
   "moveMenuLeft": true,
   "nav_menu": {
    "height": "65px",
    "width": "252px"
   },
   "navigate_menu": true,
   "number_sections": false,
   "sideBar": true,
   "threshold": 4,
   "toc_cell": false,
   "toc_section_display": "block",
   "toc_window_display": false,
   "widenNotebook": false
  }
 },
 "nbformat": 4,
 "nbformat_minor": 2
}
