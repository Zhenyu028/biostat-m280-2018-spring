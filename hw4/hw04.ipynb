{
 "cells": [
  {
   "cell_type": "markdown",
   "metadata": {},
   "source": [
    "# Biostat M280 Homework 4\n",
    "\n",
    "**Due June 12 @ 11:59PM**"
   ]
  },
  {
   "cell_type": "markdown",
   "metadata": {},
   "source": [
    "In this homework, we build a classifer for handwritten digit recognition. Following figure shows example bitmaps of handwritten digits from U.S. postal envelopes. \n",
    "\n",
    "<img src=\"./handwritten_digits.png\" width=\"400\" align=\"center\"/>\n",
    "\n",
    "Each digit is represented by a $32 \\times 32$ bitmap in which each element indicates one pixel with a value of white or black. Each $32 \\times 32$ bitmap is divided into blocks of $4 \\times 4$, and the number of white pixels are counted in each block. Therefore each handwritten digit is summarized by a vector $\\mathbf{x} = (x_1, \\ldots, x_{64})$ of length 64 where each element is a count between 0 and 16. \n",
    "\n",
    "We will use a model-based method by assuming a distribution on the count vector and carry out classification using probabilities. A common distribution for count vectors is the multinomial distribution. However as you will see in Q10, it is not a good model for handwritten digits. Let's work on a more flexible model for count vectors. In the Dirichlet-multinomial model, we assume the multinomial probabilities $\\mathbf{p} = (p_1,\\ldots, p_d)$ follow a Dirichlet distribution with parameter vector $\\alpha = (\\alpha_1,\\ldots, \\alpha_d)$, $\\alpha_j>0$, and density\n",
    "$$\n",
    "\\begin{eqnarray*}\n",
    "\t\\pi(\\mathbf{p}) =  \\frac{\\Gamma(|\\alpha|)}{\\prod_{j=1}^d \\Gamma(\\alpha_j)} \\prod_{j=1}^d p_j^{\\alpha_j-1},\n",
    "\\end{eqnarray*} \n",
    "$$\n",
    "where $|\\alpha|=\\sum_{j=1}^d \\alpha_j$."
   ]
  },
  {
   "cell_type": "markdown",
   "metadata": {},
   "source": [
    "## Q1\n",
    "\n",
    "For a multivariate count vector $\\mathbf{x}=(x_1,\\ldots,x_d)$ with batch size $|\\mathbf{x}|=\\sum_{j=1}^d x_j$, show that the probability mass function for Dirichlet-multinomial distribution is\n",
    "$$\n",
    "    f(\\mathbf{x} \\mid \\alpha) \n",
    "\t= \\int_{\\Delta_d} \\binom{|\\mathbf{x}|}{\\mathbf{x}} \\prod_{j=1}^d p_j^{x_j} \\pi(\\mathbf{p}) \\, d \\mathbf{p}  \n",
    "    = \\binom{|\\mathbf{x}|}{\\mathbf{x}} \\frac{\\prod_{j=1}^d \\Gamma(\\alpha_j+x_j)}{\\prod_{j=1}^d \\Gamma(\\alpha_j)} \\frac{\\Gamma(|\\alpha|)}{\\Gamma(|\\alpha|+|\\mathbf{x}|)}\n",
    "$$\n",
    "where $\\Delta_d$ is the unit simplex in $d$ dimensions and $|\\alpha| = \\sum_{j=1}^d \\alpha_j$.\n"
   ]
  },
  {
   "cell_type": "markdown",
   "metadata": {},
   "source": [
    "**Question1. To get the distribution of x given $\\alpha$, we can include the parameter p first then integrate it out**\n",
    "$$\n",
    "\\begin{align}\n",
    "  f(\\mathbf{x} \\mid \\alpha)  &= Pr(\\mathbf{x},\\mathbf{p} \\mid \\alpha) d \\mathbf{p} \\\\\n",
    " & = Pr(\\mathbf{p} \\mid \\alpha) Pr(\\mathbf{x} \\mid \\mathbf{p},\\alpha)d \\mathbf{p} \n",
    "\\end{align}\n",
    "$$\n",
    "where $Pr(\\mathbf{p} \\mid \\alpha) = \\pi(\\mathbf{p})$ and $Pr(\\mathbf{x} \\mid \\mathbf{p},\\alpha) = \\binom{|\\mathbf{x}|}{\\mathbf{x}} \\prod_{j=1}^d p_j^{x_j} $\n",
    "\n",
    "So\n",
    "\n",
    "$$\n",
    "\\begin{align}\n",
    "f(\\mathbf{x} \\mid \\alpha) \n",
    "\t& = \\int_{\\Delta_d} \\binom{|\\mathbf{x}|}{\\mathbf{x}} \\prod_{j=1}^d p_j^{x_j} \\pi(\\mathbf{p}) \\, d \\mathbf{p}\\\\\n",
    "    & = \\int_{\\Delta_d} \\binom{|\\mathbf{x}|}{\\mathbf{x}} \\prod_{j=1}^d p_j^{x_j}  \\frac{\\Gamma(|\\alpha|)}{\\prod_{j=1}^d \\Gamma(\\alpha_j)} \\prod_{j=1}^d p_j^{\\alpha_j-1} d \\mathbf{p}\\\\\n",
    "    & = \\binom{|\\mathbf{x}|}{\\mathbf{x}} \\frac{\\Gamma(|\\alpha|)}{\\prod_{j=1}^d \\Gamma(\\alpha_j)} \\int_{\\Delta_d} \\prod_{j=1}^d p_j^{x_j} \\prod_{j=1}^d p_j^{\\alpha_j-1} d \\mathbf{p}\\\\\n",
    "    & = \\binom{|\\mathbf{x}|}{\\mathbf{x}} \\frac{\\Gamma(|\\alpha|)}{\\prod_{j=1}^d \\Gamma(\\alpha_j)} \\int_{\\Delta_d} \\prod_{j=1}^d p_j^{x_j+ \\alpha_j-1} d \\mathbf{p}\\\\\n",
    "\\end{align}\n",
    "$$\n",
    "\n",
    "The last integral contains the kernel of a Dirichlet distribution, thus can be integrated out and only constant term left,\n",
    "\n",
    "$$\n",
    "f(\\mathbf{x} \\mid \\alpha) = \\binom{|\\mathbf{x}|}{\\mathbf{x}} \\frac{\\prod_{j=1}^d \\Gamma(\\alpha_j+x_j)}{\\prod_{j=1}^d \\Gamma(\\alpha_j)} \\frac{\\Gamma(|\\alpha|)}{\\Gamma(|\\alpha|+|\\mathbf{x}|)}\n",
    "$$"
   ]
  },
  {
   "cell_type": "markdown",
   "metadata": {},
   "source": [
    "## Q2\n",
    "\n",
    "Given independent data points $\\mathbf{x}_1, \\ldots, \\mathbf{x}_n$, show that the log-likelihood is\n",
    "$$\n",
    "L(\\alpha) = \\sum_{i=1}^n \\ln \\binom{|\\mathbf{x}_i|}{\\mathbf{x}_i} + \\sum_{i=1}^n \\sum_{j=1}^d [\\ln \\Gamma(\\alpha_j + x_{ij}) - \\ln \\Gamma(\\alpha_j)] - \\sum_{i=1}^n [\\ln \\Gamma(|\\alpha|+|\\mathbf{x}_i|) - \\ln \\Gamma(|\\alpha|)].\n",
    "$$\n",
    "Is the log-likelihood a concave function?"
   ]
  },
  {
   "cell_type": "markdown",
   "metadata": {},
   "source": [
    "**question 2.** For one data point $\\mathbf{x}$, from $L(\\alpha)  = log(f(\\mathbf{x} \\mid \\alpha))$ it is trivial that the log-likelihood is\n",
    "$$\n",
    "L(\\alpha) =  \\ln \\binom{|\\mathbf{x}|}{\\mathbf{x}} +  \\sum_{j=1}^d [\\ln \\Gamma(\\alpha_j + x_{j}) - \\ln \\Gamma(\\alpha_j)] -  [\\ln \\Gamma(|\\alpha|+|\\mathbf{x}|) - \\ln \\Gamma(|\\alpha|)].\n",
    "$$\n",
    "Then for $n$ independent data points, their joint log-likelihood is sum of $n$ identical log-denisities,\n",
    "$$\n",
    "L(\\alpha) = \\sum_{i=1}^n \\ln \\binom{|\\mathbf{x}_i|}{\\mathbf{x}_i} + \\sum_{i=1}^n \\sum_{j=1}^d [\\ln \\Gamma(\\alpha_j + x_{ij}) - \\ln \\Gamma(\\alpha_j)] - \\sum_{i=1}^n [\\ln \\Gamma(|\\alpha|+|\\mathbf{x}_i|) - \\ln \\Gamma(|\\alpha|)].\n",
    "$$\n",
    "Is it a concave function? Remained to be shown."
   ]
  },
  {
   "cell_type": "markdown",
   "metadata": {},
   "source": [
    "## Q3\n",
    "\n",
    "Write Julia function to compute the log-density of the Dirichlet-multinomial distribution."
   ]
  },
  {
   "cell_type": "code",
   "execution_count": 129,
   "metadata": {},
   "outputs": [
    {
     "data": {
      "text/plain": [
       "dirmult_logpdf"
      ]
     },
     "execution_count": 129,
     "metadata": {},
     "output_type": "execute_result"
    }
   ],
   "source": [
    "\"\"\"\n",
    "    dirmult_logpdf(x::Vector, α::Vector)\n",
    "    \n",
    "Compute the log-pdf of Dirichlet-multinomial distribution with parameter `α` \n",
    "at data point `x`.\n",
    "\"\"\"\n",
    "function dirmult_logpdf(x::Vector, α::Vector)\n",
    "    \n",
    "    logpdf = 0.0\n",
    "    \n",
    "    t = 0.0\n",
    "    for i in 1:length(x)\n",
    "        #@show lgamma(α[i] + x[i])\n",
    "        if α[i] == 0 && x[i] > 0\n",
    "            print(\"here! i = \",i)\n",
    "            return - Inf\n",
    "        elseif α[i] > 0\n",
    "            t += lgamma(α[i] + x[i]) - lgamma(α[i]) - lfact(x[i])\n",
    "        end\n",
    "    end\n",
    "\n",
    "    sumx = sum(x)\n",
    "    sumα = sum(α)\n",
    "    \n",
    "    if sumα == 0 && sumx == 0\n",
    "        return 0.0\n",
    "    elseif sumα > 0 && sumx == 0 \n",
    "        print(\"here2\")\n",
    "        return - Inf\n",
    "    else \n",
    "        logpdf = t + lfact(sumx) + lgamma(sumα) - lgamma(sumx + sumα)\n",
    "    end\n",
    "    \n",
    "    return logpdf\n",
    "end\n",
    "\n",
    "function dirmult_logpdf!(r::Vector, X::Matrix, α::Vector)\n",
    "    for j in 1:size(X, 2)\n",
    "        r[j] = dirmult_logpdf(X[:, j], α)\n",
    "    end\n",
    "    return r\n",
    "end\n",
    "\n",
    "\"\"\"\n",
    "    dirmult_logpdf(X, α)\n",
    "    \n",
    "Compute the log-pdf of Dirichlet-multinomial distribution with parameter `α` \n",
    "at each data point in `X`. Each column of `X` is one data point.\n",
    "\"\"\"\n",
    "function dirmult_logpdf(X::Matrix, α::Vector)\n",
    "    r = zeros(size(X, 2))\n",
    "    dirmult_logpdf!(r, X, α)\n",
    "    #@show r\n",
    "    return sum(r)\n",
    "end"
   ]
  },
  {
   "cell_type": "code",
   "execution_count": 132,
   "metadata": {},
   "outputs": [
    {
     "name": "stdout",
     "output_type": "stream",
     "text": [
      "here! i = 8here! i = 16here! i = 16here! i = 8here! i = 16here! i = 8here! i = 16here! i = 56here! i = 56here! i = 8here! i = 56here! i = 56here! i = 8here! i = 16here! i = 24here! i = 8here! i = 24here! i = 16here! i = 48here! i = 48here! i = 16here! i = 8here! i = 16here! i = 8here! i = 56here! i = 56here! i = 56here! i = 16here! i = 16here! i = 8here! i = 64here! i = 16here! i = 16here! i = 16here! i = 48here! i = 8a = [0.0, 0.0318719, 4.58746, 13.6705, 11.1672, 2.24995, 0.0584452, 0.0, 0.0, 0.939267, 13.3983, 13.5455, 12.6172, 10.9621, 0.487423, 0.0, 0.0, 3.82971, 14.9272, 4.15056, 2.32121, 13.2102, 3.28826, 0.0, 0.0, 5.42796, 13.2041, 1.05872, 0.10632, 9.47757, 6.98971, 0.0, 0.0, 5.65154, 12.3466, 0.376213, 0.0909947, 8.90659, 7.77979, 0.0, 0.0, 3.35362, 14.0826, 1.25063, 0.969034, 11.6721, 6.55488, 0.0, 0.0, 0.681192, 13.6172, 10.8402, 10.7672, 13.9865, 2.37487, 0.0, 0.0, 0.0189598, 4.61741, 14.1105, 13.8349, 5.34713, 0.181637, 0.0]\n",
      "X[:, 1] = [0, 0, 0, 4, 13, 16, 16, 3, 0, 0, 8, 16, 9, 12, 16, 4, 0, 7, 16, 3, 3, 15, 13, 0, 0, 9, 15, 14, 16, 16, 6, 0, 0, 1, 8, 7, 12, 15, 0, 0, 0, 0, 0, 0, 13, 10, 0, 0, 0, 0, 0, 3, 15, 6, 0, 0, 0, 0, 0, 5, 15, 4, 0, 0]\n"
     ]
    },
    {
     "data": {
      "text/plain": [
       "64-element Array{Int64,1}:\n",
       "  0\n",
       "  0\n",
       "  0\n",
       "  4\n",
       " 13\n",
       " 16\n",
       " 16\n",
       "  3\n",
       "  0\n",
       "  0\n",
       "  8\n",
       " 16\n",
       "  9\n",
       "  ⋮\n",
       " 15\n",
       "  6\n",
       "  0\n",
       "  0\n",
       "  0\n",
       "  0\n",
       "  0\n",
       "  5\n",
       " 15\n",
       "  4\n",
       "  0\n",
       "  0"
      ]
     },
     "execution_count": 132,
     "metadata": {},
     "output_type": "execute_result"
    }
   ],
   "source": [
    "digit = 0\n",
    "a = vec(mle[:,digit + 1])\n",
    "dirmult_logpdf(X,a) \n",
    "size(X)\n",
    "dirmult_logpdf(vec(X[:,1]),a)\n",
    "\n",
    "length(X[:,1])\n",
    "@show a\n",
    "@show X[:,1]"
   ]
  },
  {
   "cell_type": "markdown",
   "metadata": {},
   "source": [
    "## Q4\n",
    "\n",
    "Read in `optdigits.tra`, the training set of 3823 handwritten digits. Each row contains the 64 counts of a digit and the last element (65th element) indicates what digit it is. For grading purpose, evaluate the total log-likelihood of this data at parameter values $\\alpha=(1,\\ldots,1)$ using your function in Q3."
   ]
  },
  {
   "cell_type": "code",
   "execution_count": 131,
   "metadata": {},
   "outputs": [
    {
     "name": "stdout",
     "output_type": "stream",
     "text": [
      "  0.014736 seconds (10.96 k allocations: 2.413 MiB)\n"
     ]
    },
    {
     "data": {
      "text/plain": [
       "-638817.993292528"
      ]
     },
     "execution_count": 131,
     "metadata": {},
     "output_type": "execute_result"
    }
   ],
   "source": [
    "trainset = readcsv(\"optdigits.tra\", Int)\n",
    "digits = trainset[:, end]\n",
    "counts = trainset[:, 1:64]'\n",
    "α = ones(size(counts,1))\n",
    "\n",
    "# the total log-likelihood\n",
    "@time dirmult_logpdf(counts, α)"
   ]
  },
  {
   "cell_type": "markdown",
   "metadata": {},
   "source": [
    "## Q5\n",
    "\n",
    "Derive the score function $\\nabla L(\\alpha)$, observed information matrix $-d^2L(\\alpha)$, and Fisher information matrix $\\mathbf{E}[-d^2L(\\alpha)]$ for the Dirichlet-multinomial distribution.\n",
    "\n",
    "Comment on why Fisher scoring method is inefficient for computing MLE in this example."
   ]
  },
  {
   "cell_type": "markdown",
   "metadata": {},
   "source": [
    "**question 5 - $\\nabla L(\\alpha)$** \n",
    "\n",
    "Given \n",
    "\n",
    "$$\n",
    "L(\\alpha) =  \\ln \\binom{|\\mathbf{x}|}{\\mathbf{x}} +  \\sum_{j=1}^d [\\ln \\Gamma(\\alpha_j + x_{j}) - \\ln \\Gamma(\\alpha_j)] -  [\\ln \\Gamma(|\\alpha|+|\\mathbf{x}|) - \\ln \\Gamma(|\\alpha|)].\n",
    "$$\n",
    "\n",
    "The score function $\\nabla L(\\alpha)$ is a vector with entry\n",
    "\n",
    "$$\n",
    "\\nabla L(\\alpha) = \\frac{\\partial}{\\partial \\alpha_j}L(\\alpha)= \\sum_{i=1}^n  [ \\psi (\\alpha_j + x_{ij}) - \\psi (\\alpha_j)] - \\sum_{i=1}^n [\\psi(|\\alpha|+|\\mathbf{x}_i|) - \\psi(|\\alpha|)].\n",
    "$$\n",
    "\n",
    "$\\psi(x)=\\frac{d}{dx}\\ln\\big(\\Gamma(x)\\big)=\\frac{\\Gamma'(x)}{\\Gamma(x)}$ is the digamma function.\n"
   ]
  },
  {
   "cell_type": "markdown",
   "metadata": {},
   "source": [
    "**question 5- observed information matrix $ -d^2L(\\alpha)$** \n",
    "\n",
    "Observed information matrix $-d^2L(\\alpha)$ is negative Hessian matrix, \n",
    "\n",
    "$$\n",
    "H = \\begin{bmatrix}\n",
    "  \\dfrac{\\partial^2 f}{\\partial x_1^2} & \\dfrac{\\partial^2 f}{\\partial x_1\\,\\partial x_2} & \\cdots & \\dfrac{\\partial^2 f}{\\partial x_1\\,\\partial x_n} \\\\[2.2ex]\n",
    "  \\dfrac{\\partial^2 f}{\\partial x_2\\,\\partial x_1} & \\dfrac{\\partial^2 f}{\\partial x_2^2} & \\cdots & \\dfrac{\\partial^2 f}{\\partial x_2\\,\\partial x_n} \\\\[2.2ex]\n",
    "  \\vdots & \\vdots & \\ddots & \\vdots \\\\[2.2ex]\n",
    "  \\dfrac{\\partial^2 f}{\\partial x_n\\,\\partial x_1} & \\dfrac{\\partial^2 f}{\\partial x_n\\,\\partial x_2} & \\cdots & \\dfrac{\\partial^2 f}{\\partial x_n^2}\n",
    "\\end{bmatrix}\n",
    "$$\n",
    "\n",
    "To take the second derivative of log-gamma function we need to deal with polygamma function: https://en.wikipedia.org/wiki/Polygamma_function\n",
    "\n",
    "$$\n",
    "\\psi^{(m)}(x) := \\frac{d^m}{dx^m} \\psi(x) = \\frac{d^{m+1}}{dx^{m+1}} \n",
    "$$\n",
    "\n",
    "With the gradient calculated already, the diagonal entries of Hessian matrix contain polygamma function from both summations, and the off-diagonal entries contain polygamma function from only the second summation. $\\psi^{(1)}$ is so-called trigamma function.\n",
    "\n",
    "$$H_{jj} = \\dfrac{\\partial^2 L(\\alpha)}{\\partial \\alpha_j^2} =\\sum_{i=1}^n  [ \\psi^{(1)} (\\alpha_j + x_{ij}) - \\psi^{(1)} (\\alpha_j)] - \\sum_{i=1}^n [\\psi^{(1)}(|\\alpha|+|\\mathbf{x}_i|) - \\psi^{(1)}(|\\alpha|)] $$\n",
    "$$ H_{ji} = \\dfrac{\\partial^2 L(\\alpha)}{\\partial \\alpha_j \\partial \\alpha_i} = - \\sum_{i=1}^n [\\psi^{(1)}(|\\alpha|+|\\mathbf{x}_i|) - \\psi^{(1)}(|\\alpha|)] ,j \\neq i, \\text{the off-diagonals are constant}$$\n",
    "\n",
    "So the Hessian matrix is in a format that we can rewrite it by a diagnoal matrix subtracting a rank-one matrix with all entries equal to $\\sum_{i=1}^n [\\psi^{(1)}(|\\alpha|+|\\mathbf{x}_i|) - \\psi^{(1)}(|\\alpha|)]$.\n",
    "\n",
    "Polygamma function has a property that enables us to simplify the summation $\\sum_{i=1}^n  [ \\psi^{(1)} (\\alpha_j + x_{ij}) - \\psi^{(1)} (\\alpha_j)] $ and $\\sum_{i=1}^n [\\psi^{(1)}(|\\alpha|+|\\mathbf{x}_i|) - \\psi^{(1)}(|\\alpha|)]$: its recurrence relation as below\n",
    "\n",
    "$$\n",
    "\\psi^{(m)}(x+1)= \\psi^{(m)}(x) + \\frac{(-1)^m\\,m!}{x^{m+1}}\n",
    "$$\n",
    "\n",
    "Then we have\n",
    "\n",
    "$$\n",
    "\\psi^{(1)} (\\alpha_j + x_{ij}) - \\psi^{(1)} (\\alpha_j) =  \\sum_{k = 1}^{k = x_{ij} - 1} - \\frac{1}{ (\\alpha_j + k)^2}\n",
    "$$\n",
    "\n",
    "$$\n",
    "\\psi^{(1)}(|\\alpha|+|\\mathbf{x}_i|) - \\psi^{(1)}(|\\alpha|) = \\sum_{k = 1}^{k = |\\mathbf{x}_i| - 1} - \\frac{1}{ (\\alpha_j + k)^2}\n",
    "$$\n",
    "\n",
    "In the end,\n",
    "$$\n",
    "-d^2L(\\alpha) = - H = \\mathbf{D} - c \\mathbf{1}\\mathbf{1}^T\n",
    "$$\n",
    "where $\\mathbf{1}$ is all-one vector. Diagonal matrix $\\mathbf{D}$ has entries $\\mathbf{D}_{j} = \\sum_{i=1}^n \\sum_{k = 1}^{k = x_{ij} - 1}  \\frac{1}{ (\\alpha_j + k)^2}$, and $c =  \\sum_{i=1}^n \\sum_{k = 1}^{k = |\\mathbf{x}_i| - 1}  \\frac{1}{ (|\\alpha| + k)^2}$"
   ]
  },
  {
   "cell_type": "markdown",
   "metadata": {},
   "source": [
    "**3** Fisher information matrix $FI = \\mathbf{E}[-d^2L(\\alpha)]$\n",
    "$$\n",
    "FI = \\mathbf{E}[\\mathbf{D}] - c \\mathbf{1}\\mathbf{1}^T\n",
    "$$\n",
    "\n",
    "$\\mathbf{E}[\\mathbf{D}]$ is not easy to evaluate. So we turn to Newton's method."
   ]
  },
  {
   "cell_type": "markdown",
   "metadata": {},
   "source": [
    "## Q6\n",
    "\n",
    "What structure does the observed information matrix possess that can facilitate the evaluation of the Newton direction? Is the observed information matrix always positive definite? What remedy can we take if it fails to be positive definite? (Hint: HW1 Q6.)"
   ]
  },
  {
   "cell_type": "markdown",
   "metadata": {},
   "source": [
    "**question 6** The \"Diagonal matrix - rank 1 matrix\" structure of observed information matrix makes it easier to get its inverse matrix in the Newton's method. "
   ]
  },
  {
   "cell_type": "markdown",
   "metadata": {},
   "source": [
    "A matrix is P.D. if and only if all of its upper left determinants are positive. By **matrix determinant lemma**,\n",
    "\n",
    "$$\n",
    "det(-d^2L(\\alpha)) = det(\\mathbf{D})det(1 - c \\sum_j \\mathbf{D}_j^{-1}) = (\\Pi_j \\mathbf{D}_j )(1 - c \\sum_j \\mathbf{D}_j^{-1})\n",
    "$$\n",
    "Since $\\mathbf{D}_j > 0$ for $j = 1 \\dots d$, the matrix is positive definite if and only if $c < [\\sum_j \\mathbf{D}_j^{-1}]^{-1}$. It is not easy see whether this inequality always holds. To be save, if it is not true, we can shrink make $c = 0.99 \\times [\\sum_j \\mathbf{D}_j^{-1}]^{-1}$. In the Newton's method implemented in later question, if the inequality ever fails to hold, a notice will be printed.\n",
    "\n"
   ]
  },
  {
   "cell_type": "markdown",
   "metadata": {},
   "source": [
    "## Q7\n",
    "\n",
    "Discuss how to choose a good starting point. Implement this as the default starting value in your function below. (Hint: Method of moment estimator may furnish a good starting point.)"
   ]
  },
  {
   "cell_type": "markdown",
   "metadata": {},
   "source": [
    "**question 7** The method of moment estimator involves equating sample moments with theoretical moments and solve the equation for parameter.\n",
    "\n",
    "$\\mathbf{E}[P_j] = \\frac{\\alpha_j}{|\\alpha|}$, sample 1th moment $= \\frac{1}{n}\\sum_{i = 1}^n \\frac{x_{ij}}{|\\mathbf{x}_i|}$, $\\mathbf{E}[P_j^2] = \\frac{\\alpha_j(\\alpha_j + 1)}{|\\alpha|(|\\alpha| + 1)}$, sample 2nd moment $ = \\frac{1}{n}\\sum_{i = 1}^n (\\frac{x_{ij}}{|\\mathbf{x}_i|})^2$\n",
    "\n",
    "$$\n",
    "\\frac{\\mathbf{E}[P_j^2]}{\\mathbf{E}[P_j]} = \\frac{\\alpha_j + 1}{|\\mathbf{\\alpha} + 1|} = \\frac{\\sum_{i = 1}^n (\\frac{x_{ij}}{|\\mathbf{x}_i|})^2}{\\sum_{i = 1}^n \\frac{x_{ij}}{|\\mathbf{x}_i|}}\n",
    "$$\n",
    "\n",
    "Thus \n",
    "$$\n",
    "\\sum_{j = 1}^d \\frac{\\mathbf{E}[P_j^2]}{\\mathbf{E}[P_j]} = \\sum_{j = 1}^d \\frac{\\mathbf{E}[P_j^2]}{\\mathbf{E}[P_j]} = \\frac{|\\mathbf{\\alpha}| + d}{|\\mathbf{\\alpha}| + 1} = \\sum_{j = 1}^d \\frac{\\sum_{i = 1}^n (\\frac{x_{ij}}{|\\mathbf{x}_i|})^2}{\\sum_{i = 1}^n \\frac{x_{ij}}{|\\mathbf{x}_i|}}\n",
    "$$\n",
    "Now we can solve for $|\\mathbf{\\alpha}|,  |\\mathbf{\\alpha}| = \\frac{d - k}{k - 1} = |\\mathbf{\\alpha}| ^{(0)}$, where $k = \\sum_{j = 1}^d \\frac{\\sum_{i = 1}^n (\\frac{x_{ij}}{|\\mathbf{x}_i|})^2}{\\sum_{i = 1}^n \\frac{x_{ij}}{|\\mathbf{x}_i|}}$\n",
    "\n",
    "From $\\alpha_j = \\mathbf{E}[P_j] \\times |\\alpha|$ we can take $\\frac{\\sum_{i = 1}^n x_{ij}}{\\sum_{i=1}^n |\\mathbf{x}_i|}$ as a weight for $\\alpha_j$, so to initialize \n",
    "$$\n",
    " \\alpha_j^{(0)} =  |\\alpha|^{(0)}\\frac{\\sum_{i = 1}^n x_{ij}}{\\sum_{i=1}^n |\\mathbf{x}_i|}\n",
    "$$\n"
   ]
  },
  {
   "cell_type": "markdown",
   "metadata": {},
   "source": [
    "By **Sherman-Morrison formula** \n",
    "$$\n",
    "\\begin{align}\n",
    "[-d^2L(\\alpha)]^{-1} & =  [\\mathbf{D} - c \\mathbf{1}\\mathbf{1}^T]^{-1} \\\\\n",
    "& = \\mathbf{D}^{-1} + \\frac{1}{c^{-1} - \\sum_j \\mathbf{D}_j^{-1}} \\mathbf{D}^{-1} \\mathbf{1}\\mathbf{1}^T \\mathbf{D}^{-1} \n",
    "\\end{align}\n",
    "$$\n",
    "\n"
   ]
  },
  {
   "cell_type": "code",
   "execution_count": 3,
   "metadata": {},
   "outputs": [
    {
     "name": "stdout",
     "output_type": "stream",
     "text": [
      "typeof(dirmult_startingvalue_mom(counts)) = Array{Float64,1}\n",
      "(typeof(t0), typeof(α)) = (Array{Float64,1}, Array{Float64,1})\n"
     ]
    },
    {
     "ename": "LoadError",
     "evalue": "\u001b[91mUndefVarError: dirmult_score not defined\u001b[39m",
     "output_type": "error",
     "traceback": [
      "\u001b[91mUndefVarError: dirmult_score not defined\u001b[39m",
      "",
      "Stacktrace:",
      " [1] \u001b[1minclude_string\u001b[22m\u001b[22m\u001b[1m(\u001b[22m\u001b[22m::String, ::String\u001b[1m)\u001b[22m\u001b[22m at \u001b[1m./loading.jl:522\u001b[22m\u001b[22m"
     ]
    }
   ],
   "source": [
    "#Pkg.add(\"SpecialFunctions\")\n",
    "\n",
    "function dirmult_startingvalue_mom(X::Matrix)\n",
    "    \n",
    "    d, n = size(X)\n",
    "    αsum_ini = ones(64)\n",
    "    \n",
    "    vec = zeros(n)\n",
    "    k = 0.0\n",
    "    \n",
    "    for j in 1:d\n",
    "        \n",
    "        vec = X[j,:]'./ sum(X, 1)\n",
    "        num = sum(vec.^2)\n",
    "        denum = sum(vec)\n",
    "    \n",
    "        if denum > 0\n",
    "            k += num / denum\n",
    "        end\n",
    "    end\n",
    "\n",
    "    αsum_ini = (d - k) / (k - 1.0)\n",
    "\n",
    "    grandsum = sum(X)\n",
    "    \n",
    "    α_ini = zeros(Float64, d)\n",
    "    \n",
    "    for i in 1:d\n",
    "        α_ini[i] = αsum_ini * sum(X, 2)[i] / grandsum\n",
    "    end\n",
    "\n",
    "    return α_ini\n",
    "end\n",
    "\n",
    "@show typeof(dirmult_startingvalue_mom(counts))\n",
    "t0 = dirmult_startingvalue_mom(counts)\n",
    "α = ones(size(counts,1))\n",
    "@show typeof(t0), typeof(α)\n",
    "\n",
    "dirmult_score(counts, t0)\n",
    "\n"
   ]
  },
  {
   "cell_type": "markdown",
   "metadata": {},
   "source": [
    "## Q8\n",
    "\n",
    "Write a function for finding MLE of Dirichlet-multinomial distribution given iid observations $\\mathbf{x}_1,\\ldots,\\mathbf{x}_n$, using the Newton's method. "
   ]
  },
  {
   "cell_type": "markdown",
   "metadata": {},
   "source": [
    "**question 8** First need to write functions to evaluate score function and observed information matrix for Dirichlet-multinomial distribution, and second, get the starting point."
   ]
  },
  {
   "cell_type": "code",
   "execution_count": 4,
   "metadata": {},
   "outputs": [
    {
     "data": {
      "text/plain": [
       "dirmult_score (generic function with 2 methods)"
      ]
     },
     "execution_count": 4,
     "metadata": {},
     "output_type": "execute_result"
    }
   ],
   "source": [
    "#Pkg.add(\"SpecialFunctions\")\n",
    "using SpecialFunctions\n",
    "\n",
    "function dirmult_score(x::Vector, α::Vector)\n",
    "    \n",
    "    score = zeros(length(α))\n",
    "    sumx = sum(x)\n",
    "    sumα = sum(α)\n",
    "    \n",
    "    for j in 1:length(x)\n",
    "        #println(\"length(x) is\", length(x))\n",
    "        score[j] = digamma(α[j] + x[j]) - digamma(α[j]) \n",
    "    end\n",
    "    \n",
    "    common_term = digamma(sumx + sumα) - digamma(sumα)\n",
    "\n",
    "    score .= score - common_term\n",
    "    return score\n",
    "end\n",
    "\n",
    "function dirmult_score!(s::Vector, X::Matrix, α::Vector)\n",
    "    d, n = size(X)\n",
    "    for i in 1:d\n",
    "        for j in 1:n\n",
    "            s[i] += dirmult_score(X[:, j], α)[i]\n",
    "        end \n",
    "    end\n",
    "    return s\n",
    "end\n",
    "\n",
    "\n",
    "function dirmult_score(X::Matrix, α::Vector)\n",
    "    s = zeros(size(X, 1))\n",
    "    dirmult_score!(s, X, α)\n",
    "    return s\n",
    "end\n"
   ]
  },
  {
   "cell_type": "code",
   "execution_count": 5,
   "metadata": {},
   "outputs": [
    {
     "data": {
      "text/plain": [
       "dirmult_obsinfo (generic function with 2 methods)"
      ]
     },
     "execution_count": 5,
     "metadata": {},
     "output_type": "execute_result"
    }
   ],
   "source": [
    "using SpecialFunctions\n",
    "\n",
    "function dirmult_obsinfo(x::Vector, α::Vector)\n",
    "    \n",
    "    diag_matrix = zeros(length(α))\n",
    "    sumx = sum(x)\n",
    "    sumα = sum(α)\n",
    "    \n",
    "    for i in 1:length(x)\n",
    "        diag_matrix[i] = trigamma(α[i]) - trigamma(α[i] + x[i]) \n",
    "    end\n",
    "    \n",
    "    constant_term = trigamma(sumα) - trigamma(sumx + sumα) \n",
    "    return diag_matrix, constant_term\n",
    "end\n",
    "\n",
    "function dirmult_obsinfo!(obsinfo::Vector, X::Matrix, α::Vector)\n",
    "    \n",
    "    constant = 0.0\n",
    "    for j in 1:size(X, 2)\n",
    "        for i in 1:size(X, 1)\n",
    "            obsinfo[i] += dirmult_obsinfo(X[:, j], α)[1][i]\n",
    "        end \n",
    "        constant += dirmult_obsinfo(X[:, j], α)[2]\n",
    "    end\n",
    "    return obsinfo, constant\n",
    "end\n",
    "\n",
    "\n",
    "function dirmult_obsinfo(X::Matrix, α::Vector)\n",
    "    obsinfo = zeros(size(X, 1))\n",
    "    dirmult_obsinfo!(obsinfo, X, α)\n",
    "end\n"
   ]
  },
  {
   "cell_type": "code",
   "execution_count": 71,
   "metadata": {},
   "outputs": [
    {
     "name": "stdout",
     "output_type": "stream",
     "text": [
      "iteration 1, loglike = -37469.06702100786\n",
      "iteration 2, loglike = -37462.83923113063\n",
      "iteration 3, loglike = -37462.32591388191\n",
      "iteration 4, loglike = -37461.25827371131\n",
      "iteration 5, loglike = -37457.29898974438\n",
      "iteration 6, loglike = -37447.5480391979\n",
      "iteration 7, loglike = -37434.93948110487\n",
      "iteration 8, loglike = -37422.944592434855\n",
      "iteration 9, loglike = -37413.67300104532\n",
      "iteration 10, loglike = -37407.74896318738\n",
      "iteration 11, loglike = -37404.76335430404\n",
      "iteration 12, loglike = -37403.779554762674\n",
      "iteration 13, loglike = -37403.72661260619\n",
      "iteration 14, loglike = -37403.65433733234\n",
      "iteration 15, loglike = -37402.87065998386\n",
      "iteration 16, loglike = -37400.99113454592\n",
      "iteration 17, loglike = -37397.92813664644\n",
      "iteration 18, loglike = -37393.84196918462\n",
      "iteration 19, loglike = -37389.07070752113\n",
      "iteration 20, loglike = -37384.0512590213\n",
      "iteration 21, loglike = -37379.24107451769\n",
      "iteration 22, loglike = -37375.04801811896\n",
      "iteration 23, loglike = -37371.77458302039\n",
      "iteration 24, loglike = -37369.581538927836\n",
      "iteration 25, loglike = -37368.47498175043\n",
      "iteration 26, loglike = -37368.31907112848\n",
      "iteration 27, loglike = -37368.31926544364\n",
      "  2.954708 seconds (4.27 M allocations: 1.337 GiB, 2.34% gc time)\n"
     ]
    },
    {
     "data": {
      "text/plain": [
       "(-37368.31926544364, 26, [0.0, 0.0318719, 4.58746, 13.6705, 11.1672, 2.24995, 0.0584452, 0.0, 0.0, 0.939267  …  2.37487, 0.0, 0.0, 0.0189598, 4.61741, 14.1105, 13.8349, 5.34713, 0.181637, 0.0], [0.0, 26.241, 0.270343, 0.304147, 0.105527, 0.201684, 4.72773, 0.0, 0.0, 0.706559  …  -0.0349898, 0.0, 0.0, 7.1146, 0.343714, 0.364767, 0.324929, -0.208318, -0.05869, 0.0], [0.0 0.0 … 0.0 0.0; 0.0 270247.0 … -0.574381 0.0; … ; 0.0 -0.574381 … 45182.4 0.0; 0.0 0.0 … 0.0 0.0])"
      ]
     },
     "execution_count": 71,
     "metadata": {},
     "output_type": "execute_result"
    }
   ],
   "source": [
    "\"\"\"\n",
    "    dirmult_newton(X)\n",
    "\n",
    "Find the MLE of Dirichlet-multinomial distribution using Newton's method.\n",
    "\n",
    "# Argument\n",
    "* `X`: an `n`-by-`d` matrix of counts; each column is one data point.\n",
    "\n",
    "# Optional argument  \n",
    "* `alpha0`: a `d` vector of starting point (optional). \n",
    "* `maxiters`: the maximum allowable Newton iterations (default 100). \n",
    "* `tolfun`: the tolerance for  relative change in objective values (default 1e-6). \n",
    "\n",
    "# Output\n",
    "* `maximum`: the log-likelihood at MLE.   \n",
    "* `estimate`: the MLE. \n",
    "* `gradient`: the gradient at MLE. \n",
    "* `hessian`: the Hessian at MLE. \n",
    "* `se`: a `d` vector of standard errors. \n",
    "* `iterations`: the number of iterations performed.\n",
    "\"\"\"\n",
    "function dirmult_newton(X::Matrix;\n",
    "            printout = false,\n",
    "            maxiters::Int = 100, tolfun::Float64 = 1e-6,\n",
    "            α0::Vector{Float64} = dirmult_startingvalue_mom(X))\n",
    "    \n",
    "    rowindex = find(sum(X, 2))\n",
    "    colind = find(sum(X, 1))\n",
    "    X = X[rowindex, colind] \n",
    "     \n",
    "    d, n = size(X)\n",
    "\n",
    "    \n",
    "    # set default starting point from Q7\n",
    "    α = α0[rowindex]\n",
    "    αnew = similar(α)\n",
    "    \n",
    "    # preallocation: score, obsinfo diagonals & constant, \n",
    "    ∇ = zeros(d)\n",
    "    diagonals = zeros(d)\n",
    "    invdiagonals = zeros(d)\n",
    "    \n",
    "    outerproduct = zeros(d, d)\n",
    "    newton_direction = zeros(d)\n",
    "    \n",
    "    constantC = 0.0\n",
    "    invconstantC = 0.0\n",
    "    loglike_new = 0.0\n",
    "    \n",
    "\n",
    "    loglike_loop = dirmult_logpdf(X, α)\n",
    "    \n",
    "    # Newton loop\n",
    "    num_iter = 0\n",
    "    for iter in 1:maxiters\n",
    "        \n",
    "        ###############evaluate gradient (score)\n",
    "        dirmult_score!(∇, X, α) #64 element array \n",
    "        \n",
    "        # compute Newton's direction\n",
    "        ############### first get the P.D. approximation for obs info\n",
    "        ############### obs info\n",
    "        diagoals, constantC = dirmult_obsinfo!(diagonals, X, α)\n",
    "        invdiagonals .= 1.0 ./ diagoals\n",
    "        invconstantC = 1.0 / constantC\n",
    "        \n",
    "        tmp = sum(invdiagonals)\n",
    "        if invconstantC <= tmp\n",
    "            invconstantC = 1.01 * tmp\n",
    "            print(\"reset constant C\")\n",
    "        end\n",
    "        \n",
    "        # now A = D - c 11'\n",
    "        #the newton direction = A^(-1) * score, solve linear system \n",
    "        \n",
    "        newton_direction .= invdiagonals .* ∇ .+ \n",
    "                A_mul_Bt!(outerproduct, invdiagonals, invdiagonals) * \n",
    "                ∇ /\n",
    "                (invconstantC - tmp)\n",
    "\n",
    "        # line search loop\n",
    "        step = 1.0\n",
    "        \n",
    "        # constrain alpha has all postive elements \n",
    "        for i in eachindex(α)       \n",
    "            if newton_direction[i] < 0\n",
    "                step = min(- α[i] / newton_direction[i] * 0.99, step)\n",
    "            end\n",
    "        end\n",
    "        \n",
    "        for lsiter in 1:10\n",
    "            \n",
    "            αnew .= α .+ step .* newton_direction\n",
    "            loglike_new = dirmult_logpdf(X, αnew)\n",
    "         \n",
    "            if loglike_new > loglike_loop\n",
    "                break\n",
    "            end\n",
    "            \n",
    "            if lsiter < 10\n",
    "                step /= 2.0\n",
    "            end\n",
    "        end\n",
    "        \n",
    "        copy!(α, αnew)\n",
    "        \n",
    "        loglike_old = loglike_loop\n",
    "        loglike_loop = loglike_new\n",
    "\n",
    "        if printout\n",
    "            println(\"iteration \", iter, \", loglike = \", loglike_new)\n",
    "        end\n",
    "        \n",
    "        # check convergence criterion\n",
    "        if abs(loglike_new - loglike_old) < tolfun * (abs(loglike_old) + 1)\n",
    "            break;\n",
    "        end\n",
    "        \n",
    "        num_iter += 1  \n",
    "    end\n",
    "    \n",
    "        lastα = zeros(length(α0))\n",
    "        lastα[rowindex] = α\n",
    "    \n",
    "        last∇ = zeros(length(α0))\n",
    "        last∇[rowindex] = dirmult_score(X, α)\n",
    "    \n",
    "        obsinfo = zeros(length(α0), length(α0))\n",
    "        diags, c = dirmult_obsinfo!(diagonals, X, α) \n",
    "        obsinfo[rowindex, rowindex] = Diagonal(diags) - c\n",
    "    \n",
    "        return loglike_new, num_iter, lastα, last∇, obsinfo\n",
    "end\n",
    "trainset = readcsv(\"optdigits.tra\", Int) \n",
    "X = trainset[trainset[:, end] .== 0, 1:64]\n",
    "X = X'\n",
    "@time dirmult_newton(X; printout = true,tolfun=1e-8,maxiters = 100)"
   ]
  },
  {
   "cell_type": "markdown",
   "metadata": {},
   "source": [
    "## Q9\n",
    "\n",
    "Read in `optdigits.tra`, the training set of 3823 handwritten digits. Find the MLE for the subset of digit 0, digit 1, ..., and digit 9 separately using your function. "
   ]
  },
  {
   "cell_type": "markdown",
   "metadata": {},
   "source": [
    "## Q10\n",
    "\n",
    "As $\\alpha / |\\alpha| \\to \\mathbf{p}$, the Dirichlet-multinomial distribution converges to a multinomial with parameter $\\mathbf{p}$. Therefore multinomial can be considered as a special Dirichlet-multinomial with $|\\alpha|=\\infty$. Perform a likelihood ratio test (LRT) whether Dirichlet-multinomial offers a better fit than multinomial for digits 0, 1, ..., 9 respectively."
   ]
  },
  {
   "cell_type": "markdown",
   "metadata": {},
   "source": [
    "**Question 9 and 10**"
   ]
  },
  {
   "cell_type": "code",
   "execution_count": null,
   "metadata": {},
   "outputs": [],
   "source": []
  },
  {
   "cell_type": "code",
   "execution_count": 148,
   "metadata": {},
   "outputs": [
    {
     "data": {
      "text/plain": [
       "303"
      ]
     },
     "execution_count": 148,
     "metadata": {},
     "output_type": "execute_result"
    }
   ],
   "source": [
    " X = trainset[trainset[:, end] .== digit, 1:64]\n",
    "X = X'\n",
    "p = vec(sum(X,2))\n",
    "\n",
    "index = p .> 0\n",
    "i = 1\n",
    "Int(sum(X[index, i]))"
   ]
  },
  {
   "cell_type": "code",
   "execution_count": 155,
   "metadata": {},
   "outputs": [
    {
     "name": "stdout",
     "output_type": "stream",
     "text": [
      " 69.211964 seconds (88.98 M allocations: 28.737 GiB, 2.50% gc time)\n",
      "loglike_dm = [-37368.3, -42191.0, -39995.5, -40528.3, -43495.8, -41202.4, -37705.4, -40311.2, -43134.1, -43715.3]\n",
      "loglike_m = [-39592.2, -54039.2, -49111.5, -47089.1, -57344.1, -51713.0, -42597.3, -49473.0, -49695.9, -54577.8]\n"
     ]
    },
    {
     "data": {
      "text/plain": [
       "10-element Array{Float64,1}:\n",
       " -39592.2\n",
       " -54039.2\n",
       " -49111.5\n",
       " -47089.1\n",
       " -57344.1\n",
       " -51713.0\n",
       " -42597.3\n",
       " -49473.0\n",
       " -49695.9\n",
       " -54577.8"
      ]
     },
     "execution_count": 155,
     "metadata": {},
     "output_type": "execute_result"
    }
   ],
   "source": [
    "using Distributions\n",
    "trainset = readcsv(\"optdigits.tra\", Int) \n",
    "\n",
    "# to store the MLE results\n",
    "mle = zeros(64, 10)\n",
    "\n",
    "#to store loglikelihood from D-multinonomial fit and multinomial fit\n",
    "loglike_dm = zeros(10)\n",
    "loglike_m = zeros(10)\n",
    "\n",
    "# preallocation\n",
    "loglike = 0.0\n",
    "num_iter = 0\n",
    "lastα = zeros(64)\n",
    "last∇ = zeros(64)\n",
    "obsinfo = zeros(64, 64)\n",
    "trainset = readcsv(\"optdigits.tra\", Int) \n",
    "\n",
    "\n",
    "@time for digit in 0:9\n",
    "    \n",
    "    X = trainset[trainset[:, end] .== digit, 1:64]\n",
    "    X = X'\n",
    "    loglike, num_iter, lastα, last∇, obsinfo = dirmult_newton(X; printout = false, tolfun=1e-8,maxiters = 100)\n",
    "    mle[:, digit + 1] = lastα\n",
    "    loglike_dm[digit + 1] = loglike\n",
    "    \n",
    "    # for fit multinomial \n",
    "    p = vec(sum(X,2)) / sum(X)\n",
    "  \n",
    "    posindex = p .> 0\n",
    "    for i in 1:size(X, 2)\n",
    "        loglike_m[digit + 1] += logpdf(Multinomial(Int(sum(X[posindex, i])),p[posindex]), \n",
    "                X[posindex, i])\n",
    "    end\n",
    "end\n",
    "\n",
    "@show loglike_dm\n",
    "@show loglike_m"
   ]
  },
  {
   "cell_type": "markdown",
   "metadata": {},
   "source": [
    "In the mutinomial fit, number of free parameters is 64 - 1 (since they have to sum up to 1), while in D-multinomial, the number of free parameters is 64. So $ 2 \\times (logL_{dm} - LogL_m)$ follows a $\\chi^2_{(1)}$ distribution. The test results are quite significant, from the output table below."
   ]
  },
  {
   "cell_type": "code",
   "execution_count": 168,
   "metadata": {},
   "outputs": [
    {
     "name": "stdout",
     "output_type": "stream",
     "text": [
      "10×5 DataFrames.DataFrame\n",
      "│ Row │ digit │ loglikelihood_dm │ loglikelihood_m │ LRT_teststatistics │\n",
      "├─────┼───────┼──────────────────┼─────────────────┼────────────────────┤\n",
      "│ 1   │ 0     │ -37368.3         │ -39592.2        │ 4447.76            │\n",
      "│ 2   │ 1     │ -42191.0         │ -54039.2        │ 23696.4            │\n",
      "│ 3   │ 2     │ -39995.5         │ -49111.5        │ 18231.8            │\n",
      "│ 4   │ 3     │ -40528.3         │ -47089.1        │ 13121.6            │\n",
      "│ 5   │ 4     │ -43495.8         │ -57344.1        │ 27696.7            │\n",
      "│ 6   │ 5     │ -41202.4         │ -51713.0        │ 21021.1            │\n",
      "│ 7   │ 6     │ -37705.4         │ -42597.3        │ 9783.87            │\n",
      "│ 8   │ 7     │ -40311.2         │ -49473.0        │ 18323.5            │\n",
      "│ 9   │ 8     │ -43134.1         │ -49695.9        │ 13123.6            │\n",
      "│ 10  │ 9     │ -43715.3         │ -54577.8        │ 21724.9            │\n",
      "\n",
      "│ Row │ LRT_pvalue │\n",
      "├─────┼────────────┤\n",
      "│ 1   │ 0.0        │\n",
      "│ 2   │ 0.0        │\n",
      "│ 3   │ 0.0        │\n",
      "│ 4   │ 0.0        │\n",
      "│ 5   │ 0.0        │\n",
      "│ 6   │ 0.0        │\n",
      "│ 7   │ 0.0        │\n",
      "│ 8   │ 0.0        │\n",
      "│ 9   │ 0.0        │\n",
      "│ 10  │ 0.0        │"
     ]
    }
   ],
   "source": [
    "# The LRT test\n",
    "LRT_pvalue = zeros(10)\n",
    "LRT_testv = zeros(10)\n",
    "\n",
    "for i in 1:10\n",
    "    LRT_testv[i] = 2 * (loglike_dm[i] - loglike_m[i])\n",
    "    LRT_pvalue[i] = ccdf(Chisq(1), LRT_testv[i])\n",
    "end\n",
    "\n",
    "using DataFrames\n",
    "result = DataFrame(digit = 0:9, \n",
    "    loglikelihood_dm = loglike_dm, loglikelihood_m = loglike_m,\n",
    "    LRT_teststatistics = LRT_testv, LRT_pvalue = LRT_pvalue)\n",
    "print(result)\n"
   ]
  },
  {
   "cell_type": "markdown",
   "metadata": {},
   "source": [
    "## Q11\n",
    "\n",
    "Now we can construct a simple Bayesian rule for handwritten digits recognition:\n",
    "$$\n",
    "\t\\mathbf{x}\t\\mapsto \\arg \\max_k \\widehat \\pi_k f(x|\\widehat \\alpha_k).\n",
    "$$\n",
    "Here we can use the proportion of digit $k$ in the training set as the prior probability $\\widehat \\pi_k$. Report the performance of your classifier on the test set of 1797 digits in `optdigits.tes`."
   ]
  },
  {
   "cell_type": "code",
   "execution_count": null,
   "metadata": {},
   "outputs": [],
   "source": []
  }
 ],
 "metadata": {
  "kernelspec": {
   "display_name": "Julia 0.6.2",
   "language": "julia",
   "name": "julia-0.6"
  },
  "language_info": {
   "file_extension": ".jl",
   "mimetype": "application/julia",
   "name": "julia",
   "version": "0.6.2"
  },
  "toc": {
   "colors": {
    "hover_highlight": "#DAA520",
    "running_highlight": "#FF0000",
    "selected_highlight": "#FFD700"
   },
   "moveMenuLeft": true,
   "nav_menu": {
    "height": "65px",
    "width": "252px"
   },
   "navigate_menu": true,
   "number_sections": false,
   "sideBar": true,
   "threshold": 4,
   "toc_cell": false,
   "toc_section_display": "block",
   "toc_window_display": false,
   "widenNotebook": false
  }
 },
 "nbformat": 4,
 "nbformat_minor": 2
}
